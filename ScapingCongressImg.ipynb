{
 "metadata": {
  "language_info": {
   "codemirror_mode": {
    "name": "ipython",
    "version": 3
   },
   "file_extension": ".py",
   "mimetype": "text/x-python",
   "name": "python",
   "nbconvert_exporter": "python",
   "pygments_lexer": "ipython3",
   "version": "3.8.5-final"
  },
  "orig_nbformat": 2,
  "kernelspec": {
   "name": "Python 3.8.5 64-bit",
   "display_name": "Python 3.8.5 64-bit",
   "metadata": {
    "interpreter": {
     "hash": "aee8b7b246df8f9039afb4144a1f6fd8d2ca17a180786b69acc140d282b71a49"
    }
   }
  }
 },
 "nbformat": 4,
 "nbformat_minor": 2,
 "cells": [
  {
   "cell_type": "code",
   "execution_count": 133,
   "metadata": {
    "tags": []
   },
   "outputs": [],
   "source": [
    "states = [\"alabama\", 'alaska',\"arizona\", \"arkansas\", \"california\", \"colorado\",'connecticut','delaware', 'florida','georgia', 'hawaii','idaho', 'illinois', 'indiana', 'iowa', 'kansas', 'kentucky', 'louisiana', 'maine', 'maryland', 'massachusetts', 'michigan', 'minnesota', 'mississippi', 'missouri','montana', 'nebraska','nevada', 'new%20hampshire', 'new%20jersey','new%20mexico', 'new%20york', 'north%20carolina', 'north%20dakota', 'ohio', 'oklahoma', 'oregon', 'pennsylvania', 'rhode%20island', 'south%20dcarolina', 'south%20dakota', 'tennessee', 'taxas', 'utah', 'vermont', 'virginia', 'washington', 'west%20virginia', 'wisconsin', 'wyoming' ]\n",
    "\n",
    "Main_url = 'https://www.congress.gov/search?searchResultViewType=expanded&q={%22congress%22:[%22116%22],%22source%22:[%22members%22],%22search%22:%22'\n",
    "back_of_Main_url = \"%22}\"\n",
    "top_images_url = 'https://congress.gov'\n",
    "Congress_dic ={}\n",
    "Congress_dic['congress_info'] = []\n",
    "id = 0\n"
   ]
  },
  {
   "cell_type": "code",
   "execution_count": 134,
   "metadata": {
    "tags": []
   },
   "outputs": [],
   "source": [
    "import requests\n",
    "import bs4\n",
    "import pandas as pd\n",
    "import numpy as np\n",
    "import json\n"
   ]
  },
  {
   "cell_type": "code",
   "execution_count": 135,
   "metadata": {},
   "outputs": [],
   "source": [
    "for state in states:\n",
    "    result = requests.get(Main_url+state+back_of_Main_url)\n",
    "    soup = bs4.BeautifulSoup(result.text, \"lxml\")\n",
    "    CongressmenList = soup.select('.expanded')\n",
    "\n",
    "\n",
    "    for Rep in CongressmenList:\n",
    "        \n",
    "        childrenA = Rep.findChildren(\"a\")\n",
    "        childrenI = Rep.findChildren(\"img\")\n",
    "        InfoDiv = childrenA[0].getText().split(\" \")\n",
    "        image = None\n",
    "\n",
    "        if( len(childrenI) > 0):\n",
    "            image = childrenI[0]['src']\n",
    "        \n",
    "        Congress_dic['congress_info'].append({\n",
    "            \"Id\": id,\n",
    "            \"Name\": InfoDiv[2] +\" \" + InfoDiv[1][:-1],\n",
    "            \"Position\": \"Representative\",\n",
    "            \"State\": state.capitalize(),\n",
    "            \"Img_url\": image\n",
    "        })\n",
    "\n",
    "        id += 1\n",
    "        \n"
   ]
  },
  {
   "cell_type": "code",
   "execution_count": 136,
   "metadata": {},
   "outputs": [],
   "source": [
    "import json\n",
    "\n",
    "with open('data.json', 'w') as fp:\n",
    "    json.dump(Congress_dic['congress_info'], fp)"
   ]
  },
  {
   "cell_type": "code",
   "execution_count": 141,
   "metadata": {},
   "outputs": [
    {
     "output_type": "execute_result",
     "data": {
      "text/plain": [
       "501"
      ]
     },
     "metadata": {},
     "execution_count": 141
    }
   ],
   "source": [
    "df = pd.read_json('data.json')\n",
    "df[\"Party\"] = \"Republican\"\n",
    "len(df)"
   ]
  },
  {
   "cell_type": "code",
   "execution_count": 140,
   "metadata": {},
   "outputs": [
    {
     "output_type": "execute_result",
     "data": {
      "text/plain": [
       "      Id                    Name        Position    State  \\\n",
       "104  104              Rick Scott  Representative  Florida   \n",
       "105  105              Ross Spano  Representative  Florida   \n",
       "106  106           Michael Waltz  Representative  Florida   \n",
       "107  107           Donna Shalala  Representative  Florida   \n",
       "108  108               W. Steube  Representative  Florida   \n",
       "109  109           Charlie Crist  Representative  Florida   \n",
       "110  110              Matt Gaetz  Representative  Florida   \n",
       "111  111  Debbie Mucarsel-Powell  Representative  Florida   \n",
       "112  112          Francis Rooney  Representative  Florida   \n",
       "113  113             Darren Soto  Representative  Florida   \n",
       "114  114             Val Demings  Representative  Florida   \n",
       "115  115               Neal Dunn  Representative  Florida   \n",
       "116  116              Al, Lawson  Representative  Florida   \n",
       "117  117              Brian Mast  Representative  Florida   \n",
       "118  118        Stephanie Murphy  Representative  Florida   \n",
       "119  119         John Rutherford  Representative  Florida   \n",
       "120  120            Lois Frankel  Representative  Florida   \n",
       "121  121                Ted Yoho  Representative  Florida   \n",
       "122  122             Marco Rubio  Representative  Florida   \n",
       "123  123          Daniel Webster  Representative  Florida   \n",
       "124  124        Frederica Wilson  Representative  Florida   \n",
       "125  125              Bill Posey  Representative  Florida   \n",
       "126  126           Vern Buchanan  Representative  Florida   \n",
       "127  127            Kathy Castor  Representative  Florida   \n",
       "128  128         Theodore Deutch  Representative  Florida   \n",
       "129  129           Gus Bilirakis  Representative  Florida   \n",
       "130  130       Schultz, Wasserma  Representative  Florida   \n",
       "131  131       Mario Diaz-Balart  Representative  Florida   \n",
       "132  132          Alcee Hastings  Representative  Florida   \n",
       "\n",
       "                                             Img_url       Party  \n",
       "104                      /img/member/s001217_200.jpg  Republican  \n",
       "105                      /img/member/s001210_200.jpg  Republican  \n",
       "106                      /img/member/w000823_200.jpg  Republican  \n",
       "107                      /img/member/s001206_200.jpg  Republican  \n",
       "108                      /img/member/s001214_200.jpg  Republican  \n",
       "109                      /img/member/c001111_200.jpg  Republican  \n",
       "110                      /img/member/g000578_200.jpg  Republican  \n",
       "111                      /img/member/m001207_200.jpg  Republican  \n",
       "112                      /img/member/r000607_200.jpg  Republican  \n",
       "113      /img/member/115_rp_fl_9_soto_darren_200.jpg  Republican  \n",
       "114                      /img/member/d000627_200.jpg  Republican  \n",
       "115        /img/member/115_rp_fl_2_dunn_neal_200.jpg  Republican  \n",
       "116                      /img/member/l000586_200.jpg  Republican  \n",
       "117      /img/member/115_rp_fl_18_mast_brian_200.jpg  Republican  \n",
       "118                      /img/member/m001202_200.jpg  Republican  \n",
       "119                      /img/member/r000609_200.jpg  Republican  \n",
       "120                      /img/member/f000462_200.jpg  Republican  \n",
       "121                      /img/member/y000065_200.jpg  Republican  \n",
       "122                      /img/member/r000595_200.jpg  Republican  \n",
       "123                      /img/member/w000806_200.jpg  Republican  \n",
       "124                      /img/member/w000808_200.jpg  Republican  \n",
       "125                      /img/member/p000599_200.jpg  Republican  \n",
       "126                      /img/member/b001260_200.jpg  Republican  \n",
       "127                      /img/member/c001066_200.jpg  Republican  \n",
       "128                      /img/member/d000610_200.jpg  Republican  \n",
       "129                      /img/member/b001257_200.jpg  Republican  \n",
       "130                      /img/member/w000797_200.jpg  Republican  \n",
       "131                      /img/member/d000600_200.jpg  Republican  \n",
       "132  /img/member/115_rp_fl_20_hastings_alcee_200.jpg  Republican  "
      ],
      "text/html": "<div>\n<style scoped>\n    .dataframe tbody tr th:only-of-type {\n        vertical-align: middle;\n    }\n\n    .dataframe tbody tr th {\n        vertical-align: top;\n    }\n\n    .dataframe thead th {\n        text-align: right;\n    }\n</style>\n<table border=\"1\" class=\"dataframe\">\n  <thead>\n    <tr style=\"text-align: right;\">\n      <th></th>\n      <th>Id</th>\n      <th>Name</th>\n      <th>Position</th>\n      <th>State</th>\n      <th>Img_url</th>\n      <th>Party</th>\n    </tr>\n  </thead>\n  <tbody>\n    <tr>\n      <th>104</th>\n      <td>104</td>\n      <td>Rick Scott</td>\n      <td>Representative</td>\n      <td>Florida</td>\n      <td>/img/member/s001217_200.jpg</td>\n      <td>Republican</td>\n    </tr>\n    <tr>\n      <th>105</th>\n      <td>105</td>\n      <td>Ross Spano</td>\n      <td>Representative</td>\n      <td>Florida</td>\n      <td>/img/member/s001210_200.jpg</td>\n      <td>Republican</td>\n    </tr>\n    <tr>\n      <th>106</th>\n      <td>106</td>\n      <td>Michael Waltz</td>\n      <td>Representative</td>\n      <td>Florida</td>\n      <td>/img/member/w000823_200.jpg</td>\n      <td>Republican</td>\n    </tr>\n    <tr>\n      <th>107</th>\n      <td>107</td>\n      <td>Donna Shalala</td>\n      <td>Representative</td>\n      <td>Florida</td>\n      <td>/img/member/s001206_200.jpg</td>\n      <td>Republican</td>\n    </tr>\n    <tr>\n      <th>108</th>\n      <td>108</td>\n      <td>W. Steube</td>\n      <td>Representative</td>\n      <td>Florida</td>\n      <td>/img/member/s001214_200.jpg</td>\n      <td>Republican</td>\n    </tr>\n    <tr>\n      <th>109</th>\n      <td>109</td>\n      <td>Charlie Crist</td>\n      <td>Representative</td>\n      <td>Florida</td>\n      <td>/img/member/c001111_200.jpg</td>\n      <td>Republican</td>\n    </tr>\n    <tr>\n      <th>110</th>\n      <td>110</td>\n      <td>Matt Gaetz</td>\n      <td>Representative</td>\n      <td>Florida</td>\n      <td>/img/member/g000578_200.jpg</td>\n      <td>Republican</td>\n    </tr>\n    <tr>\n      <th>111</th>\n      <td>111</td>\n      <td>Debbie Mucarsel-Powell</td>\n      <td>Representative</td>\n      <td>Florida</td>\n      <td>/img/member/m001207_200.jpg</td>\n      <td>Republican</td>\n    </tr>\n    <tr>\n      <th>112</th>\n      <td>112</td>\n      <td>Francis Rooney</td>\n      <td>Representative</td>\n      <td>Florida</td>\n      <td>/img/member/r000607_200.jpg</td>\n      <td>Republican</td>\n    </tr>\n    <tr>\n      <th>113</th>\n      <td>113</td>\n      <td>Darren Soto</td>\n      <td>Representative</td>\n      <td>Florida</td>\n      <td>/img/member/115_rp_fl_9_soto_darren_200.jpg</td>\n      <td>Republican</td>\n    </tr>\n    <tr>\n      <th>114</th>\n      <td>114</td>\n      <td>Val Demings</td>\n      <td>Representative</td>\n      <td>Florida</td>\n      <td>/img/member/d000627_200.jpg</td>\n      <td>Republican</td>\n    </tr>\n    <tr>\n      <th>115</th>\n      <td>115</td>\n      <td>Neal Dunn</td>\n      <td>Representative</td>\n      <td>Florida</td>\n      <td>/img/member/115_rp_fl_2_dunn_neal_200.jpg</td>\n      <td>Republican</td>\n    </tr>\n    <tr>\n      <th>116</th>\n      <td>116</td>\n      <td>Al, Lawson</td>\n      <td>Representative</td>\n      <td>Florida</td>\n      <td>/img/member/l000586_200.jpg</td>\n      <td>Republican</td>\n    </tr>\n    <tr>\n      <th>117</th>\n      <td>117</td>\n      <td>Brian Mast</td>\n      <td>Representative</td>\n      <td>Florida</td>\n      <td>/img/member/115_rp_fl_18_mast_brian_200.jpg</td>\n      <td>Republican</td>\n    </tr>\n    <tr>\n      <th>118</th>\n      <td>118</td>\n      <td>Stephanie Murphy</td>\n      <td>Representative</td>\n      <td>Florida</td>\n      <td>/img/member/m001202_200.jpg</td>\n      <td>Republican</td>\n    </tr>\n    <tr>\n      <th>119</th>\n      <td>119</td>\n      <td>John Rutherford</td>\n      <td>Representative</td>\n      <td>Florida</td>\n      <td>/img/member/r000609_200.jpg</td>\n      <td>Republican</td>\n    </tr>\n    <tr>\n      <th>120</th>\n      <td>120</td>\n      <td>Lois Frankel</td>\n      <td>Representative</td>\n      <td>Florida</td>\n      <td>/img/member/f000462_200.jpg</td>\n      <td>Republican</td>\n    </tr>\n    <tr>\n      <th>121</th>\n      <td>121</td>\n      <td>Ted Yoho</td>\n      <td>Representative</td>\n      <td>Florida</td>\n      <td>/img/member/y000065_200.jpg</td>\n      <td>Republican</td>\n    </tr>\n    <tr>\n      <th>122</th>\n      <td>122</td>\n      <td>Marco Rubio</td>\n      <td>Representative</td>\n      <td>Florida</td>\n      <td>/img/member/r000595_200.jpg</td>\n      <td>Republican</td>\n    </tr>\n    <tr>\n      <th>123</th>\n      <td>123</td>\n      <td>Daniel Webster</td>\n      <td>Representative</td>\n      <td>Florida</td>\n      <td>/img/member/w000806_200.jpg</td>\n      <td>Republican</td>\n    </tr>\n    <tr>\n      <th>124</th>\n      <td>124</td>\n      <td>Frederica Wilson</td>\n      <td>Representative</td>\n      <td>Florida</td>\n      <td>/img/member/w000808_200.jpg</td>\n      <td>Republican</td>\n    </tr>\n    <tr>\n      <th>125</th>\n      <td>125</td>\n      <td>Bill Posey</td>\n      <td>Representative</td>\n      <td>Florida</td>\n      <td>/img/member/p000599_200.jpg</td>\n      <td>Republican</td>\n    </tr>\n    <tr>\n      <th>126</th>\n      <td>126</td>\n      <td>Vern Buchanan</td>\n      <td>Representative</td>\n      <td>Florida</td>\n      <td>/img/member/b001260_200.jpg</td>\n      <td>Republican</td>\n    </tr>\n    <tr>\n      <th>127</th>\n      <td>127</td>\n      <td>Kathy Castor</td>\n      <td>Representative</td>\n      <td>Florida</td>\n      <td>/img/member/c001066_200.jpg</td>\n      <td>Republican</td>\n    </tr>\n    <tr>\n      <th>128</th>\n      <td>128</td>\n      <td>Theodore Deutch</td>\n      <td>Representative</td>\n      <td>Florida</td>\n      <td>/img/member/d000610_200.jpg</td>\n      <td>Republican</td>\n    </tr>\n    <tr>\n      <th>129</th>\n      <td>129</td>\n      <td>Gus Bilirakis</td>\n      <td>Representative</td>\n      <td>Florida</td>\n      <td>/img/member/b001257_200.jpg</td>\n      <td>Republican</td>\n    </tr>\n    <tr>\n      <th>130</th>\n      <td>130</td>\n      <td>Schultz, Wasserma</td>\n      <td>Representative</td>\n      <td>Florida</td>\n      <td>/img/member/w000797_200.jpg</td>\n      <td>Republican</td>\n    </tr>\n    <tr>\n      <th>131</th>\n      <td>131</td>\n      <td>Mario Diaz-Balart</td>\n      <td>Representative</td>\n      <td>Florida</td>\n      <td>/img/member/d000600_200.jpg</td>\n      <td>Republican</td>\n    </tr>\n    <tr>\n      <th>132</th>\n      <td>132</td>\n      <td>Alcee Hastings</td>\n      <td>Representative</td>\n      <td>Florida</td>\n      <td>/img/member/115_rp_fl_20_hastings_alcee_200.jpg</td>\n      <td>Republican</td>\n    </tr>\n  </tbody>\n</table>\n</div>"
     },
     "metadata": {},
     "execution_count": 140
    }
   ],
   "source": [
    "df[df[\"State\"] == 'Florida']"
   ]
  },
  {
   "source": [
    " df.at[122, 'Position'] = \"Senator\"\n",
    " df.at[104, 'Position'] = \"Senator\"\n",
    "\n",
    " df.at[130, 'Name'] = \"Debbie Wasserman Schultz\"\n",
    "\n",
    "demoArr = [116,118 , 113, 114,109, 127, 132, 120, 128,124,130,111,107 ]\n",
    "\n",
    "for i in demoArr:\n",
    "    df.at[i,'Party'] = \"Democrat\"\n",
    "\n",
    "import numpy as np"
   ],
   "cell_type": "code",
   "metadata": {},
   "execution_count": null,
   "outputs": []
  },
  {
   "cell_type": "code",
   "execution_count": null,
   "metadata": {},
   "outputs": [],
   "source": [
    "# Convers dataframe into a CVS file\n",
    "df.to_csv(r'CongressData.csv', index = False, header=True)"
   ]
  }
 ]
}