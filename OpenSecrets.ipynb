{
 "metadata": {
  "language_info": {
   "codemirror_mode": {
    "name": "ipython",
    "version": 3
   },
   "file_extension": ".py",
   "mimetype": "text/x-python",
   "name": "python",
   "nbconvert_exporter": "python",
   "pygments_lexer": "ipython3",
   "version": "3.8.5-final"
  },
  "orig_nbformat": 2,
  "kernelspec": {
   "name": "python3",
   "display_name": "Python 3",
   "language": "python"
  }
 },
 "nbformat": 4,
 "nbformat_minor": 2,
 "cells": [
  {
   "cell_type": "code",
   "execution_count": 10,
   "metadata": {},
   "outputs": [
    {
     "output_type": "stream",
     "name": "stdout",
     "text": [
      "{'response': {'contributors': {'@attributes': {'cand_name': 'Nancy Pelosi (D)', 'cid': 'N00007360', 'cycle': '2020', 'origin': 'Center for Responsive Politics', 'source': 'https://www.opensecrets.org/members-of-congress/contributors?cid=N00007360&cycle=2020', 'notice': \"The organizations themselves did not donate, rather the money came from the organization's PAC, its individual members or employees or owners, and those individuals' immediate families.\"}, 'contributor': [{'@attributes': {'org_name': 'University of California', 'total': '97389', 'pacs': '0', 'indivs': '97389'}}, {'@attributes': {'org_name': 'Walt Disney Co', 'total': '44261', 'pacs': '0', 'indivs': '44261'}}, {'@attributes': {'org_name': 'Kaiser Permanente', 'total': '35034', 'pacs': '0', 'indivs': '35034'}}, {'@attributes': {'org_name': 'Alphabet Inc', 'total': '32431', 'pacs': '10000', 'indivs': '22431'}}, {'@attributes': {'org_name': 'Microsoft Corp', 'total': '29704', 'pacs': '2500', 'indivs': '27204'}}, {'@attributes': {'org_name': 'Stanford University', 'total': '26754', 'pacs': '0', 'indivs': '26754'}}, {'@attributes': {'org_name': 'Facebook Inc', 'total': '25984', 'pacs': '5000', 'indivs': '20984'}}, {'@attributes': {'org_name': 'Wells Fargo', 'total': '25115', 'pacs': '5000', 'indivs': '20115'}}, {'@attributes': {'org_name': 'Amazon.com', 'total': '24158', 'pacs': '10000', 'indivs': '14158'}}, {'@attributes': {'org_name': 'State of California', 'total': '23283', 'pacs': '0', 'indivs': '23283'}}]}}}\n"
     ]
    }
   ],
   "source": [
    "# Open Secret Api Practical Use\n",
    "import requests\n",
    "res = requests.get(\n",
    "    'https://www.opensecrets.org/api/?method=candContrib&cid=N00007360&cycle=2020&apikey=30a5147e1c82a138270e591f8dfe26aa&output=json')\n",
    "print(res)"
   ]
  },
  {
   "cell_type": "code",
   "execution_count": null,
   "metadata": {},
   "outputs": [],
   "source": []
  }
 ]
}