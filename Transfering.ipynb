{
 "metadata": {
  "language_info": {
   "codemirror_mode": {
    "name": "ipython",
    "version": 3
   },
   "file_extension": ".py",
   "mimetype": "text/x-python",
   "name": "python",
   "nbconvert_exporter": "python",
   "pygments_lexer": "ipython3",
   "version": "3.8.5-final"
  },
  "orig_nbformat": 2,
  "kernelspec": {
   "name": "Python 3.8.5 64-bit",
   "display_name": "Python 3.8.5 64-bit",
   "metadata": {
    "interpreter": {
     "hash": "aee8b7b246df8f9039afb4144a1f6fd8d2ca17a180786b69acc140d282b71a49"
    }
   }
  }
 },
 "nbformat": 4,
 "nbformat_minor": 2,
 "cells": [
  {
   "source": [
    "import csv\n",
    "import json"
   ],
   "cell_type": "code",
   "metadata": {},
   "execution_count": 1,
   "outputs": []
  },
  {
   "cell_type": "code",
   "execution_count": 4,
   "metadata": {},
   "outputs": [],
   "source": [
    "def make_json(csvFilePath, jsonFilePath): \n",
    "      \n",
    "    # create a dictionary \n",
    "    data = {} \n",
    "      \n",
    "    # Open a csv reader called DictReader \n",
    "    with open(csvFilePath, encoding='utf-8') as csvf: \n",
    "        csvReader = csv.DictReader(csvf) \n",
    "          \n",
    "        # Convert each row into a dictionary  \n",
    "        # and add it to data \n",
    "        for rows in csvReader: \n",
    "              \n",
    "            # Assuming a column named 'No' to \n",
    "            # be the primary key \n",
    "            key = rows['Id'] \n",
    "            data[key] = rows \n",
    "  \n",
    "    # Open a json writer, and use the json.dumps()  \n",
    "    # function to dump data \n",
    "    with open(jsonFilePath, 'w', encoding='utf-8') as jsonf: \n",
    "        jsonf.write(json.dumps(data, indent=4)) \n",
    "          \n",
    "# Driver Code \n",
    "  \n",
    "# Decide the two file paths according to your  \n",
    "# computer system \n",
    "csvFilePath = r'CongressData.csv'\n",
    "jsonFilePath = r'CongressData.json'\n",
    "  "
   ]
  },
  {
   "cell_type": "code",
   "execution_count": 5,
   "metadata": {},
   "outputs": [],
   "source": [
    "make_json(csvFilePath, jsonFilePath)"
   ]
  },
  {
   "cell_type": "code",
   "execution_count": null,
   "metadata": {},
   "outputs": [],
   "source": []
  }
 ]
}