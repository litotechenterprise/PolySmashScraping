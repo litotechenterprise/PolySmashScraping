{
 "metadata": {
  "language_info": {
   "codemirror_mode": {
    "name": "ipython",
    "version": 3
   },
   "file_extension": ".py",
   "mimetype": "text/x-python",
   "name": "python",
   "nbconvert_exporter": "python",
   "pygments_lexer": "ipython3",
   "version": "3.8.5-final"
  },
  "orig_nbformat": 2,
  "kernelspec": {
   "name": "python3",
   "display_name": "Python 3.8.5 64-bit",
   "metadata": {
    "interpreter": {
     "hash": "aee8b7b246df8f9039afb4144a1f6fd8d2ca17a180786b69acc140d282b71a49"
    }
   }
  }
 },
 "nbformat": 4,
 "nbformat_minor": 2,
 "cells": [
  {
   "cell_type": "code",
   "execution_count": 1,
   "metadata": {
    "tags": []
   },
   "outputs": [],
   "source": [
    "import requests\n",
    "import json\n",
    "from bs4 import BeautifulSoup\n",
    "import pandas as pd\n",
    "import numpy as np\n",
    "\n",
    "# api requests\n",
    "# Senator api request\n",
    "Senator_response = requests.get(\n",
    "    'https://api.propublica.org/congress/v1/116/senate/members.json',\n",
    "    headers={'X-API-Key': 'PTmyeOwqEcHo6ZIRbr76DrAFRG649DHtwaAJAsXS'}\n",
    ")\n",
    "# House api request\n",
    "House_response = requests.get(\n",
    "    'https://api.propublica.org/congress/v1/116/house/members.json',\n",
    "    headers={'X-API-Key': 'PTmyeOwqEcHo6ZIRbr76DrAFRG649DHtwaAJAsXS'}\n",
    ")\n",
    "\n",
    "#convert responses into json\n",
    "senate_json_response = Senator_response.json()\n",
    "house_json_response = House_response.json()\n"
   ]
  },
  {
   "cell_type": "code",
   "execution_count": 2,
   "metadata": {},
   "outputs": [
    {
     "output_type": "stream",
     "name": "stdout",
     "text": [
      "102\n450\n"
     ]
    }
   ],
   "source": [
    "# Senator array\n",
    "Senate = senate_json_response['results'][0][\"members\"]\n",
    "print(len(Senate))\n",
    "# House array\n",
    "House = house_json_response['results'][0][\"members\"]    \n",
    "print(len(House))"
   ]
  },
  {
   "cell_type": "code",
   "execution_count": 3,
   "metadata": {},
   "outputs": [
    {
     "output_type": "stream",
     "name": "stdout",
     "text": [
      "552\n"
     ]
    }
   ],
   "source": [
    "#Congress Array\n",
    "Congress = Senate + House\n",
    "print(len(Congress))"
   ]
  },
  {
   "cell_type": "code",
   "execution_count": 4,
   "metadata": {},
   "outputs": [],
   "source": [
    "\n",
    "# Convert array in Dataframe\n",
    "df = pd.DataFrame(Congress)"
   ]
  },
  {
   "cell_type": "code",
   "execution_count": 5,
   "metadata": {},
   "outputs": [
    {
     "output_type": "execute_result",
     "data": {
      "text/plain": [
       "Index(['id', 'title', 'short_title', 'api_uri', 'first_name', 'middle_name',\n",
       "       'last_name', 'suffix', 'date_of_birth', 'gender', 'party',\n",
       "       'leadership_role', 'twitter_account', 'facebook_account',\n",
       "       'youtube_account', 'govtrack_id', 'cspan_id', 'votesmart_id',\n",
       "       'icpsr_id', 'crp_id', 'google_entity_id', 'fec_candidate_id', 'url',\n",
       "       'rss_url', 'contact_form', 'in_office', 'cook_pvi', 'dw_nominate',\n",
       "       'ideal_point', 'seniority', 'next_election', 'total_votes',\n",
       "       'missed_votes', 'total_present', 'last_updated', 'ocd_id', 'office',\n",
       "       'phone', 'fax', 'state', 'senate_class', 'state_rank', 'lis_id',\n",
       "       'missed_votes_pct', 'votes_with_party_pct', 'votes_against_party_pct',\n",
       "       'district', 'at_large', 'geoid'],\n",
       "      dtype='object')"
      ]
     },
     "metadata": {},
     "execution_count": 5
    }
   ],
   "source": [
    "df.keys()"
   ]
  },
  {
   "cell_type": "code",
   "execution_count": 6,
   "metadata": {},
   "outputs": [],
   "source": [
    "df = df.drop([\"rss_url\", \"missed_votes_pct\",\"votes_with_party_pct\", \"votes_against_party_pct\", \"cook_pvi\",\"total_votes\", \"total_present\",\"missed_votes\", \"at_large\", 'date_of_birth', 'next_election', 'office'], axis=1)"
   ]
  },
  {
   "cell_type": "code",
   "execution_count": 7,
   "metadata": {},
   "outputs": [],
   "source": [
    "\n",
    "df['image'] = \"None\""
   ]
  },
  {
   "cell_type": "code",
   "execution_count": 8,
   "metadata": {
    "tags": []
   },
   "outputs": [],
   "source": [
    "# States for scraping\n",
    "states = [\"alabama\", 'alaska',\"arizona\", \"arkansas\", \"california\", \"colorado\",'connecticut','delaware', 'florida','georgia', 'hawaii','idaho', 'illinois', 'indiana', 'iowa', 'kansas', 'kentucky', 'louisiana', 'maine', 'maryland', 'massachusetts', 'michigan', 'minnesota', 'mississippi', 'missouri','montana', 'nebraska','nevada', 'new%20hampshire', 'new%20jersey','new%20mexico', 'new%20york', 'north%20carolina', 'north%20dakota', 'ohio', 'oklahoma', 'oregon', 'pennsylvania', 'rhode%20island', 'south%20carolina', 'south%20dakota', 'tennessee', 'texas', 'utah', 'vermont', 'virginia', 'washington', 'west%20virginia', 'wisconsin', 'wyoming' ]\n",
    "\n",
    "Main_url = 'https://www.congress.gov/search?searchResultViewType=expanded&q={%22congress%22:[%22116%22],%22source%22:[%22members%22],%22search%22:%22'\n",
    "back_of_Main_url = \"%22}\"\n",
    "top_images_url = 'https://congress.gov'\n",
    "#reps with no photos on Congress.gov\n",
    "no_photos = []\n",
    "Congress_dic = {}\n",
    "Congress_dic['congress_info'] = [] "
   ]
  },
  {
   "cell_type": "code",
   "execution_count": 9,
   "metadata": {},
   "outputs": [],
   "source": [
    "# Checking to see if there is a picture on the website\n",
    "def CheckForImg(str):\n",
    "    try:\n",
    "        rep_Img = rep.find(\"img\")['src']\n",
    "        return True\n",
    "    except:\n",
    "        return False"
   ]
  },
  {
   "cell_type": "code",
   "execution_count": 35,
   "metadata": {},
   "outputs": [
    {
     "output_type": "execute_result",
     "data": {
      "text/plain": [
       "Index(['id', 'title', 'short_title', 'api_uri', 'first_name', 'middle_name',\n",
       "       'last_name', 'suffix', 'gender', 'party', 'leadership_role',\n",
       "       'twitter_account', 'facebook_account', 'youtube_account', 'govtrack_id',\n",
       "       'cspan_id', 'votesmart_id', 'icpsr_id', 'crp_id', 'google_entity_id',\n",
       "       'fec_candidate_id', 'url', 'contact_form', 'in_office', 'dw_nominate',\n",
       "       'ideal_point', 'seniority', 'last_updated', 'ocd_id', 'phone', 'fax',\n",
       "       'state', 'senate_class', 'state_rank', 'lis_id', 'district', 'geoid',\n",
       "       'image'],\n",
       "      dtype='object')"
      ]
     },
     "metadata": {},
     "execution_count": 35
    }
   ],
   "source": [
    "state_abrv = {\"alabama\":'AL', 'alaska':'AL',\"arizona\":'AZ', \"arkansas\":'AK', \"california\":'CA', \"colorado\":'CO','connecticut':'CT','delaware':'DE', 'florida':'FL','georgia':'GA', 'hawaii':'HI','idaho':'ID', 'illinois':'IL', 'indiana':'ID', 'iowa':'IA', 'kansas':'KS', 'kentucky':'KY', 'louisiana':'LA', 'maine':'ME', 'maryland':'MD', 'massachusetts':'MA', 'michigan':\"MI\", 'minnesota':'MN', 'mississippi':'MS', 'missouri':'MS','montana':'MT', 'nebraska':'NE','nevada':'NV', 'new%20hampshire':'NH', 'new%20jersey':'NJ','new%20mexico':'NM', 'new%20york':'NY', 'north%20carolina':'NC', 'north%20dakota':'ND', 'ohio':'OH', 'oklahoma':'OK', 'oregon':'OR', 'pennsylvania':'PA', 'rhode%20island':'RI', 'south%20carolina':'SC', 'south%20dakota':'SD', 'tennessee':'TN', 'texas':'TX', 'utah':'UT', 'vermont':'VT', 'virginia':'VA', 'washington':'WA', 'west%20virginia':'WV', 'wisconsin':'WI', 'wyoming':'WY'}\n",
    "\n",
    "df.keys()"
   ]
  },
  {
   "cell_type": "code",
   "execution_count": 41,
   "metadata": {
    "tags": []
   },
   "outputs": [],
   "source": [
    "\n",
    "# # for loop that is going thru every state\n",
    "for state in states: \n",
    "    state_res = requests.get(Main_url+state+back_of_Main_url)\n",
    "    state_soup = BeautifulSoup(state_res.text, 'html.parser')\n",
    "    Rep_results = state_soup.findAll(\"li\", {\"class\":\"expanded\"})\n",
    "\n",
    "    for rep in Rep_results:\n",
    "        photo = CheckForImg(rep)\n",
    "        rep_name = rep.find(\"span\", {\"class\":\"result-heading\"}).text.split(' ')[1:]\n",
    "        rep_index = df.loc[(df['state'] == state_abrv[state]) & (df['last_name'] == rep_name[0][:-1])].index\n",
    "        if photo:\n",
    "            df.at[rep_index, 'image'] = rep_Img = rep.find(\"img\")['src']"
   ]
  },
  {
   "cell_type": "code",
   "execution_count": 43,
   "metadata": {},
   "outputs": [
    {
     "output_type": "execute_result",
     "data": {
      "text/plain": [
       "          id                  title short_title  \\\n",
       "21   C001113     Senator, 3rd Class        Sen.   \n",
       "39   H001089     Senator, 1st Class        Sen.   \n",
       "49   K000377     Senator, 3rd Class        Sen.   \n",
       "95   V000128     Senator, 3rd Class        Sen.   \n",
       "117  B001306         Representative        Rep.   \n",
       "120  B001300         Representative        Rep.   \n",
       "132  B001303         Representative        Rep.   \n",
       "153  C001097         Representative        Rep.   \n",
       "154  C001072         Representative        Rep.   \n",
       "169  C001049         Representative        Rep.   \n",
       "188  C001087         Representative        Rep.   \n",
       "243  G000586         Representative        Rep.   \n",
       "244  G000061         Representative        Rep.   \n",
       "252  G000582  Resident Commissioner        R.C.   \n",
       "269  H001092         Representative        Rep.   \n",
       "270  H001090         Representative        Rep.   \n",
       "277  H001056         Representative        Rep.   \n",
       "282  H001072         Representative        Rep.   \n",
       "295  J000032         Representative        Rep.   \n",
       "296  J000020         Representative        Rep.   \n",
       "342  L000592         Representative        Rep.   \n",
       "354  L000570         Representative        Rep.   \n",
       "376  M001159         Representative        Rep.   \n",
       "401  N000147               Delegate        Del.   \n",
       "422  P000610               Delegate        Del.   \n",
       "429  R000600               Delegate        Del.   \n",
       "454  S001177               Delegate        Del.   \n",
       "455  S001204               Delegate        Del.   \n",
       "456  S001156         Representative        Rep.   \n",
       "499  T000479         Representative        Rep.   \n",
       "504  T000165         Representative        Rep.   \n",
       "505  T000480         Representative        Rep.   \n",
       "508  T000481         Representative        Rep.   \n",
       "511  T000484         Representative        Rep.   \n",
       "517  V000133         Representative        Rep.   \n",
       "518  V000133         Representative        Rep.   \n",
       "522  V000081         Representative        Rep.   \n",
       "530  W000797         Representative        Rep.   \n",
       "533  W000822         Representative        Rep.   \n",
       "539  W000825         Representative        Rep.   \n",
       "\n",
       "                                               api_uri first_name  \\\n",
       "21   https://api.propublica.org/congress/v1/members...  Catherine   \n",
       "39   https://api.propublica.org/congress/v1/members...     Joshua   \n",
       "49   https://api.propublica.org/congress/v1/members...       Mark   \n",
       "95   https://api.propublica.org/congress/v1/members...      Chris   \n",
       "117  https://api.propublica.org/congress/v1/members...       Troy   \n",
       "120  https://api.propublica.org/congress/v1/members...    Nanette   \n",
       "132  https://api.propublica.org/congress/v1/members...       Lisa   \n",
       "153  https://api.propublica.org/congress/v1/members...       Tony   \n",
       "154  https://api.propublica.org/congress/v1/members...      André   \n",
       "169  https://api.propublica.org/congress/v1/members...    William   \n",
       "188  https://api.propublica.org/congress/v1/members...       Rick   \n",
       "243  https://api.propublica.org/congress/v1/members...      Jesús   \n",
       "244  https://api.propublica.org/congress/v1/members...       Mike   \n",
       "252  https://api.propublica.org/congress/v1/members...  Jenniffer   \n",
       "269  https://api.propublica.org/congress/v1/members...     Kwanza   \n",
       "270  https://api.propublica.org/congress/v1/members...       Josh   \n",
       "277  https://api.propublica.org/congress/v1/members...      Jaime   \n",
       "282  https://api.propublica.org/congress/v1/members...     French   \n",
       "295  https://api.propublica.org/congress/v1/members...     Sheila   \n",
       "296  https://api.propublica.org/congress/v1/members...      Chris   \n",
       "342  https://api.propublica.org/congress/v1/members...       Andy   \n",
       "354  https://api.propublica.org/congress/v1/members...        Ben   \n",
       "376  https://api.propublica.org/congress/v1/members...      Cathy   \n",
       "401  https://api.propublica.org/congress/v1/members...    Eleanor   \n",
       "422  https://api.propublica.org/congress/v1/members...     Stacey   \n",
       "429  https://api.propublica.org/congress/v1/members...      Amata   \n",
       "454  https://api.propublica.org/congress/v1/members...   Gregorio   \n",
       "455  https://api.propublica.org/congress/v1/members...    Michael   \n",
       "456  https://api.propublica.org/congress/v1/members...      Linda   \n",
       "499  https://api.propublica.org/congress/v1/members...        Van   \n",
       "504  https://api.propublica.org/congress/v1/members...        Tom   \n",
       "505  https://api.propublica.org/congress/v1/members...    William   \n",
       "508  https://api.propublica.org/congress/v1/members...    Rashida   \n",
       "511  https://api.propublica.org/congress/v1/members...    Xochitl   \n",
       "517  https://api.propublica.org/congress/v1/members...  Jefferson   \n",
       "518  https://api.propublica.org/congress/v1/members...  Jefferson   \n",
       "522  https://api.propublica.org/congress/v1/members...      Nydia   \n",
       "530  https://api.propublica.org/congress/v1/members...     Debbie   \n",
       "533  https://api.propublica.org/congress/v1/members...     Bonnie   \n",
       "539  https://api.propublica.org/congress/v1/members...   Jennifer   \n",
       "\n",
       "        middle_name          last_name suffix gender party  ...  \\\n",
       "21             None       Cortez Masto   None      F     D  ...   \n",
       "39             None             Hawley   None      M     R  ...   \n",
       "49             None              Kelly   None      M     D  ...   \n",
       "95             None         Van Hollen   None      M     D  ...   \n",
       "117            None          Balderson   None      M     R  ...   \n",
       "120            None           Barragán   None      F     D  ...   \n",
       "132            None    Blunt Rochester   None      F     D  ...   \n",
       "153            None           Cárdenas   None      M     D  ...   \n",
       "154            None             Carson   None      M     D  ...   \n",
       "169            Lacy               Clay   None      M     D  ...   \n",
       "188            None           Crawford   None      M     R  ...   \n",
       "243            None             García   None      M     D  ...   \n",
       "244            None             Garcia   None      M     R  ...   \n",
       "252            None     González-Colón   None      F     R  ...   \n",
       "269            None               Hall   None      M     D  ...   \n",
       "270            None             Harder   None      M     D  ...   \n",
       "277            None    Herrera Beutler   None      F     R  ...   \n",
       "282            None               Hill   None      M     R  ...   \n",
       "295            None        Jackson Lee   None      F     D  ...   \n",
       "296            None             Jacobs   None      M     R  ...   \n",
       "342            None              Levin   None      M     D  ...   \n",
       "354             Ray              Luján   None      M     D  ...   \n",
       "376            None   McMorris Rodgers   None      F     R  ...   \n",
       "401          Holmes             Norton   None      F     D  ...   \n",
       "422            None           Plaskett   None      F     D  ...   \n",
       "429         Coleman          Radewagen   None      F     R  ...   \n",
       "454  Kilili Camacho             Sablan   None      M     D  ...   \n",
       "455            None        San Nicolas   None      M     D  ...   \n",
       "456              T.            Sánchez   None      F     D  ...   \n",
       "499            None             Taylor   None      M     R  ...   \n",
       "504            None            Tiffany   None      M     R  ...   \n",
       "505            None            Timmons   None      M     R  ...   \n",
       "508            None              Tlaib   None      F     D  ...   \n",
       "511            None       Torres Small   None      F     D  ...   \n",
       "517            None           Van Drew   None      M     R  ...   \n",
       "518            None           Van Drew   None      M     R  ...   \n",
       "522              M.          Velázquez   None      F     D  ...   \n",
       "530            None  Wasserman Schultz   None      F     D  ...   \n",
       "533            None     Watson Coleman   None      F     D  ...   \n",
       "539            None             Wexton   None      F     D  ...   \n",
       "\n",
       "                                     ocd_id           phone           fax  \\\n",
       "21         ocd-division/country:us/state:nv    202-224-3542          None   \n",
       "39         ocd-division/country:us/state:mo    202-224-6154          None   \n",
       "49         ocd-division/country:us/state:az    202-224-2235          None   \n",
       "95         ocd-division/country:us/state:md    202-224-4654  202-225-0375   \n",
       "117  ocd-division/country:us/state:oh/cd:12    202-225-5355          None   \n",
       "120  ocd-division/country:us/state:ca/cd:44    202-225-8220          None   \n",
       "132   ocd-division/country:us/state:de/cd:1    202-225-4165          None   \n",
       "153  ocd-division/country:us/state:ca/cd:29    202-225-6131          None   \n",
       "154   ocd-division/country:us/state:in/cd:7    202-225-4011          None   \n",
       "169   ocd-division/country:us/state:mo/cd:1    202-225-2406          None   \n",
       "188   ocd-division/country:us/state:ar/cd:1    202-225-4076          None   \n",
       "243   ocd-division/country:us/state:il/cd:4    202-225-8203          None   \n",
       "244  ocd-division/country:us/state:ca/cd:25    202-225-1956          None   \n",
       "252  ocd-division/country:us/state:pr/cd:80    202-225-2615          None   \n",
       "269   ocd-division/country:us/state:ga/cd:5  (202) 225–3801          None   \n",
       "270  ocd-division/country:us/state:ca/cd:10    202-225-4540          None   \n",
       "277   ocd-division/country:us/state:wa/cd:3    202-225-3536          None   \n",
       "282   ocd-division/country:us/state:ar/cd:2    202-225-2506          None   \n",
       "295  ocd-division/country:us/state:tx/cd:18    202-225-3816          None   \n",
       "296  ocd-division/country:us/state:ny/cd:27    202-225-5265          None   \n",
       "342   ocd-division/country:us/state:mi/cd:9    202-225-4961          None   \n",
       "354   ocd-division/country:us/state:nm/cd:3    202-225-6190          None   \n",
       "376   ocd-division/country:us/state:wa/cd:5    202-225-2006          None   \n",
       "401  ocd-division/country:us/state:dc/cd:79    202-225-8050          None   \n",
       "422  ocd-division/country:us/state:vi/cd:79    202-225-1790          None   \n",
       "429  ocd-division/country:us/state:as/cd:79    202-225-8577          None   \n",
       "454  ocd-division/country:us/state:mp/cd:79    202-225-2646          None   \n",
       "455  ocd-division/country:us/state:gu/cd:79    202-225-1188          None   \n",
       "456  ocd-division/country:us/state:ca/cd:38    202-225-6676          None   \n",
       "499   ocd-division/country:us/state:tx/cd:3    202-225-4201          None   \n",
       "504   ocd-division/country:us/state:wi/cd:7    202-225-3365          None   \n",
       "505   ocd-division/country:us/state:sc/cd:4    202-225-6030          None   \n",
       "508  ocd-division/country:us/state:mi/cd:13    202-225-5126          None   \n",
       "511   ocd-division/country:us/state:nm/cd:2    202-225-2365          None   \n",
       "517   ocd-division/country:us/state:nj/cd:2    202-225-6572          None   \n",
       "518   ocd-division/country:us/state:nj/cd:2    202-225-6572          None   \n",
       "522   ocd-division/country:us/state:ny/cd:7    202-225-2361          None   \n",
       "530  ocd-division/country:us/state:fl/cd:23    202-225-7931          None   \n",
       "533  ocd-division/country:us/state:nj/cd:12    202-225-5801          None   \n",
       "539  ocd-division/country:us/state:va/cd:10    202-225-5136          None   \n",
       "\n",
       "    state senate_class state_rank lis_id  district geoid image  \n",
       "21     NV            3     senior   S385       NaN   NaN  None  \n",
       "39     MO            1     junior   S399       NaN   NaN  None  \n",
       "49     AZ            3              S406       NaN   NaN  None  \n",
       "95     MD            3     junior   S390       NaN   NaN  None  \n",
       "117    OH          NaN        NaN    NaN        12  3912  None  \n",
       "120    CA          NaN        NaN    NaN        44  0644  None  \n",
       "132    DE          NaN        NaN    NaN  At-Large  1000  None  \n",
       "153    CA          NaN        NaN    NaN        29  0629  None  \n",
       "154    IN          NaN        NaN    NaN         7  1807  None  \n",
       "169    MO          NaN        NaN    NaN         1  2901  None  \n",
       "188    AR          NaN        NaN    NaN         1  0501  None  \n",
       "243    IL          NaN        NaN    NaN         4  1704  None  \n",
       "244    CA          NaN        NaN    NaN        25  0625  None  \n",
       "252    PR          NaN        NaN    NaN  At-Large  7298  None  \n",
       "269    GA          NaN        NaN    NaN         5  1305  None  \n",
       "270    CA          NaN        NaN    NaN        10  0610  None  \n",
       "277    WA          NaN        NaN    NaN         3  5303  None  \n",
       "282    AR          NaN        NaN    NaN         2  0502  None  \n",
       "295    TX          NaN        NaN    NaN        18  4818  None  \n",
       "296    NY          NaN        NaN    NaN        27  3627  None  \n",
       "342    MI          NaN        NaN    NaN         9  2609  None  \n",
       "354    NM          NaN        NaN    NaN         3  3503  None  \n",
       "376    WA          NaN        NaN    NaN         5  5305  None  \n",
       "401    DC          NaN        NaN    NaN  At-Large  1198  None  \n",
       "422    VI          NaN        NaN    NaN  At-Large  7898  None  \n",
       "429    AS          NaN        NaN    NaN  At-Large  6098  None  \n",
       "454    MP          NaN        NaN    NaN  At-Large  6998  None  \n",
       "455    GU          NaN        NaN    NaN  At-Large  6698  None  \n",
       "456    CA          NaN        NaN    NaN        38  0638  None  \n",
       "499    TX          NaN        NaN    NaN         3  4803  None  \n",
       "504    WI          NaN        NaN    NaN         7  5507  None  \n",
       "505    SC          NaN        NaN    NaN         4  4504  None  \n",
       "508    MI          NaN        NaN    NaN        13  2613  None  \n",
       "511    NM          NaN        NaN    NaN         2  3502  None  \n",
       "517    NJ          NaN        NaN    NaN         2  3402  None  \n",
       "518    NJ          NaN        NaN    NaN         2  3402  None  \n",
       "522    NY          NaN        NaN    NaN         7  3607  None  \n",
       "530    FL          NaN        NaN    NaN        23  1223  None  \n",
       "533    NJ          NaN        NaN    NaN        12  3412  None  \n",
       "539    VA          NaN        NaN    NaN        10  5110  None  \n",
       "\n",
       "[40 rows x 38 columns]"
      ],
      "text/html": "<div>\n<style scoped>\n    .dataframe tbody tr th:only-of-type {\n        vertical-align: middle;\n    }\n\n    .dataframe tbody tr th {\n        vertical-align: top;\n    }\n\n    .dataframe thead th {\n        text-align: right;\n    }\n</style>\n<table border=\"1\" class=\"dataframe\">\n  <thead>\n    <tr style=\"text-align: right;\">\n      <th></th>\n      <th>id</th>\n      <th>title</th>\n      <th>short_title</th>\n      <th>api_uri</th>\n      <th>first_name</th>\n      <th>middle_name</th>\n      <th>last_name</th>\n      <th>suffix</th>\n      <th>gender</th>\n      <th>party</th>\n      <th>...</th>\n      <th>ocd_id</th>\n      <th>phone</th>\n      <th>fax</th>\n      <th>state</th>\n      <th>senate_class</th>\n      <th>state_rank</th>\n      <th>lis_id</th>\n      <th>district</th>\n      <th>geoid</th>\n      <th>image</th>\n    </tr>\n  </thead>\n  <tbody>\n    <tr>\n      <th>21</th>\n      <td>C001113</td>\n      <td>Senator, 3rd Class</td>\n      <td>Sen.</td>\n      <td>https://api.propublica.org/congress/v1/members...</td>\n      <td>Catherine</td>\n      <td>None</td>\n      <td>Cortez Masto</td>\n      <td>None</td>\n      <td>F</td>\n      <td>D</td>\n      <td>...</td>\n      <td>ocd-division/country:us/state:nv</td>\n      <td>202-224-3542</td>\n      <td>None</td>\n      <td>NV</td>\n      <td>3</td>\n      <td>senior</td>\n      <td>S385</td>\n      <td>NaN</td>\n      <td>NaN</td>\n      <td>None</td>\n    </tr>\n    <tr>\n      <th>39</th>\n      <td>H001089</td>\n      <td>Senator, 1st Class</td>\n      <td>Sen.</td>\n      <td>https://api.propublica.org/congress/v1/members...</td>\n      <td>Joshua</td>\n      <td>None</td>\n      <td>Hawley</td>\n      <td>None</td>\n      <td>M</td>\n      <td>R</td>\n      <td>...</td>\n      <td>ocd-division/country:us/state:mo</td>\n      <td>202-224-6154</td>\n      <td>None</td>\n      <td>MO</td>\n      <td>1</td>\n      <td>junior</td>\n      <td>S399</td>\n      <td>NaN</td>\n      <td>NaN</td>\n      <td>None</td>\n    </tr>\n    <tr>\n      <th>49</th>\n      <td>K000377</td>\n      <td>Senator, 3rd Class</td>\n      <td>Sen.</td>\n      <td>https://api.propublica.org/congress/v1/members...</td>\n      <td>Mark</td>\n      <td>None</td>\n      <td>Kelly</td>\n      <td>None</td>\n      <td>M</td>\n      <td>D</td>\n      <td>...</td>\n      <td>ocd-division/country:us/state:az</td>\n      <td>202-224-2235</td>\n      <td>None</td>\n      <td>AZ</td>\n      <td>3</td>\n      <td></td>\n      <td>S406</td>\n      <td>NaN</td>\n      <td>NaN</td>\n      <td>None</td>\n    </tr>\n    <tr>\n      <th>95</th>\n      <td>V000128</td>\n      <td>Senator, 3rd Class</td>\n      <td>Sen.</td>\n      <td>https://api.propublica.org/congress/v1/members...</td>\n      <td>Chris</td>\n      <td>None</td>\n      <td>Van Hollen</td>\n      <td>None</td>\n      <td>M</td>\n      <td>D</td>\n      <td>...</td>\n      <td>ocd-division/country:us/state:md</td>\n      <td>202-224-4654</td>\n      <td>202-225-0375</td>\n      <td>MD</td>\n      <td>3</td>\n      <td>junior</td>\n      <td>S390</td>\n      <td>NaN</td>\n      <td>NaN</td>\n      <td>None</td>\n    </tr>\n    <tr>\n      <th>117</th>\n      <td>B001306</td>\n      <td>Representative</td>\n      <td>Rep.</td>\n      <td>https://api.propublica.org/congress/v1/members...</td>\n      <td>Troy</td>\n      <td>None</td>\n      <td>Balderson</td>\n      <td>None</td>\n      <td>M</td>\n      <td>R</td>\n      <td>...</td>\n      <td>ocd-division/country:us/state:oh/cd:12</td>\n      <td>202-225-5355</td>\n      <td>None</td>\n      <td>OH</td>\n      <td>NaN</td>\n      <td>NaN</td>\n      <td>NaN</td>\n      <td>12</td>\n      <td>3912</td>\n      <td>None</td>\n    </tr>\n    <tr>\n      <th>120</th>\n      <td>B001300</td>\n      <td>Representative</td>\n      <td>Rep.</td>\n      <td>https://api.propublica.org/congress/v1/members...</td>\n      <td>Nanette</td>\n      <td>None</td>\n      <td>Barragán</td>\n      <td>None</td>\n      <td>F</td>\n      <td>D</td>\n      <td>...</td>\n      <td>ocd-division/country:us/state:ca/cd:44</td>\n      <td>202-225-8220</td>\n      <td>None</td>\n      <td>CA</td>\n      <td>NaN</td>\n      <td>NaN</td>\n      <td>NaN</td>\n      <td>44</td>\n      <td>0644</td>\n      <td>None</td>\n    </tr>\n    <tr>\n      <th>132</th>\n      <td>B001303</td>\n      <td>Representative</td>\n      <td>Rep.</td>\n      <td>https://api.propublica.org/congress/v1/members...</td>\n      <td>Lisa</td>\n      <td>None</td>\n      <td>Blunt Rochester</td>\n      <td>None</td>\n      <td>F</td>\n      <td>D</td>\n      <td>...</td>\n      <td>ocd-division/country:us/state:de/cd:1</td>\n      <td>202-225-4165</td>\n      <td>None</td>\n      <td>DE</td>\n      <td>NaN</td>\n      <td>NaN</td>\n      <td>NaN</td>\n      <td>At-Large</td>\n      <td>1000</td>\n      <td>None</td>\n    </tr>\n    <tr>\n      <th>153</th>\n      <td>C001097</td>\n      <td>Representative</td>\n      <td>Rep.</td>\n      <td>https://api.propublica.org/congress/v1/members...</td>\n      <td>Tony</td>\n      <td>None</td>\n      <td>Cárdenas</td>\n      <td>None</td>\n      <td>M</td>\n      <td>D</td>\n      <td>...</td>\n      <td>ocd-division/country:us/state:ca/cd:29</td>\n      <td>202-225-6131</td>\n      <td>None</td>\n      <td>CA</td>\n      <td>NaN</td>\n      <td>NaN</td>\n      <td>NaN</td>\n      <td>29</td>\n      <td>0629</td>\n      <td>None</td>\n    </tr>\n    <tr>\n      <th>154</th>\n      <td>C001072</td>\n      <td>Representative</td>\n      <td>Rep.</td>\n      <td>https://api.propublica.org/congress/v1/members...</td>\n      <td>André</td>\n      <td>None</td>\n      <td>Carson</td>\n      <td>None</td>\n      <td>M</td>\n      <td>D</td>\n      <td>...</td>\n      <td>ocd-division/country:us/state:in/cd:7</td>\n      <td>202-225-4011</td>\n      <td>None</td>\n      <td>IN</td>\n      <td>NaN</td>\n      <td>NaN</td>\n      <td>NaN</td>\n      <td>7</td>\n      <td>1807</td>\n      <td>None</td>\n    </tr>\n    <tr>\n      <th>169</th>\n      <td>C001049</td>\n      <td>Representative</td>\n      <td>Rep.</td>\n      <td>https://api.propublica.org/congress/v1/members...</td>\n      <td>William</td>\n      <td>Lacy</td>\n      <td>Clay</td>\n      <td>None</td>\n      <td>M</td>\n      <td>D</td>\n      <td>...</td>\n      <td>ocd-division/country:us/state:mo/cd:1</td>\n      <td>202-225-2406</td>\n      <td>None</td>\n      <td>MO</td>\n      <td>NaN</td>\n      <td>NaN</td>\n      <td>NaN</td>\n      <td>1</td>\n      <td>2901</td>\n      <td>None</td>\n    </tr>\n    <tr>\n      <th>188</th>\n      <td>C001087</td>\n      <td>Representative</td>\n      <td>Rep.</td>\n      <td>https://api.propublica.org/congress/v1/members...</td>\n      <td>Rick</td>\n      <td>None</td>\n      <td>Crawford</td>\n      <td>None</td>\n      <td>M</td>\n      <td>R</td>\n      <td>...</td>\n      <td>ocd-division/country:us/state:ar/cd:1</td>\n      <td>202-225-4076</td>\n      <td>None</td>\n      <td>AR</td>\n      <td>NaN</td>\n      <td>NaN</td>\n      <td>NaN</td>\n      <td>1</td>\n      <td>0501</td>\n      <td>None</td>\n    </tr>\n    <tr>\n      <th>243</th>\n      <td>G000586</td>\n      <td>Representative</td>\n      <td>Rep.</td>\n      <td>https://api.propublica.org/congress/v1/members...</td>\n      <td>Jesús</td>\n      <td>None</td>\n      <td>García</td>\n      <td>None</td>\n      <td>M</td>\n      <td>D</td>\n      <td>...</td>\n      <td>ocd-division/country:us/state:il/cd:4</td>\n      <td>202-225-8203</td>\n      <td>None</td>\n      <td>IL</td>\n      <td>NaN</td>\n      <td>NaN</td>\n      <td>NaN</td>\n      <td>4</td>\n      <td>1704</td>\n      <td>None</td>\n    </tr>\n    <tr>\n      <th>244</th>\n      <td>G000061</td>\n      <td>Representative</td>\n      <td>Rep.</td>\n      <td>https://api.propublica.org/congress/v1/members...</td>\n      <td>Mike</td>\n      <td>None</td>\n      <td>Garcia</td>\n      <td>None</td>\n      <td>M</td>\n      <td>R</td>\n      <td>...</td>\n      <td>ocd-division/country:us/state:ca/cd:25</td>\n      <td>202-225-1956</td>\n      <td>None</td>\n      <td>CA</td>\n      <td>NaN</td>\n      <td>NaN</td>\n      <td>NaN</td>\n      <td>25</td>\n      <td>0625</td>\n      <td>None</td>\n    </tr>\n    <tr>\n      <th>252</th>\n      <td>G000582</td>\n      <td>Resident Commissioner</td>\n      <td>R.C.</td>\n      <td>https://api.propublica.org/congress/v1/members...</td>\n      <td>Jenniffer</td>\n      <td>None</td>\n      <td>González-Colón</td>\n      <td>None</td>\n      <td>F</td>\n      <td>R</td>\n      <td>...</td>\n      <td>ocd-division/country:us/state:pr/cd:80</td>\n      <td>202-225-2615</td>\n      <td>None</td>\n      <td>PR</td>\n      <td>NaN</td>\n      <td>NaN</td>\n      <td>NaN</td>\n      <td>At-Large</td>\n      <td>7298</td>\n      <td>None</td>\n    </tr>\n    <tr>\n      <th>269</th>\n      <td>H001092</td>\n      <td>Representative</td>\n      <td>Rep.</td>\n      <td>https://api.propublica.org/congress/v1/members...</td>\n      <td>Kwanza</td>\n      <td>None</td>\n      <td>Hall</td>\n      <td>None</td>\n      <td>M</td>\n      <td>D</td>\n      <td>...</td>\n      <td>ocd-division/country:us/state:ga/cd:5</td>\n      <td>(202) 225–3801</td>\n      <td>None</td>\n      <td>GA</td>\n      <td>NaN</td>\n      <td>NaN</td>\n      <td>NaN</td>\n      <td>5</td>\n      <td>1305</td>\n      <td>None</td>\n    </tr>\n    <tr>\n      <th>270</th>\n      <td>H001090</td>\n      <td>Representative</td>\n      <td>Rep.</td>\n      <td>https://api.propublica.org/congress/v1/members...</td>\n      <td>Josh</td>\n      <td>None</td>\n      <td>Harder</td>\n      <td>None</td>\n      <td>M</td>\n      <td>D</td>\n      <td>...</td>\n      <td>ocd-division/country:us/state:ca/cd:10</td>\n      <td>202-225-4540</td>\n      <td>None</td>\n      <td>CA</td>\n      <td>NaN</td>\n      <td>NaN</td>\n      <td>NaN</td>\n      <td>10</td>\n      <td>0610</td>\n      <td>None</td>\n    </tr>\n    <tr>\n      <th>277</th>\n      <td>H001056</td>\n      <td>Representative</td>\n      <td>Rep.</td>\n      <td>https://api.propublica.org/congress/v1/members...</td>\n      <td>Jaime</td>\n      <td>None</td>\n      <td>Herrera Beutler</td>\n      <td>None</td>\n      <td>F</td>\n      <td>R</td>\n      <td>...</td>\n      <td>ocd-division/country:us/state:wa/cd:3</td>\n      <td>202-225-3536</td>\n      <td>None</td>\n      <td>WA</td>\n      <td>NaN</td>\n      <td>NaN</td>\n      <td>NaN</td>\n      <td>3</td>\n      <td>5303</td>\n      <td>None</td>\n    </tr>\n    <tr>\n      <th>282</th>\n      <td>H001072</td>\n      <td>Representative</td>\n      <td>Rep.</td>\n      <td>https://api.propublica.org/congress/v1/members...</td>\n      <td>French</td>\n      <td>None</td>\n      <td>Hill</td>\n      <td>None</td>\n      <td>M</td>\n      <td>R</td>\n      <td>...</td>\n      <td>ocd-division/country:us/state:ar/cd:2</td>\n      <td>202-225-2506</td>\n      <td>None</td>\n      <td>AR</td>\n      <td>NaN</td>\n      <td>NaN</td>\n      <td>NaN</td>\n      <td>2</td>\n      <td>0502</td>\n      <td>None</td>\n    </tr>\n    <tr>\n      <th>295</th>\n      <td>J000032</td>\n      <td>Representative</td>\n      <td>Rep.</td>\n      <td>https://api.propublica.org/congress/v1/members...</td>\n      <td>Sheila</td>\n      <td>None</td>\n      <td>Jackson Lee</td>\n      <td>None</td>\n      <td>F</td>\n      <td>D</td>\n      <td>...</td>\n      <td>ocd-division/country:us/state:tx/cd:18</td>\n      <td>202-225-3816</td>\n      <td>None</td>\n      <td>TX</td>\n      <td>NaN</td>\n      <td>NaN</td>\n      <td>NaN</td>\n      <td>18</td>\n      <td>4818</td>\n      <td>None</td>\n    </tr>\n    <tr>\n      <th>296</th>\n      <td>J000020</td>\n      <td>Representative</td>\n      <td>Rep.</td>\n      <td>https://api.propublica.org/congress/v1/members...</td>\n      <td>Chris</td>\n      <td>None</td>\n      <td>Jacobs</td>\n      <td>None</td>\n      <td>M</td>\n      <td>R</td>\n      <td>...</td>\n      <td>ocd-division/country:us/state:ny/cd:27</td>\n      <td>202-225-5265</td>\n      <td>None</td>\n      <td>NY</td>\n      <td>NaN</td>\n      <td>NaN</td>\n      <td>NaN</td>\n      <td>27</td>\n      <td>3627</td>\n      <td>None</td>\n    </tr>\n    <tr>\n      <th>342</th>\n      <td>L000592</td>\n      <td>Representative</td>\n      <td>Rep.</td>\n      <td>https://api.propublica.org/congress/v1/members...</td>\n      <td>Andy</td>\n      <td>None</td>\n      <td>Levin</td>\n      <td>None</td>\n      <td>M</td>\n      <td>D</td>\n      <td>...</td>\n      <td>ocd-division/country:us/state:mi/cd:9</td>\n      <td>202-225-4961</td>\n      <td>None</td>\n      <td>MI</td>\n      <td>NaN</td>\n      <td>NaN</td>\n      <td>NaN</td>\n      <td>9</td>\n      <td>2609</td>\n      <td>None</td>\n    </tr>\n    <tr>\n      <th>354</th>\n      <td>L000570</td>\n      <td>Representative</td>\n      <td>Rep.</td>\n      <td>https://api.propublica.org/congress/v1/members...</td>\n      <td>Ben</td>\n      <td>Ray</td>\n      <td>Luján</td>\n      <td>None</td>\n      <td>M</td>\n      <td>D</td>\n      <td>...</td>\n      <td>ocd-division/country:us/state:nm/cd:3</td>\n      <td>202-225-6190</td>\n      <td>None</td>\n      <td>NM</td>\n      <td>NaN</td>\n      <td>NaN</td>\n      <td>NaN</td>\n      <td>3</td>\n      <td>3503</td>\n      <td>None</td>\n    </tr>\n    <tr>\n      <th>376</th>\n      <td>M001159</td>\n      <td>Representative</td>\n      <td>Rep.</td>\n      <td>https://api.propublica.org/congress/v1/members...</td>\n      <td>Cathy</td>\n      <td>None</td>\n      <td>McMorris Rodgers</td>\n      <td>None</td>\n      <td>F</td>\n      <td>R</td>\n      <td>...</td>\n      <td>ocd-division/country:us/state:wa/cd:5</td>\n      <td>202-225-2006</td>\n      <td>None</td>\n      <td>WA</td>\n      <td>NaN</td>\n      <td>NaN</td>\n      <td>NaN</td>\n      <td>5</td>\n      <td>5305</td>\n      <td>None</td>\n    </tr>\n    <tr>\n      <th>401</th>\n      <td>N000147</td>\n      <td>Delegate</td>\n      <td>Del.</td>\n      <td>https://api.propublica.org/congress/v1/members...</td>\n      <td>Eleanor</td>\n      <td>Holmes</td>\n      <td>Norton</td>\n      <td>None</td>\n      <td>F</td>\n      <td>D</td>\n      <td>...</td>\n      <td>ocd-division/country:us/state:dc/cd:79</td>\n      <td>202-225-8050</td>\n      <td>None</td>\n      <td>DC</td>\n      <td>NaN</td>\n      <td>NaN</td>\n      <td>NaN</td>\n      <td>At-Large</td>\n      <td>1198</td>\n      <td>None</td>\n    </tr>\n    <tr>\n      <th>422</th>\n      <td>P000610</td>\n      <td>Delegate</td>\n      <td>Del.</td>\n      <td>https://api.propublica.org/congress/v1/members...</td>\n      <td>Stacey</td>\n      <td>None</td>\n      <td>Plaskett</td>\n      <td>None</td>\n      <td>F</td>\n      <td>D</td>\n      <td>...</td>\n      <td>ocd-division/country:us/state:vi/cd:79</td>\n      <td>202-225-1790</td>\n      <td>None</td>\n      <td>VI</td>\n      <td>NaN</td>\n      <td>NaN</td>\n      <td>NaN</td>\n      <td>At-Large</td>\n      <td>7898</td>\n      <td>None</td>\n    </tr>\n    <tr>\n      <th>429</th>\n      <td>R000600</td>\n      <td>Delegate</td>\n      <td>Del.</td>\n      <td>https://api.propublica.org/congress/v1/members...</td>\n      <td>Amata</td>\n      <td>Coleman</td>\n      <td>Radewagen</td>\n      <td>None</td>\n      <td>F</td>\n      <td>R</td>\n      <td>...</td>\n      <td>ocd-division/country:us/state:as/cd:79</td>\n      <td>202-225-8577</td>\n      <td>None</td>\n      <td>AS</td>\n      <td>NaN</td>\n      <td>NaN</td>\n      <td>NaN</td>\n      <td>At-Large</td>\n      <td>6098</td>\n      <td>None</td>\n    </tr>\n    <tr>\n      <th>454</th>\n      <td>S001177</td>\n      <td>Delegate</td>\n      <td>Del.</td>\n      <td>https://api.propublica.org/congress/v1/members...</td>\n      <td>Gregorio</td>\n      <td>Kilili Camacho</td>\n      <td>Sablan</td>\n      <td>None</td>\n      <td>M</td>\n      <td>D</td>\n      <td>...</td>\n      <td>ocd-division/country:us/state:mp/cd:79</td>\n      <td>202-225-2646</td>\n      <td>None</td>\n      <td>MP</td>\n      <td>NaN</td>\n      <td>NaN</td>\n      <td>NaN</td>\n      <td>At-Large</td>\n      <td>6998</td>\n      <td>None</td>\n    </tr>\n    <tr>\n      <th>455</th>\n      <td>S001204</td>\n      <td>Delegate</td>\n      <td>Del.</td>\n      <td>https://api.propublica.org/congress/v1/members...</td>\n      <td>Michael</td>\n      <td>None</td>\n      <td>San Nicolas</td>\n      <td>None</td>\n      <td>M</td>\n      <td>D</td>\n      <td>...</td>\n      <td>ocd-division/country:us/state:gu/cd:79</td>\n      <td>202-225-1188</td>\n      <td>None</td>\n      <td>GU</td>\n      <td>NaN</td>\n      <td>NaN</td>\n      <td>NaN</td>\n      <td>At-Large</td>\n      <td>6698</td>\n      <td>None</td>\n    </tr>\n    <tr>\n      <th>456</th>\n      <td>S001156</td>\n      <td>Representative</td>\n      <td>Rep.</td>\n      <td>https://api.propublica.org/congress/v1/members...</td>\n      <td>Linda</td>\n      <td>T.</td>\n      <td>Sánchez</td>\n      <td>None</td>\n      <td>F</td>\n      <td>D</td>\n      <td>...</td>\n      <td>ocd-division/country:us/state:ca/cd:38</td>\n      <td>202-225-6676</td>\n      <td>None</td>\n      <td>CA</td>\n      <td>NaN</td>\n      <td>NaN</td>\n      <td>NaN</td>\n      <td>38</td>\n      <td>0638</td>\n      <td>None</td>\n    </tr>\n    <tr>\n      <th>499</th>\n      <td>T000479</td>\n      <td>Representative</td>\n      <td>Rep.</td>\n      <td>https://api.propublica.org/congress/v1/members...</td>\n      <td>Van</td>\n      <td>None</td>\n      <td>Taylor</td>\n      <td>None</td>\n      <td>M</td>\n      <td>R</td>\n      <td>...</td>\n      <td>ocd-division/country:us/state:tx/cd:3</td>\n      <td>202-225-4201</td>\n      <td>None</td>\n      <td>TX</td>\n      <td>NaN</td>\n      <td>NaN</td>\n      <td>NaN</td>\n      <td>3</td>\n      <td>4803</td>\n      <td>None</td>\n    </tr>\n    <tr>\n      <th>504</th>\n      <td>T000165</td>\n      <td>Representative</td>\n      <td>Rep.</td>\n      <td>https://api.propublica.org/congress/v1/members...</td>\n      <td>Tom</td>\n      <td>None</td>\n      <td>Tiffany</td>\n      <td>None</td>\n      <td>M</td>\n      <td>R</td>\n      <td>...</td>\n      <td>ocd-division/country:us/state:wi/cd:7</td>\n      <td>202-225-3365</td>\n      <td>None</td>\n      <td>WI</td>\n      <td>NaN</td>\n      <td>NaN</td>\n      <td>NaN</td>\n      <td>7</td>\n      <td>5507</td>\n      <td>None</td>\n    </tr>\n    <tr>\n      <th>505</th>\n      <td>T000480</td>\n      <td>Representative</td>\n      <td>Rep.</td>\n      <td>https://api.propublica.org/congress/v1/members...</td>\n      <td>William</td>\n      <td>None</td>\n      <td>Timmons</td>\n      <td>None</td>\n      <td>M</td>\n      <td>R</td>\n      <td>...</td>\n      <td>ocd-division/country:us/state:sc/cd:4</td>\n      <td>202-225-6030</td>\n      <td>None</td>\n      <td>SC</td>\n      <td>NaN</td>\n      <td>NaN</td>\n      <td>NaN</td>\n      <td>4</td>\n      <td>4504</td>\n      <td>None</td>\n    </tr>\n    <tr>\n      <th>508</th>\n      <td>T000481</td>\n      <td>Representative</td>\n      <td>Rep.</td>\n      <td>https://api.propublica.org/congress/v1/members...</td>\n      <td>Rashida</td>\n      <td>None</td>\n      <td>Tlaib</td>\n      <td>None</td>\n      <td>F</td>\n      <td>D</td>\n      <td>...</td>\n      <td>ocd-division/country:us/state:mi/cd:13</td>\n      <td>202-225-5126</td>\n      <td>None</td>\n      <td>MI</td>\n      <td>NaN</td>\n      <td>NaN</td>\n      <td>NaN</td>\n      <td>13</td>\n      <td>2613</td>\n      <td>None</td>\n    </tr>\n    <tr>\n      <th>511</th>\n      <td>T000484</td>\n      <td>Representative</td>\n      <td>Rep.</td>\n      <td>https://api.propublica.org/congress/v1/members...</td>\n      <td>Xochitl</td>\n      <td>None</td>\n      <td>Torres Small</td>\n      <td>None</td>\n      <td>F</td>\n      <td>D</td>\n      <td>...</td>\n      <td>ocd-division/country:us/state:nm/cd:2</td>\n      <td>202-225-2365</td>\n      <td>None</td>\n      <td>NM</td>\n      <td>NaN</td>\n      <td>NaN</td>\n      <td>NaN</td>\n      <td>2</td>\n      <td>3502</td>\n      <td>None</td>\n    </tr>\n    <tr>\n      <th>517</th>\n      <td>V000133</td>\n      <td>Representative</td>\n      <td>Rep.</td>\n      <td>https://api.propublica.org/congress/v1/members...</td>\n      <td>Jefferson</td>\n      <td>None</td>\n      <td>Van Drew</td>\n      <td>None</td>\n      <td>M</td>\n      <td>R</td>\n      <td>...</td>\n      <td>ocd-division/country:us/state:nj/cd:2</td>\n      <td>202-225-6572</td>\n      <td>None</td>\n      <td>NJ</td>\n      <td>NaN</td>\n      <td>NaN</td>\n      <td>NaN</td>\n      <td>2</td>\n      <td>3402</td>\n      <td>None</td>\n    </tr>\n    <tr>\n      <th>518</th>\n      <td>V000133</td>\n      <td>Representative</td>\n      <td>Rep.</td>\n      <td>https://api.propublica.org/congress/v1/members...</td>\n      <td>Jefferson</td>\n      <td>None</td>\n      <td>Van Drew</td>\n      <td>None</td>\n      <td>M</td>\n      <td>R</td>\n      <td>...</td>\n      <td>ocd-division/country:us/state:nj/cd:2</td>\n      <td>202-225-6572</td>\n      <td>None</td>\n      <td>NJ</td>\n      <td>NaN</td>\n      <td>NaN</td>\n      <td>NaN</td>\n      <td>2</td>\n      <td>3402</td>\n      <td>None</td>\n    </tr>\n    <tr>\n      <th>522</th>\n      <td>V000081</td>\n      <td>Representative</td>\n      <td>Rep.</td>\n      <td>https://api.propublica.org/congress/v1/members...</td>\n      <td>Nydia</td>\n      <td>M.</td>\n      <td>Velázquez</td>\n      <td>None</td>\n      <td>F</td>\n      <td>D</td>\n      <td>...</td>\n      <td>ocd-division/country:us/state:ny/cd:7</td>\n      <td>202-225-2361</td>\n      <td>None</td>\n      <td>NY</td>\n      <td>NaN</td>\n      <td>NaN</td>\n      <td>NaN</td>\n      <td>7</td>\n      <td>3607</td>\n      <td>None</td>\n    </tr>\n    <tr>\n      <th>530</th>\n      <td>W000797</td>\n      <td>Representative</td>\n      <td>Rep.</td>\n      <td>https://api.propublica.org/congress/v1/members...</td>\n      <td>Debbie</td>\n      <td>None</td>\n      <td>Wasserman Schultz</td>\n      <td>None</td>\n      <td>F</td>\n      <td>D</td>\n      <td>...</td>\n      <td>ocd-division/country:us/state:fl/cd:23</td>\n      <td>202-225-7931</td>\n      <td>None</td>\n      <td>FL</td>\n      <td>NaN</td>\n      <td>NaN</td>\n      <td>NaN</td>\n      <td>23</td>\n      <td>1223</td>\n      <td>None</td>\n    </tr>\n    <tr>\n      <th>533</th>\n      <td>W000822</td>\n      <td>Representative</td>\n      <td>Rep.</td>\n      <td>https://api.propublica.org/congress/v1/members...</td>\n      <td>Bonnie</td>\n      <td>None</td>\n      <td>Watson Coleman</td>\n      <td>None</td>\n      <td>F</td>\n      <td>D</td>\n      <td>...</td>\n      <td>ocd-division/country:us/state:nj/cd:12</td>\n      <td>202-225-5801</td>\n      <td>None</td>\n      <td>NJ</td>\n      <td>NaN</td>\n      <td>NaN</td>\n      <td>NaN</td>\n      <td>12</td>\n      <td>3412</td>\n      <td>None</td>\n    </tr>\n    <tr>\n      <th>539</th>\n      <td>W000825</td>\n      <td>Representative</td>\n      <td>Rep.</td>\n      <td>https://api.propublica.org/congress/v1/members...</td>\n      <td>Jennifer</td>\n      <td>None</td>\n      <td>Wexton</td>\n      <td>None</td>\n      <td>F</td>\n      <td>D</td>\n      <td>...</td>\n      <td>ocd-division/country:us/state:va/cd:10</td>\n      <td>202-225-5136</td>\n      <td>None</td>\n      <td>VA</td>\n      <td>NaN</td>\n      <td>NaN</td>\n      <td>NaN</td>\n      <td>10</td>\n      <td>5110</td>\n      <td>None</td>\n    </tr>\n  </tbody>\n</table>\n<p>40 rows × 38 columns</p>\n</div>"
     },
     "metadata": {},
     "execution_count": 43
    }
   ],
   "source": [
    "df[df['image'] == 'None']"
   ]
  },
  {
   "cell_type": "code",
   "execution_count": 1,
   "metadata": {},
   "outputs": [
    {
     "output_type": "error",
     "ename": "NameError",
     "evalue": "name 'df' is not defined",
     "traceback": [
      "\u001b[0;31m---------------------------------------------------------------------------\u001b[0m",
      "\u001b[0;31mNameError\u001b[0m                                 Traceback (most recent call last)",
      "\u001b[0;32m<ipython-input-1-afc9e100cfa2>\u001b[0m in \u001b[0;36m<module>\u001b[0;34m\u001b[0m\n\u001b[1;32m      1\u001b[0m \u001b[0;31m#exporting Dataframe to csv\u001b[0m\u001b[0;34m\u001b[0m\u001b[0;34m\u001b[0m\u001b[0;34m\u001b[0m\u001b[0m\n\u001b[0;32m----> 2\u001b[0;31m \u001b[0mdf\u001b[0m\u001b[0;34m.\u001b[0m\u001b[0mto_csv\u001b[0m\u001b[0;34m(\u001b[0m\u001b[0;34m'out.csv'\u001b[0m\u001b[0;34m)\u001b[0m\u001b[0;34m\u001b[0m\u001b[0;34m\u001b[0m\u001b[0m\n\u001b[0m",
      "\u001b[0;31mNameError\u001b[0m: name 'df' is not defined"
     ]
    }
   ],
   "source": [
    "#exporting Dataframe to csv\n",
    "df.to_csv('out.csv')\n"
   ]
  },
  {
   "cell_type": "code",
   "execution_count": null,
   "metadata": {},
   "outputs": [],
   "source": []
  }
 ]
}