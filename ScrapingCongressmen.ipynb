{
 "metadata": {
  "language_info": {
   "codemirror_mode": {
    "name": "ipython",
    "version": 3
   },
   "file_extension": ".py",
   "mimetype": "text/x-python",
   "name": "python",
   "nbconvert_exporter": "python",
   "pygments_lexer": "ipython3",
   "version": "3.8.5-final"
  },
  "orig_nbformat": 2,
  "kernelspec": {
   "name": "python3",
   "display_name": "Python 3.8.5 64-bit",
   "metadata": {
    "interpreter": {
     "hash": "aee8b7b246df8f9039afb4144a1f6fd8d2ca17a180786b69acc140d282b71a49"
    }
   }
  }
 },
 "nbformat": 4,
 "nbformat_minor": 2,
 "cells": [
  {
   "cell_type": "code",
   "execution_count": 2,
   "metadata": {
    "tags": []
   },
   "outputs": [],
   "source": [
    "import requests\n",
    "import json\n",
    "from bs4 import BeautifulSoup\n",
    "import pandas as pd\n",
    "import numpy as np\n",
    "\n",
    "# api requests\n",
    "# Senator api request\n",
    "Senator_response = requests.get(\n",
    "    'https://api.propublica.org/congress/v1/116/senate/members.json',\n",
    "    headers={'X-API-Key': 'PTmyeOwqEcHo6ZIRbr76DrAFRG649DHtwaAJAsXS'}\n",
    ")\n",
    "# House api request\n",
    "House_response = requests.get(\n",
    "    'https://api.propublica.org/congress/v1/116/house/members.json',\n",
    "    headers={'X-API-Key': 'PTmyeOwqEcHo6ZIRbr76DrAFRG649DHtwaAJAsXS'}\n",
    ")\n",
    "\n",
    "#convert responses into json\n",
    "senate_json_response = Senator_response.json()\n",
    "house_json_response = House_response.json()\n"
   ]
  },
  {
   "cell_type": "code",
   "execution_count": 3,
   "metadata": {},
   "outputs": [
    {
     "output_type": "stream",
     "name": "stdout",
     "text": [
      "102\n450\n"
     ]
    }
   ],
   "source": [
    "# Senator array\n",
    "Senate = senate_json_response['results'][0][\"members\"]\n",
    "print(len(Senate))\n",
    "# House array\n",
    "House = house_json_response['results'][0][\"members\"]    \n",
    "print(len(House))"
   ]
  },
  {
   "cell_type": "code",
   "execution_count": 4,
   "metadata": {},
   "outputs": [
    {
     "output_type": "stream",
     "name": "stdout",
     "text": [
      "552\n"
     ]
    }
   ],
   "source": [
    "#Congress Array\n",
    "Congress = Senate + House\n",
    "print(len(Congress))"
   ]
  },
  {
   "cell_type": "code",
   "execution_count": 5,
   "metadata": {},
   "outputs": [],
   "source": [
    "\n",
    "# Convert array in Dataframe\n",
    "df = pd.DataFrame(Congress)"
   ]
  },
  {
   "cell_type": "code",
   "execution_count": 7,
   "metadata": {},
   "outputs": [],
   "source": [
    "df = df.drop(['date_of_birth', 'twitter_account', 'facebook_account','youtube_account','url', 'rss_url','contact_form', 'in_office', 'ideal_point', \n",
    "'total_votes', 'missed_votes', 'total_present', 'last_updated', 'office', 'phone', 'fax', 'at_large', 'geoid', 'cook_pvi','dw_nominate'], axis=1)"
   ]
  },
  {
   "cell_type": "code",
   "execution_count": 8,
   "metadata": {},
   "outputs": [],
   "source": [
    "\n",
    "df['image'] = \"None\""
   ]
  },
  {
   "cell_type": "code",
   "execution_count": 9,
   "metadata": {
    "tags": []
   },
   "outputs": [],
   "source": [
    "# States for scraping\n",
    "states = [\"alabama\", 'alaska',\"arizona\", \"arkansas\", \"california\", \"colorado\",'connecticut','delaware', 'florida','georgia', 'hawaii','idaho', 'illinois', 'indiana', 'iowa', 'kansas', 'kentucky', 'louisiana', 'maine', 'maryland', 'massachusetts', 'michigan', 'minnesota', 'mississippi', 'missouri','montana', 'nebraska','nevada', 'new%20hampshire', 'new%20jersey','new%20mexico', 'new%20york', 'north%20carolina', 'north%20dakota', 'ohio', 'oklahoma', 'oregon', 'pennsylvania','puerto%20rico', 'rhode%20island', 'south%20carolina', 'south%20dakota', 'tennessee', 'texas', 'utah', 'vermont', 'virginia', 'washington', 'west%20virginia', 'wisconsin', 'wyoming' ]\n",
    "\n",
    "Main_url = 'https://www.congress.gov/search?searchResultViewType=expanded&q={%22congress%22:[%22116%22],%22source%22:[%22members%22],%22search%22:%22'\n",
    "back_of_Main_url = \"%22}\"\n",
    "top_images_url = 'https://congress.gov'\n",
    "#reps with no photos on Congress.gov\n",
    "no_photos = []\n",
    "Congress_dic = {}\n",
    "Congress_dic['congress_info'] = [] "
   ]
  },
  {
   "cell_type": "code",
   "execution_count": 10,
   "metadata": {},
   "outputs": [],
   "source": [
    "# Checking to see if there is a picture on the website\n",
    "def CheckForImg(str):\n",
    "    try:\n",
    "        rep_Img = rep.find(\"img\")['src']\n",
    "        return True\n",
    "    except:\n",
    "        return False"
   ]
  },
  {
   "cell_type": "code",
   "execution_count": 11,
   "metadata": {},
   "outputs": [],
   "source": [
    "state_abrv = {\"alabama\":'AL', 'alaska':'AL',\"arizona\":'AZ', \"arkansas\":'AK', \"california\":'CA', \"colorado\":'CO','connecticut':'CT','delaware':'DE', 'florida':'FL','georgia':'GA', 'hawaii':'HI','idaho':'ID', 'illinois':'IL', 'indiana':'ID', 'iowa':'IA', 'kansas':'KS', 'kentucky':'KY', 'louisiana':'LA', 'maine':'ME', 'maryland':'MD', 'massachusetts':'MA', 'michigan':\"MI\", 'minnesota':'MN', 'mississippi':'MS', 'missouri':'MS','montana':'MT', 'nebraska':'NE','nevada':'NV', 'new%20hampshire':'NH', 'new%20jersey':'NJ','new%20mexico':'NM', 'new%20york':'NY', 'north%20carolina':'NC', 'north%20dakota':'ND', 'ohio':'OH', 'oklahoma':'OK', 'oregon':'OR', 'pennsylvania':'PA','puerto%20rico':'PR','rhode%20island':'RI', 'south%20carolina':'SC', 'south%20dakota':'SD', 'tennessee':'TN', 'texas':'TX', 'utah':'UT', 'vermont':'VT', 'virginia':'VA', 'washington':'WA', 'west%20virginia':'WV', 'wisconsin':'WI', 'wyoming':'WY'}"
   ]
  },
  {
   "cell_type": "code",
   "execution_count": 12,
   "metadata": {
    "tags": []
   },
   "outputs": [],
   "source": [
    "\n",
    "# # for loop that is going thru every state\n",
    "for state in states: \n",
    "    state_res = requests.get(Main_url+state+back_of_Main_url)\n",
    "    state_soup = BeautifulSoup(state_res.text, 'html.parser')\n",
    "    Rep_results = state_soup.findAll(\"li\", {\"class\":\"expanded\"})\n",
    "\n",
    "    for rep in Rep_results:\n",
    "        photo = CheckForImg(rep)\n",
    "        rep_name = rep.find(\"span\", {\"class\":\"result-heading\"}).text.split(' ')[1:]\n",
    "        rep_index = df.loc[(df['state'] == state_abrv[state]) & (df['last_name'] == rep_name[0][:-1])].index\n",
    "        if photo:\n",
    "            df.at[rep_index, 'image'] = rep_Img = rep.find(\"img\")['src']"
   ]
  },
  {
   "cell_type": "code",
   "execution_count": 28,
   "metadata": {},
   "outputs": [],
   "source": [
    "#exporting Dataframe to csv\n",
    "df.to_csv('CongressData.csv')"
   ]
  },
  {
   "cell_type": "code",
   "execution_count": 15,
   "metadata": {},
   "outputs": [],
   "source": [
    "data = df.to_dict('records')"
   ]
  },
  {
   "cell_type": "code",
   "execution_count": 16,
   "metadata": {},
   "outputs": [
    {
     "output_type": "execute_result",
     "data": {
      "text/plain": [
       "list"
      ]
     },
     "metadata": {},
     "execution_count": 16
    }
   ],
   "source": [
    "type(data)"
   ]
  },
  {
   "cell_type": "code",
   "execution_count": null,
   "metadata": {},
   "outputs": [],
   "source": []
  }
 ]
}