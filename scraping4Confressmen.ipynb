{
 "metadata": {
  "language_info": {
   "codemirror_mode": {
    "name": "ipython",
    "version": 3
   },
   "file_extension": ".py",
   "mimetype": "text/x-python",
   "name": "python",
   "nbconvert_exporter": "python",
   "pygments_lexer": "ipython3",
   "version": "3.9.1-final"
  },
  "orig_nbformat": 2,
  "kernelspec": {
   "name": "python3",
   "display_name": "Python 3.9.1 64-bit",
   "metadata": {
    "interpreter": {
     "hash": "7812ea015bdcee6f23a998adcdd2ef97c151c0c241b7b7070987d9313e41299d"
    }
   }
  }
 },
 "nbformat": 4,
 "nbformat_minor": 2,
 "cells": [
  {
   "cell_type": "code",
   "execution_count": 1,
   "metadata": {},
   "outputs": [],
   "source": [
    "# import libraries\n",
    "import requests\n",
    "import json\n",
    "from bs4 import BeautifulSoup\n",
    "import pandas as pd\n",
    "import numpy as np\n",
    "\n",
    "# api requests\n",
    "# Currently we are on congress 117\n",
    "\n",
    "\n",
    "# Senator api request\n",
    "Senator_response = requests.get(\n",
    "    'https://api.propublica.org/congress/v1/117/senate/members.json',\n",
    "    headers={'X-API-Key': 'PTmyeOwqEcHo6ZIRbr76DrAFRG649DHtwaAJAsXS'}\n",
    ")\n",
    "# House api request\n",
    "House_response = requests.get(\n",
    "    'https://api.propublica.org/congress/v1/117/house/members.json',\n",
    "    headers={'X-API-Key': 'PTmyeOwqEcHo6ZIRbr76DrAFRG649DHtwaAJAsXS'}\n",
    ")\n",
    "\n",
    "#convert responses into json\n",
    "senate_json_response = Senator_response.json()\n",
    "house_json_response = House_response.json()"
   ]
  },
  {
   "cell_type": "code",
   "execution_count": 3,
   "metadata": {},
   "outputs": [
    {
     "output_type": "stream",
     "name": "stdout",
     "text": [
      "102\n440\n"
     ]
    }
   ],
   "source": [
    "# Senator array\n",
    "Senate = senate_json_response['results'][0][\"members\"]\n",
    "print(len(Senate))\n",
    "\n",
    "# House array\n",
    "House = house_json_response['results'][0][\"members\"]    \n",
    "print(len(House))"
   ]
  },
  {
   "cell_type": "code",
   "execution_count": 4,
   "metadata": {},
   "outputs": [
    {
     "output_type": "stream",
     "name": "stdout",
     "text": [
      "542\n"
     ]
    }
   ],
   "source": [
    "#Congress Array\n",
    "Congress = Senate + House\n",
    "print(len(Congress))"
   ]
  },
  {
   "cell_type": "code",
   "execution_count": 5,
   "metadata": {},
   "outputs": [],
   "source": [
    "# Convert array in Dataframe\n",
    "df = pd.DataFrame(Congress)"
   ]
  },
  {
   "cell_type": "code",
   "execution_count": 6,
   "metadata": {},
   "outputs": [],
   "source": [
    "#dropping unnessary columns from dataframe\n",
    "df = df.drop(['date_of_birth', 'twitter_account','facebook_account','youtube_account', 'rss_url','contact_form', 'in_office', 'ideal_point', 'contact_form','next_election',\n",
    "'total_votes', 'missed_votes', 'total_present', 'last_updated', 'office', 'phone', 'fax', 'at_large', 'geoid', 'cook_pvi','dw_nominate', 'votes_with_party_pct', 'votes_with_party_pct', 'missed_votes_pct','votes_against_party_pct'], axis=1)"
   ]
  },
  {
   "cell_type": "code",
   "execution_count": 7,
   "metadata": {},
   "outputs": [],
   "source": [
    "# Column that we are adding to the dataframe\n",
    "df['image'] = \"None\"\n",
    "# VTO20E = Voted to overturn 2020 election\n",
    "df['VTO20E'] = False\n",
    "# VTITAI = Voted to impeach Trump after inserection\n",
    "df['VTITAI'] = 1.0"
   ]
  },
  {
   "cell_type": "code",
   "execution_count": 8,
   "metadata": {},
   "outputs": [],
   "source": [
    "# States for scraping\n",
    "states = [\"alabama\", 'alaska',\"arizona\", \"arkansas\", \"california\", \"colorado\",'connecticut','delaware', 'florida','georgia', 'hawaii','idaho', 'illinois', 'indiana', 'iowa', 'kansas', 'kentucky', 'louisiana', 'maine', 'maryland', 'massachusetts', 'michigan', 'minnesota', 'mississippi', 'missouri','montana', 'nebraska','nevada', 'new%20hampshire', 'new%20jersey','new%20mexico', 'new%20york', 'north%20carolina', 'north%20dakota', 'ohio', 'oklahoma', 'oregon', 'pennsylvania','puerto%20rico', 'rhode%20island', 'south%20carolina', 'south%20dakota', 'tennessee', 'texas', 'utah', 'vermont', 'virginia', 'washington', 'west%20virginia', 'wisconsin', 'wyoming' ]\n",
    "\n",
    "Main_url = 'https://www.congress.gov/search?searchResultViewType=expanded&q={%22congress%22:[%22116%22],%22source%22:[%22members%22],%22search%22:%22'\n",
    "back_of_Main_url = \"%22}\"\n",
    "top_images_url = 'https://congress.gov'\n",
    "#reps with no photos on Congress.gov\n",
    "no_photos = []\n",
    "Congress_dic = {}\n",
    "Congress_dic['congress_info'] = []"
   ]
  },
  {
   "cell_type": "code",
   "execution_count": 9,
   "metadata": {},
   "outputs": [],
   "source": [
    "def CheckForImg(str):\n",
    "    try:\n",
    "        rep_Img = rep.find(\"img\")['src']\n",
    "        return True\n",
    "    except:\n",
    "        return False"
   ]
  },
  {
   "cell_type": "code",
   "execution_count": 10,
   "metadata": {},
   "outputs": [],
   "source": [
    "# State Abbrevation Map Key\n",
    "state_abrv = {\"alabama\":'AL', 'alaska':'AL',\"arizona\":'AZ', \"arkansas\":'AK', \"california\":'CA', \"colorado\":'CO','connecticut':'CT','delaware':'DE', 'florida':'FL','georgia':'GA', 'hawaii':'HI','idaho':'ID', 'illinois':'IL', 'indiana':'ID', 'iowa':'IA', 'kansas':'KS', 'kentucky':'KY', 'louisiana':'LA', 'maine':'ME', 'maryland':'MD', 'massachusetts':'MA', 'michigan':\"MI\", 'minnesota':'MN', 'mississippi':'MS', 'missouri':'MS','montana':'MT', 'nebraska':'NE','nevada':'NV', 'new%20hampshire':'NH', 'new%20jersey':'NJ','new%20mexico':'NM', 'new%20york':'NY', 'north%20carolina':'NC', 'north%20dakota':'ND', 'ohio':'OH', 'oklahoma':'OK', 'oregon':'OR', 'pennsylvania':'PA','puerto%20rico':'PR','rhode%20island':'RI', 'south%20carolina':'SC', 'south%20dakota':'SD', 'tennessee':'TN', 'texas':'TX', 'utah':'UT', 'vermont':'VT', 'virginia':'VA', 'washington':'WA', 'west%20virginia':'WV', 'wisconsin':'WI', 'wyoming':'WY'}"
   ]
  },
  {
   "cell_type": "code",
   "execution_count": null,
   "metadata": {},
   "outputs": [],
   "source": []
  },
  {
   "cell_type": "code",
   "execution_count": 23,
   "metadata": {},
   "outputs": [
    {
     "output_type": "stream",
     "name": "stdout",
     "text": [
      "<li class=\"expanded\"> <div><span class=\"visualIndicator\">MEMBER</span></div>\n    2.\n    <span class=\"result-heading\"><a href=\"/member/mo-brooks/B001274?q=%7B%22search%22%3A%5B%22alabama%22%5D%7D&amp;s=1&amp;r=2\">Representative Brooks, Mo</a></span>\n<div class=\"quick-search-member\">\n<div class=\"member-image\"><img alt=\"Brooks, Mo\" src=\"/img/member/b001274_200.jpg\"/></div>\n<div class=\"member-profile member-image-exists\">\n<span class=\"result-item\">\n<strong>State:</strong>\n<span>Alabama</span>\n</span>\n<span class=\"result-item\">\n<strong>District:</strong>\n<span>5</span>\n</span>\n<span class=\"result-item\">\n<strong>Party:</strong>\n<span>Republican</span>\n</span>\n<span class=\"result-item\">\n<strong>Served:</strong>\n<span>\n<ul class=\"member-served\">\n<li>House: 2011-Present</li> </ul>\n</span>\n</span>\n</div>\n<div class=\"clear\"></div>\n</div>\n</li>\n"
     ]
    },
    {
     "output_type": "error",
     "ename": "KeyError",
     "evalue": "1",
     "traceback": [
      "\u001b[0;31m---------------------------------------------------------------------------\u001b[0m",
      "\u001b[0;31mKeyError\u001b[0m                                  Traceback (most recent call last)",
      "\u001b[0;32m<ipython-input-23-41f211ba4f37>\u001b[0m in \u001b[0;36m<module>\u001b[0;34m\u001b[0m\n\u001b[1;32m      5\u001b[0m     \u001b[0mRep_results\u001b[0m \u001b[0;34m=\u001b[0m \u001b[0mstate_soup\u001b[0m\u001b[0;34m.\u001b[0m\u001b[0mfindAll\u001b[0m\u001b[0;34m(\u001b[0m\u001b[0;34m\"li\"\u001b[0m\u001b[0;34m,\u001b[0m \u001b[0;34m{\u001b[0m\u001b[0;34m\"class\"\u001b[0m\u001b[0;34m:\u001b[0m\u001b[0;34m\"expanded\"\u001b[0m\u001b[0;34m}\u001b[0m\u001b[0;34m)\u001b[0m\u001b[0;34m\u001b[0m\u001b[0;34m\u001b[0m\u001b[0m\n\u001b[1;32m      6\u001b[0m     \u001b[0mprint\u001b[0m\u001b[0;34m(\u001b[0m\u001b[0mRep_results\u001b[0m\u001b[0;34m[\u001b[0m\u001b[0;36m1\u001b[0m\u001b[0;34m]\u001b[0m\u001b[0;34m)\u001b[0m\u001b[0;34m\u001b[0m\u001b[0;34m\u001b[0m\u001b[0m\n\u001b[0;32m----> 7\u001b[0;31m     \u001b[0mprint\u001b[0m\u001b[0;34m(\u001b[0m\u001b[0mRep_results\u001b[0m\u001b[0;34m[\u001b[0m\u001b[0;36m1\u001b[0m\u001b[0;34m]\u001b[0m\u001b[0;34m[\u001b[0m\u001b[0;36m1\u001b[0m\u001b[0;34m]\u001b[0m\u001b[0;34m)\u001b[0m\u001b[0;34m\u001b[0m\u001b[0;34m\u001b[0m\u001b[0m\n\u001b[0m\u001b[1;32m      8\u001b[0m     \u001b[0;32mfor\u001b[0m \u001b[0mrep\u001b[0m \u001b[0;32min\u001b[0m \u001b[0mRep_results\u001b[0m\u001b[0;34m:\u001b[0m\u001b[0;34m\u001b[0m\u001b[0;34m\u001b[0m\u001b[0m\n\u001b[1;32m      9\u001b[0m         \u001b[0mphoto\u001b[0m \u001b[0;34m=\u001b[0m \u001b[0mCheckForImg\u001b[0m\u001b[0;34m(\u001b[0m\u001b[0mrep\u001b[0m\u001b[0;34m)\u001b[0m\u001b[0;34m\u001b[0m\u001b[0;34m\u001b[0m\u001b[0m\n",
      "\u001b[0;32m/Library/Frameworks/Python.framework/Versions/3.9/lib/python3.9/site-packages/bs4/element.py\u001b[0m in \u001b[0;36m__getitem__\u001b[0;34m(self, key)\u001b[0m\n\u001b[1;32m   1404\u001b[0m         \"\"\"tag[key] returns the value of the 'key' attribute for the Tag,\n\u001b[1;32m   1405\u001b[0m         and throws an exception if it's not there.\"\"\"\n\u001b[0;32m-> 1406\u001b[0;31m         \u001b[0;32mreturn\u001b[0m \u001b[0mself\u001b[0m\u001b[0;34m.\u001b[0m\u001b[0mattrs\u001b[0m\u001b[0;34m[\u001b[0m\u001b[0mkey\u001b[0m\u001b[0;34m]\u001b[0m\u001b[0;34m\u001b[0m\u001b[0;34m\u001b[0m\u001b[0m\n\u001b[0m\u001b[1;32m   1407\u001b[0m \u001b[0;34m\u001b[0m\u001b[0m\n\u001b[1;32m   1408\u001b[0m     \u001b[0;32mdef\u001b[0m \u001b[0m__iter__\u001b[0m\u001b[0;34m(\u001b[0m\u001b[0mself\u001b[0m\u001b[0;34m)\u001b[0m\u001b[0;34m:\u001b[0m\u001b[0;34m\u001b[0m\u001b[0;34m\u001b[0m\u001b[0m\n",
      "\u001b[0;31mKeyError\u001b[0m: 1"
     ]
    }
   ],
   "source": [
    "# # for loop that is going thru every state\n",
    "for state in states: \n",
    "    state_res = requests.get(Main_url+state+back_of_Main_url)\n",
    "    state_soup = BeautifulSoup(state_res.text, 'html.parser')\n",
    "    Rep_results = state_soup.findAll(\"li\", {\"class\":\"expanded\"})\n",
    "    # print(Rep_results[1])\n",
    "    photo1 = CheckForImg(Rep_results[1])\n",
    "    print(photo1)\n",
    "    rep_name1 = Rep_results[1].find(\"span\", {\"class\":\"result-heading\"}).text.split(' ')[1:]\n",
    "    print(rep_name)\n",
    "    rep_index = df.loc[(df['state'] == state_abrv[state]) & (df['last_name'] == rep_name[0][:-1])].index\n",
    "    print(index)\n",
    "    for rep in Rep_results:\n",
    "        photo = CheckForImg(rep)\n",
    "        rep_name = rep.find(\"span\", {\"class\":\"result-heading\"}).text.split(' ')[1:]\n",
    "        rep_index = df.loc[(df['state'] == state_abrv[state]) & (df['last_name'] == rep_name[0][:-1])].index\n",
    "\n",
    "        # Making sure the rep_index has a value\n",
    "        if(rep_index != None or rep_index != \"\"):\n",
    "            if photo:\n",
    "                df.at[rep_index, 'image'] = rep_Img = rep.find(\"img\")['src']"
   ]
  },
  {
   "cell_type": "code",
   "execution_count": 12,
   "metadata": {},
   "outputs": [],
   "source": [
    "# Switching all House and Senate Republicans that they didnt want to impeach trump\n",
    "df.loc[(df.party == \"R\"), ['VTITAI']] = 0.0"
   ]
  },
  {
   "cell_type": "code",
   "execution_count": 13,
   "metadata": {},
   "outputs": [],
   "source": [
    "# House Members who didnt appear to vote on impeachmenting charges\n",
    "no_vote = [\"Kay Granger\", \"Andy Harris\", \"Greg Murphy\", \"Daniel Webster\"]\n",
    "for pussy in no_vote:\n",
    "    name = pussy.split(\" \")\n",
    "    rep_index = df.loc[(df['party'] == \"R\") & (df['last_name'] == name[1]) & (df['first_name'] == name[0])].index\n",
    "    df.at[rep_index, 'VTITAI'] = None"
   ]
  },
  {
   "cell_type": "code",
   "execution_count": 14,
   "metadata": {},
   "outputs": [],
   "source": [
    "# Republican House & Senate members who voted to impeach Trump\n",
    "RepHouseHeros = [\"Liz, Cheney\", \"Anthony, Gonzalez\", \"Jaime, Herrera Beutler\", \"John, Katko\", \"Adam, Kininger\", \"Peter, Meijer\", \"Dan, Newhouse\", \"Tom, Rice\", \"Fred, Upton\", \"David, Valadao\", \"Susan, Collins\", \"Lisa, Murkowski\", \"Mitt, Romney\", \"Ben, Sasse\", \" Bill, Cassidy\", \"Patrick, Toomey\", \"Richard, Burr\"]\n",
    "\n",
    "for hero in RepHouseHeros:\n",
    "    name = hero.split(\", \")\n",
    "    rep_index = df.loc[(df['party'] == \"R\") & (df['last_name'] == name[1]) & (df['first_name'] == name[0])].index\n",
    "    df.at[rep_index, 'VTITAI'] = 1.0"
   ]
  },
  {
   "cell_type": "code",
   "execution_count": 15,
   "metadata": {},
   "outputs": [],
   "source": [
    "# idiots who voted to overturn 2020 election\n",
    "idiots = [\"Tommy, Tuberville\", \"Rick, Scott\", \"Roger, Marshall\", \"John, Kennedy\", \"Cindy, Hyde-Smith\", \"Josh, Hawley\", \"Ted, Cruz\", \"Cynthia, Lummis\", \"Robert, Aderholt\", \"Mo, Brooks\", \"Jerry, Carl\", \"Barry, Moore\", \"Gary, Palmer\", \"Mike, Rogers\", \"Andy, Biggs\", \"Paul, Gosar\", \"Debbie, Lesko\", \"David, Schweikert\", \"Rick, Crawford\", \"Ken, Calvert\", \"Mike, Garcia\", \"Darrell, Issa\", \"Doug, LaMalfa\", \"Kevin, McCarthy\", \"Devin, Nunes\", \"Jay, Obernolte\", \"Lauren, Boebert\", \"Doug, Lamborn\", \"Kat, Cammack\", \"Mario, Diaz-Balart\", \"Byron, Donalds\", \"Neal, Dunn\", \"Scott, Franklin\", \"Matt, Gaetz\", \"Carlos, Gimenez\", \"Brian, Mast\", \"Bill, Posey\", \"John, Rutherford\", \"Greg, Steube\", \"Daniel, Webster\", \"Rick, Allen\", \"Buddy, Carter\", \"Andrew, Clyde\",\"Marjorie, Greene\", \"Jody, Hice\", \"Barry, LouderMilk\", \"Russ, Fulcher\", \"Mike, Bost\", \"Mary, Miller\", \"Jim, Barid\", \"Jim, Banks\", \"Greg, Pence\", \"Jackie, Walorski\", \"Ron, Estes\", \"Jacob, LaTurner\", \"Tracey, Mann\", \"Harold, Rogers\", \"Garret, Greaves\", \"Clay, Higgins\", \"Mike, Johnson\", \"Steve, Scalise\", \"Andy, Harris\", \"Jack, Bergman\", \"Lisa, McClain\", \"Tim, Walberg\", \"Michelle, Fischbach\", \"Jim, Hagedorn\", \"Michael, Guest\", \"Trent, Kelly\", \"Steven, Palazzo\", \"Sam, Graves\", \"Vicky, Hartzler\", \"Billy, Long\", \"Blaine, Luetkemeyer\", \"Jason, Smith\", \"Matt, Rosendale\", \"Dan, Bishop\", \"Ted, Budd\", \"Madison, Cawthorn\", \"Virginia, Foxx\", \"Richard, Hudson\", \"Greg, Murphy\", \"David, Rouzer\", \"Jeff, Van Drew\" , \"Yvette, Herrell\", \"Chris, Jacobs\", \"Nicole, Malliotakis\", \"Elise, Stefanik\", \"Lee, Zeldin\", \"Adrian, Smith\", \"Steve, Chabot\", \"Warren, Davidson\", \"Bob, Gibbs\", \"Bill, Johnson\", \"Jim, Jordan\", \"Stephaine, Bice\", \"Tom, Cole\", \"Kevin, Hern\", \"Frank, Lucas\", \"Markwayne, Mullin\", \"Cliff, Bentz\", \"John, Joyce\", \"Fred, Keller\", \"Mike, Kelly\", \"Daniel, Meuser\", \"Scott, Perry\", \"Guy, Reschenthaler\", \"Lloyd, Smucker\", \"Glenn, Thompson\", \"Jeff, Duncan\", \"Ralph, Norman\", \"Tom, Rice\", \"William, Timmons\", \"Joe, Wilson\", \"Tim, Burchett\", \"Scott, DesJarlais\", \"Chuck, Fleischmann\", \"Mark, Green\", \"Diana, Harshbarger\", \"David, Kustoff\", \"John, Rose\", \"Jodey, Arrington\", \"Brian, Babin\", \"Michael, Burgess\", \"John, Carter\", \"Michael, Cloud\", \"Pat, Fallon\", \"Louie, Gohmert\", \"Lance, Gooden\", \"Ronny, Jackson\", \"Troy, Nehls\", \"August, Pfluger\", \"Pete, Sessions\", \"Beth, Van Duyne\", \"Randy, Weber\", \"Roger, Williams\", \"Ron, Wright\", \"Burgess, Owens\", \"Chris, Stewart\", \"Ben, Cline\", \"Bob, Good\", \"Morgan, Griffith\", \"Robert, Wittman\", \"Carol, Miller\", \"Alex, Mooney\", \"Scott, Fitzgerald\", \"Tom, Tiffany\"]"
   ]
  },
  {
   "cell_type": "code",
   "execution_count": 16,
   "metadata": {},
   "outputs": [],
   "source": [
    "for idiot in idiots:\n",
    "    name = idiot.split(\", \")\n",
    "    rep_index = df.loc[(df['party'] == \"R\") & (df['first_name'] == name[0]) & (df['last_name'] == name[1])].index\n",
    "    df.at[rep_index, 'VTO20E'] = True"
   ]
  },
  {
   "cell_type": "code",
   "execution_count": 19,
   "metadata": {},
   "outputs": [
    {
     "output_type": "execute_result",
     "data": {
      "text/plain": [
       "          id               title short_title  \\\n",
       "93   T000278  Senator, 2nd Class        Sen.   \n",
       "155  C001054      Representative        Rep.   \n",
       "384  M001212      Representative        Rep.   \n",
       "\n",
       "                                               api_uri first_name middle_name  \\\n",
       "93   https://api.propublica.org/congress/v1/members...      Tommy        None   \n",
       "155  https://api.propublica.org/congress/v1/members...      Jerry        None   \n",
       "384  https://api.propublica.org/congress/v1/members...      Barry        None   \n",
       "\n",
       "      last_name suffix gender party  ... seniority  \\\n",
       "93   Tuberville   None      M     R  ...         1   \n",
       "155        Carl   None      M     R  ...         2   \n",
       "384       Moore   None      M     R  ...         2   \n",
       "\n",
       "                                    ocd_id state senate_class state_rank  \\\n",
       "93        ocd-division/country:us/state:al    AL            2     junior   \n",
       "155  ocd-division/country:us/state:al/cd:1    AL          NaN        NaN   \n",
       "384  ocd-division/country:us/state:al/cd:2    AL          NaN        NaN   \n",
       "\n",
       "    lis_id district image VTO20E VTITAI  \n",
       "93    S412      NaN  None   True    0.0  \n",
       "155    NaN        1  None   True    0.0  \n",
       "384    NaN        2  None   True    0.0  \n",
       "\n",
       "[3 rows x 29 columns]"
      ],
      "text/html": "<div>\n<style scoped>\n    .dataframe tbody tr th:only-of-type {\n        vertical-align: middle;\n    }\n\n    .dataframe tbody tr th {\n        vertical-align: top;\n    }\n\n    .dataframe thead th {\n        text-align: right;\n    }\n</style>\n<table border=\"1\" class=\"dataframe\">\n  <thead>\n    <tr style=\"text-align: right;\">\n      <th></th>\n      <th>id</th>\n      <th>title</th>\n      <th>short_title</th>\n      <th>api_uri</th>\n      <th>first_name</th>\n      <th>middle_name</th>\n      <th>last_name</th>\n      <th>suffix</th>\n      <th>gender</th>\n      <th>party</th>\n      <th>...</th>\n      <th>seniority</th>\n      <th>ocd_id</th>\n      <th>state</th>\n      <th>senate_class</th>\n      <th>state_rank</th>\n      <th>lis_id</th>\n      <th>district</th>\n      <th>image</th>\n      <th>VTO20E</th>\n      <th>VTITAI</th>\n    </tr>\n  </thead>\n  <tbody>\n    <tr>\n      <th>93</th>\n      <td>T000278</td>\n      <td>Senator, 2nd Class</td>\n      <td>Sen.</td>\n      <td>https://api.propublica.org/congress/v1/members...</td>\n      <td>Tommy</td>\n      <td>None</td>\n      <td>Tuberville</td>\n      <td>None</td>\n      <td>M</td>\n      <td>R</td>\n      <td>...</td>\n      <td>1</td>\n      <td>ocd-division/country:us/state:al</td>\n      <td>AL</td>\n      <td>2</td>\n      <td>junior</td>\n      <td>S412</td>\n      <td>NaN</td>\n      <td>None</td>\n      <td>True</td>\n      <td>0.0</td>\n    </tr>\n    <tr>\n      <th>155</th>\n      <td>C001054</td>\n      <td>Representative</td>\n      <td>Rep.</td>\n      <td>https://api.propublica.org/congress/v1/members...</td>\n      <td>Jerry</td>\n      <td>None</td>\n      <td>Carl</td>\n      <td>None</td>\n      <td>M</td>\n      <td>R</td>\n      <td>...</td>\n      <td>2</td>\n      <td>ocd-division/country:us/state:al/cd:1</td>\n      <td>AL</td>\n      <td>NaN</td>\n      <td>NaN</td>\n      <td>NaN</td>\n      <td>1</td>\n      <td>None</td>\n      <td>True</td>\n      <td>0.0</td>\n    </tr>\n    <tr>\n      <th>384</th>\n      <td>M001212</td>\n      <td>Representative</td>\n      <td>Rep.</td>\n      <td>https://api.propublica.org/congress/v1/members...</td>\n      <td>Barry</td>\n      <td>None</td>\n      <td>Moore</td>\n      <td>None</td>\n      <td>M</td>\n      <td>R</td>\n      <td>...</td>\n      <td>2</td>\n      <td>ocd-division/country:us/state:al/cd:2</td>\n      <td>AL</td>\n      <td>NaN</td>\n      <td>NaN</td>\n      <td>NaN</td>\n      <td>2</td>\n      <td>None</td>\n      <td>True</td>\n      <td>0.0</td>\n    </tr>\n  </tbody>\n</table>\n<p>3 rows × 29 columns</p>\n</div>"
     },
     "metadata": {},
     "execution_count": 19
    }
   ],
   "source": [
    "df[(df[\"image\"] == \"None\") & (df['state'] == \"AL\")]"
   ]
  },
  {
   "cell_type": "code",
   "execution_count": null,
   "metadata": {},
   "outputs": [],
   "source": [
    "df[(df[\"image\"] == \"None\") & (df['state'] == \"AL\") & (df['last_name'])]"
   ]
  },
  {
   "cell_type": "code",
   "execution_count": 20,
   "metadata": {},
   "outputs": [
    {
     "output_type": "execute_result",
     "data": {
      "text/plain": [
       "          id               title short_title  \\\n",
       "5    B000575  Senator, 3rd Class        Sen.   \n",
       "7    B001236  Senator, 3rd Class        Sen.   \n",
       "8    B001310  Senator, 1st Class        Sen.   \n",
       "20   C001113  Senator, 3rd Class        Sen.   \n",
       "21   C001095  Senator, 2nd Class        Sen.   \n",
       "..       ...                 ...         ...   \n",
       "524  W000822      Representative        Rep.   \n",
       "529  W000821      Representative        Rep.   \n",
       "533  W000788      Representative        Rep.   \n",
       "537  W000809      Representative        Rep.   \n",
       "540  Y000033      Representative        Rep.   \n",
       "\n",
       "                                               api_uri first_name middle_name  \\\n",
       "5    https://api.propublica.org/congress/v1/members...        Roy        None   \n",
       "7    https://api.propublica.org/congress/v1/members...       John        None   \n",
       "8    https://api.propublica.org/congress/v1/members...       Mike        None   \n",
       "20   https://api.propublica.org/congress/v1/members...  Catherine        None   \n",
       "21   https://api.propublica.org/congress/v1/members...        Tom        None   \n",
       "..                                                 ...        ...         ...   \n",
       "524  https://api.propublica.org/congress/v1/members...     Bonnie        None   \n",
       "529  https://api.propublica.org/congress/v1/members...      Bruce        None   \n",
       "533  https://api.propublica.org/congress/v1/members...     Nikema        None   \n",
       "537  https://api.propublica.org/congress/v1/members...      Steve        None   \n",
       "540  https://api.propublica.org/congress/v1/members...        Don        None   \n",
       "\n",
       "          last_name suffix gender party  ... seniority  \\\n",
       "5             Blunt   None      M     R  ...        11   \n",
       "7           Boozman   None      M     R  ...        11   \n",
       "8             Braun   None      M     R  ...         1   \n",
       "20     Cortez Masto   None      F     D  ...         1   \n",
       "21           Cotton   None      M     R  ...         7   \n",
       "..              ...    ...    ...   ...  ...       ...   \n",
       "524  Watson Coleman   None      F     D  ...         8   \n",
       "529       Westerman   None      M     R  ...         8   \n",
       "533        Williams   None      F     D  ...         2   \n",
       "537          Womack   None      M     R  ...        12   \n",
       "540           Young   None      M     R  ...        50   \n",
       "\n",
       "                                     ocd_id state senate_class state_rank  \\\n",
       "5          ocd-division/country:us/state:mo    MO            3     senior   \n",
       "7          ocd-division/country:us/state:ar    AR            3     senior   \n",
       "8          ocd-division/country:us/state:in    IN            1     junior   \n",
       "20         ocd-division/country:us/state:nv    NV            3     senior   \n",
       "21         ocd-division/country:us/state:ar    AR            2     junior   \n",
       "..                                      ...   ...          ...        ...   \n",
       "524  ocd-division/country:us/state:nj/cd:12    NJ          NaN        NaN   \n",
       "529   ocd-division/country:us/state:ar/cd:4    AR          NaN        NaN   \n",
       "533   ocd-division/country:us/state:ga/cd:5    GA          NaN        NaN   \n",
       "537   ocd-division/country:us/state:ar/cd:3    AR          NaN        NaN   \n",
       "540   ocd-division/country:us/state:ak/cd:1    AK          NaN        NaN   \n",
       "\n",
       "    lis_id  district image VTO20E VTITAI  \n",
       "5     S342       NaN  None  False    0.0  \n",
       "7     S343       NaN  None  False    0.0  \n",
       "8     S397       NaN  None  False    0.0  \n",
       "20    S385       NaN  None  False    1.0  \n",
       "21    S374       NaN  None  False    0.0  \n",
       "..     ...       ...   ...    ...    ...  \n",
       "524    NaN        12  None  False    1.0  \n",
       "529    NaN         4  None  False    0.0  \n",
       "533    NaN         5  None  False    1.0  \n",
       "537    NaN         3  None  False    0.0  \n",
       "540    NaN  At-Large  None  False    0.0  \n",
       "\n",
       "[121 rows x 29 columns]"
      ],
      "text/html": "<div>\n<style scoped>\n    .dataframe tbody tr th:only-of-type {\n        vertical-align: middle;\n    }\n\n    .dataframe tbody tr th {\n        vertical-align: top;\n    }\n\n    .dataframe thead th {\n        text-align: right;\n    }\n</style>\n<table border=\"1\" class=\"dataframe\">\n  <thead>\n    <tr style=\"text-align: right;\">\n      <th></th>\n      <th>id</th>\n      <th>title</th>\n      <th>short_title</th>\n      <th>api_uri</th>\n      <th>first_name</th>\n      <th>middle_name</th>\n      <th>last_name</th>\n      <th>suffix</th>\n      <th>gender</th>\n      <th>party</th>\n      <th>...</th>\n      <th>seniority</th>\n      <th>ocd_id</th>\n      <th>state</th>\n      <th>senate_class</th>\n      <th>state_rank</th>\n      <th>lis_id</th>\n      <th>district</th>\n      <th>image</th>\n      <th>VTO20E</th>\n      <th>VTITAI</th>\n    </tr>\n  </thead>\n  <tbody>\n    <tr>\n      <th>5</th>\n      <td>B000575</td>\n      <td>Senator, 3rd Class</td>\n      <td>Sen.</td>\n      <td>https://api.propublica.org/congress/v1/members...</td>\n      <td>Roy</td>\n      <td>None</td>\n      <td>Blunt</td>\n      <td>None</td>\n      <td>M</td>\n      <td>R</td>\n      <td>...</td>\n      <td>11</td>\n      <td>ocd-division/country:us/state:mo</td>\n      <td>MO</td>\n      <td>3</td>\n      <td>senior</td>\n      <td>S342</td>\n      <td>NaN</td>\n      <td>None</td>\n      <td>False</td>\n      <td>0.0</td>\n    </tr>\n    <tr>\n      <th>7</th>\n      <td>B001236</td>\n      <td>Senator, 3rd Class</td>\n      <td>Sen.</td>\n      <td>https://api.propublica.org/congress/v1/members...</td>\n      <td>John</td>\n      <td>None</td>\n      <td>Boozman</td>\n      <td>None</td>\n      <td>M</td>\n      <td>R</td>\n      <td>...</td>\n      <td>11</td>\n      <td>ocd-division/country:us/state:ar</td>\n      <td>AR</td>\n      <td>3</td>\n      <td>senior</td>\n      <td>S343</td>\n      <td>NaN</td>\n      <td>None</td>\n      <td>False</td>\n      <td>0.0</td>\n    </tr>\n    <tr>\n      <th>8</th>\n      <td>B001310</td>\n      <td>Senator, 1st Class</td>\n      <td>Sen.</td>\n      <td>https://api.propublica.org/congress/v1/members...</td>\n      <td>Mike</td>\n      <td>None</td>\n      <td>Braun</td>\n      <td>None</td>\n      <td>M</td>\n      <td>R</td>\n      <td>...</td>\n      <td>1</td>\n      <td>ocd-division/country:us/state:in</td>\n      <td>IN</td>\n      <td>1</td>\n      <td>junior</td>\n      <td>S397</td>\n      <td>NaN</td>\n      <td>None</td>\n      <td>False</td>\n      <td>0.0</td>\n    </tr>\n    <tr>\n      <th>20</th>\n      <td>C001113</td>\n      <td>Senator, 3rd Class</td>\n      <td>Sen.</td>\n      <td>https://api.propublica.org/congress/v1/members...</td>\n      <td>Catherine</td>\n      <td>None</td>\n      <td>Cortez Masto</td>\n      <td>None</td>\n      <td>F</td>\n      <td>D</td>\n      <td>...</td>\n      <td>1</td>\n      <td>ocd-division/country:us/state:nv</td>\n      <td>NV</td>\n      <td>3</td>\n      <td>senior</td>\n      <td>S385</td>\n      <td>NaN</td>\n      <td>None</td>\n      <td>False</td>\n      <td>1.0</td>\n    </tr>\n    <tr>\n      <th>21</th>\n      <td>C001095</td>\n      <td>Senator, 2nd Class</td>\n      <td>Sen.</td>\n      <td>https://api.propublica.org/congress/v1/members...</td>\n      <td>Tom</td>\n      <td>None</td>\n      <td>Cotton</td>\n      <td>None</td>\n      <td>M</td>\n      <td>R</td>\n      <td>...</td>\n      <td>7</td>\n      <td>ocd-division/country:us/state:ar</td>\n      <td>AR</td>\n      <td>2</td>\n      <td>junior</td>\n      <td>S374</td>\n      <td>NaN</td>\n      <td>None</td>\n      <td>False</td>\n      <td>0.0</td>\n    </tr>\n    <tr>\n      <th>...</th>\n      <td>...</td>\n      <td>...</td>\n      <td>...</td>\n      <td>...</td>\n      <td>...</td>\n      <td>...</td>\n      <td>...</td>\n      <td>...</td>\n      <td>...</td>\n      <td>...</td>\n      <td>...</td>\n      <td>...</td>\n      <td>...</td>\n      <td>...</td>\n      <td>...</td>\n      <td>...</td>\n      <td>...</td>\n      <td>...</td>\n      <td>...</td>\n      <td>...</td>\n      <td>...</td>\n    </tr>\n    <tr>\n      <th>524</th>\n      <td>W000822</td>\n      <td>Representative</td>\n      <td>Rep.</td>\n      <td>https://api.propublica.org/congress/v1/members...</td>\n      <td>Bonnie</td>\n      <td>None</td>\n      <td>Watson Coleman</td>\n      <td>None</td>\n      <td>F</td>\n      <td>D</td>\n      <td>...</td>\n      <td>8</td>\n      <td>ocd-division/country:us/state:nj/cd:12</td>\n      <td>NJ</td>\n      <td>NaN</td>\n      <td>NaN</td>\n      <td>NaN</td>\n      <td>12</td>\n      <td>None</td>\n      <td>False</td>\n      <td>1.0</td>\n    </tr>\n    <tr>\n      <th>529</th>\n      <td>W000821</td>\n      <td>Representative</td>\n      <td>Rep.</td>\n      <td>https://api.propublica.org/congress/v1/members...</td>\n      <td>Bruce</td>\n      <td>None</td>\n      <td>Westerman</td>\n      <td>None</td>\n      <td>M</td>\n      <td>R</td>\n      <td>...</td>\n      <td>8</td>\n      <td>ocd-division/country:us/state:ar/cd:4</td>\n      <td>AR</td>\n      <td>NaN</td>\n      <td>NaN</td>\n      <td>NaN</td>\n      <td>4</td>\n      <td>None</td>\n      <td>False</td>\n      <td>0.0</td>\n    </tr>\n    <tr>\n      <th>533</th>\n      <td>W000788</td>\n      <td>Representative</td>\n      <td>Rep.</td>\n      <td>https://api.propublica.org/congress/v1/members...</td>\n      <td>Nikema</td>\n      <td>None</td>\n      <td>Williams</td>\n      <td>None</td>\n      <td>F</td>\n      <td>D</td>\n      <td>...</td>\n      <td>2</td>\n      <td>ocd-division/country:us/state:ga/cd:5</td>\n      <td>GA</td>\n      <td>NaN</td>\n      <td>NaN</td>\n      <td>NaN</td>\n      <td>5</td>\n      <td>None</td>\n      <td>False</td>\n      <td>1.0</td>\n    </tr>\n    <tr>\n      <th>537</th>\n      <td>W000809</td>\n      <td>Representative</td>\n      <td>Rep.</td>\n      <td>https://api.propublica.org/congress/v1/members...</td>\n      <td>Steve</td>\n      <td>None</td>\n      <td>Womack</td>\n      <td>None</td>\n      <td>M</td>\n      <td>R</td>\n      <td>...</td>\n      <td>12</td>\n      <td>ocd-division/country:us/state:ar/cd:3</td>\n      <td>AR</td>\n      <td>NaN</td>\n      <td>NaN</td>\n      <td>NaN</td>\n      <td>3</td>\n      <td>None</td>\n      <td>False</td>\n      <td>0.0</td>\n    </tr>\n    <tr>\n      <th>540</th>\n      <td>Y000033</td>\n      <td>Representative</td>\n      <td>Rep.</td>\n      <td>https://api.propublica.org/congress/v1/members...</td>\n      <td>Don</td>\n      <td>None</td>\n      <td>Young</td>\n      <td>None</td>\n      <td>M</td>\n      <td>R</td>\n      <td>...</td>\n      <td>50</td>\n      <td>ocd-division/country:us/state:ak/cd:1</td>\n      <td>AK</td>\n      <td>NaN</td>\n      <td>NaN</td>\n      <td>NaN</td>\n      <td>At-Large</td>\n      <td>None</td>\n      <td>False</td>\n      <td>0.0</td>\n    </tr>\n  </tbody>\n</table>\n<p>121 rows × 29 columns</p>\n</div>"
     },
     "metadata": {},
     "execution_count": 20
    }
   ],
   "source": [
    "df[df['image'] == 'None']"
   ]
  },
  {
   "cell_type": "code",
   "execution_count": null,
   "metadata": {},
   "outputs": [],
   "source": [
    "# export Dataframe to CVS\n",
    "df.to_csv('CongressData.csv', index=False)"
   ]
  }
 ]
}