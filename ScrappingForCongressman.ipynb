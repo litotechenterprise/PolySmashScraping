{
 "metadata": {
  "language_info": {
   "codemirror_mode": {
    "name": "ipython",
    "version": 3
   },
   "file_extension": ".py",
   "mimetype": "text/x-python",
   "name": "python",
   "nbconvert_exporter": "python",
   "pygments_lexer": "ipython3",
   "version": "3.9.1-final"
  },
  "orig_nbformat": 2,
  "kernelspec": {
   "name": "python3",
   "display_name": "Python 3.9.1 64-bit",
   "metadata": {
    "interpreter": {
     "hash": "7812ea015bdcee6f23a998adcdd2ef97c151c0c241b7b7070987d9313e41299d"
    }
   }
  }
 },
 "nbformat": 4,
 "nbformat_minor": 2,
 "cells": [
  {
   "cell_type": "code",
   "execution_count": 41,
   "metadata": {},
   "outputs": [],
   "source": [
    "# import libraries\n",
    "import requests\n",
    "import json\n",
    "from bs4 import BeautifulSoup\n",
    "import pandas as pd\n",
    "import numpy as np\n",
    "\n",
    "# api requests\n",
    "# Currently we are on congress 117\n",
    "\n",
    "\n",
    "# Senator api request\n",
    "Senator_response = requests.get(\n",
    "    'https://api.propublica.org/congress/v1/117/senate/members.json',\n",
    "    headers={'X-API-Key': 'PTmyeOwqEcHo6ZIRbr76DrAFRG649DHtwaAJAsXS'}\n",
    ")\n",
    "# House api request\n",
    "House_response = requests.get(\n",
    "    'https://api.propublica.org/congress/v1/117/house/members.json',\n",
    "    headers={'X-API-Key': 'PTmyeOwqEcHo6ZIRbr76DrAFRG649DHtwaAJAsXS'}\n",
    ")\n",
    "\n",
    "#convert responses into json\n",
    "senate_json_response = Senator_response.json()\n",
    "house_json_response = House_response.json()"
   ]
  },
  {
   "cell_type": "code",
   "execution_count": 42,
   "metadata": {},
   "outputs": [
    {
     "output_type": "stream",
     "name": "stdout",
     "text": [
      "102\n440\n"
     ]
    }
   ],
   "source": [
    "\n",
    "# Senator array\n",
    "Senate = senate_json_response['results'][0][\"members\"]\n",
    "print(len(Senate))\n",
    "\n",
    "# House array\n",
    "House = house_json_response['results'][0][\"members\"]    \n",
    "print(len(House))"
   ]
  },
  {
   "cell_type": "code",
   "execution_count": 43,
   "metadata": {},
   "outputs": [
    {
     "output_type": "stream",
     "name": "stdout",
     "text": [
      "542\n"
     ]
    }
   ],
   "source": [
    "#Congress Array\n",
    "Congress = Senate + House\n",
    "print(len(Congress))"
   ]
  },
  {
   "cell_type": "code",
   "execution_count": 44,
   "metadata": {},
   "outputs": [],
   "source": [
    "# Convert array in Dataframe\n",
    "df = pd.DataFrame(Congress)"
   ]
  },
  {
   "cell_type": "code",
   "execution_count": 45,
   "metadata": {},
   "outputs": [],
   "source": [
    "#dropping unnessary columns from dataframe\n",
    "df = df.drop(['date_of_birth', 'twitter_account','facebook_account','youtube_account', 'rss_url','contact_form', 'in_office', 'ideal_point', 'contact_form','next_election',\n",
    "'total_votes', 'missed_votes', 'total_present', 'last_updated', 'office', 'phone', 'fax', 'at_large', 'geoid', 'cook_pvi','dw_nominate', 'votes_with_party_pct', 'votes_with_party_pct', 'missed_votes_pct','votes_against_party_pct'], axis=1)"
   ]
  },
  {
   "cell_type": "code",
   "execution_count": 46,
   "metadata": {},
   "outputs": [
    {
     "output_type": "execute_result",
     "data": {
      "text/plain": [
       "Index(['id', 'title', 'short_title', 'api_uri', 'first_name', 'middle_name',\n",
       "       'last_name', 'suffix', 'gender', 'party', 'leadership_role',\n",
       "       'govtrack_id', 'cspan_id', 'votesmart_id', 'icpsr_id', 'crp_id',\n",
       "       'google_entity_id', 'fec_candidate_id', 'url', 'seniority', 'ocd_id',\n",
       "       'state', 'senate_class', 'state_rank', 'lis_id', 'district'],\n",
       "      dtype='object')"
      ]
     },
     "metadata": {},
     "execution_count": 46
    }
   ],
   "source": [
    "df.keys()"
   ]
  },
  {
   "cell_type": "code",
   "execution_count": 47,
   "metadata": {},
   "outputs": [],
   "source": [
    "# Column that we are adding to the dataframe\n",
    "df['image'] = \"None\"\n",
    "# VTO20E = Voted to overturn 2020 election\n",
    "df['VTO20E'] = False\n",
    "# VTITAI = Voted to impeach Trump after inserection\n",
    "df['VTITAI'] = True    "
   ]
  },
  {
   "cell_type": "code",
   "execution_count": 49,
   "metadata": {},
   "outputs": [],
   "source": [
    "# States for scraping\n",
    "states = [\"alabama\", 'alaska',\"arizona\", \"arkansas\", \"california\", \"colorado\",'connecticut','delaware', 'florida','georgia', 'hawaii','idaho', 'illinois', 'indiana', 'iowa', 'kansas', 'kentucky', 'louisiana', 'maine', 'maryland', 'massachusetts', 'michigan', 'minnesota', 'mississippi', 'missouri','montana', 'nebraska','nevada', 'new%20hampshire', 'new%20jersey','new%20mexico', 'new%20york', 'north%20carolina', 'north%20dakota', 'ohio', 'oklahoma', 'oregon', 'pennsylvania','puerto%20rico', 'rhode%20island', 'south%20carolina', 'south%20dakota', 'tennessee', 'texas', 'utah', 'vermont', 'virginia', 'washington', 'west%20virginia', 'wisconsin', 'wyoming' ]\n",
    "\n",
    "Main_url = 'https://www.congress.gov/search?searchResultViewType=expanded&q={%22congress%22:[%22116%22],%22source%22:[%22members%22],%22search%22:%22'\n",
    "back_of_Main_url = \"%22}\"\n",
    "top_images_url = 'https://congress.gov'\n",
    "#reps with no photos on Congress.gov\n",
    "no_photos = []\n",
    "Congress_dic = {}\n",
    "Congress_dic['congress_info'] = []"
   ]
  },
  {
   "cell_type": "code",
   "execution_count": 50,
   "metadata": {},
   "outputs": [],
   "source": [
    "# Checking to see if there is a picture on the website\n",
    "def CheckForImg(str):\n",
    "    try:\n",
    "        rep_Img = rep.find(\"img\")['src']\n",
    "        return True\n",
    "    except:\n",
    "        return False"
   ]
  },
  {
   "cell_type": "code",
   "execution_count": 51,
   "metadata": {},
   "outputs": [],
   "source": [
    "# State Abbrevation Map Key\n",
    "state_abrv = {\"alabama\":'AL', 'alaska':'AL',\"arizona\":'AZ', \"arkansas\":'AK', \"california\":'CA', \"colorado\":'CO','connecticut':'CT','delaware':'DE', 'florida':'FL','georgia':'GA', 'hawaii':'HI','idaho':'ID', 'illinois':'IL', 'indiana':'ID', 'iowa':'IA', 'kansas':'KS', 'kentucky':'KY', 'louisiana':'LA', 'maine':'ME', 'maryland':'MD', 'massachusetts':'MA', 'michigan':\"MI\", 'minnesota':'MN', 'mississippi':'MS', 'missouri':'MS','montana':'MT', 'nebraska':'NE','nevada':'NV', 'new%20hampshire':'NH', 'new%20jersey':'NJ','new%20mexico':'NM', 'new%20york':'NY', 'north%20carolina':'NC', 'north%20dakota':'ND', 'ohio':'OH', 'oklahoma':'OK', 'oregon':'OR', 'pennsylvania':'PA','puerto%20rico':'PR','rhode%20island':'RI', 'south%20carolina':'SC', 'south%20dakota':'SD', 'tennessee':'TN', 'texas':'TX', 'utah':'UT', 'vermont':'VT', 'virginia':'VA', 'washington':'WA', 'west%20virginia':'WV', 'wisconsin':'WI', 'wyoming':'WY'}"
   ]
  },
  {
   "cell_type": "code",
   "execution_count": 52,
   "metadata": {},
   "outputs": [],
   "source": [
    "# # for loop that is going thru every state\n",
    "for state in states: \n",
    "    state_res = requests.get(Main_url+state+back_of_Main_url)\n",
    "    state_soup = BeautifulSoup(state_res.text, 'html.parser')\n",
    "    Rep_results = state_soup.findAll(\"li\", {\"class\":\"expanded\"})\n",
    "\n",
    "    for rep in Rep_results:\n",
    "        photo = CheckForImg(rep)\n",
    "        rep_name = rep.find(\"span\", {\"class\":\"result-heading\"}).text.split(' ')[1:]\n",
    "        rep_index = df.loc[(df['state'] == state_abrv[state]) & (df['last_name'] == rep_name[0][:-1])].index\n",
    "        if photo:\n",
    "            df.at[rep_index, 'image'] = rep_Img = rep.find(\"img\")['src']"
   ]
  },
  {
   "cell_type": "code",
   "execution_count": 95,
   "metadata": {},
   "outputs": [],
   "source": [
    "# Switching all House Rep. that they didnt want to impeach trump\n",
    "df.loc[(df.party == \"R\"), ['VTITAI']] = 0.0"
   ]
  },
  {
   "cell_type": "code",
   "execution_count": 96,
   "metadata": {},
   "outputs": [],
   "source": [
    "# House Members who didnt appear to vote on impeachmenting charges\n",
    "no_vote = [\"Kay Granger\", \"Andy Harris\", \"Greg Murphy\", \"Daniel Webster\"]\n",
    "for pussy in no_vote:\n",
    "    name = pussy.split(\" \")\n",
    "    rep_index = df.loc[(df['party'] == \"R\") & (df['last_name'] == name[1]) & (df['first_name'] == name[0])].index\n",
    "    df.at[rep_index, 'VTITAI'] = None"
   ]
  },
  {
   "cell_type": "code",
   "execution_count": 104,
   "metadata": {},
   "outputs": [],
   "source": [
    "# Republican House & Senate members who voted to impeach Trump\n",
    "RepHouseHeros = [\"Liz, Cheney\", \"Anthony, Gonzalez\", \"Jaime, Herrera Beutler\", \"John, Katko\", \"Adam, Kininger\", \"Peter, Meijer\", \"Dan, Newhouse\", \"Tom, Rice\", \"Fred, Upton\", \"David, Valadao\", \"Susan, Collins\", \"Lisa, Murkowski\", \"Mitt, Romney\", \"Ben, Sasse\", \" Bill, Cassidy\", \"Patrick, Toomey\", \"Richard, Burr\"]\n",
    "\n",
    "for hero in RepHouseHeros:\n",
    "    name = hero.split(\", \")\n",
    "    rep_index = df.loc[(df['party'] == \"R\") & (df['last_name'] == name[1]) & (df['first_name'] == name[0])].index\n",
    "    df.at[rep_index, 'VTITAI'] = 1.0"
   ]
  },
  {
   "cell_type": "code",
   "execution_count": 105,
   "metadata": {},
   "outputs": [
    {
     "output_type": "execute_result",
     "data": {
      "text/plain": [
       "         id               title short_title  \\\n",
       "10  B001135  Senator, 3rd Class        Sen.   \n",
       "\n",
       "                                              api_uri first_name middle_name  \\\n",
       "10  https://api.propublica.org/congress/v1/members...    Richard          M.   \n",
       "\n",
       "   last_name suffix gender party  ... seniority  \\\n",
       "10      Burr   None      M     R  ...        17   \n",
       "\n",
       "                              ocd_id state senate_class state_rank lis_id  \\\n",
       "10  ocd-division/country:us/state:nc    NC            3     senior   S300   \n",
       "\n",
       "   district                        image VTO20E VTITAI  \n",
       "10      NaN  /img/member/b001135_200.jpg  False    1.0  \n",
       "\n",
       "[1 rows x 29 columns]"
      ],
      "text/html": "<div>\n<style scoped>\n    .dataframe tbody tr th:only-of-type {\n        vertical-align: middle;\n    }\n\n    .dataframe tbody tr th {\n        vertical-align: top;\n    }\n\n    .dataframe thead th {\n        text-align: right;\n    }\n</style>\n<table border=\"1\" class=\"dataframe\">\n  <thead>\n    <tr style=\"text-align: right;\">\n      <th></th>\n      <th>id</th>\n      <th>title</th>\n      <th>short_title</th>\n      <th>api_uri</th>\n      <th>first_name</th>\n      <th>middle_name</th>\n      <th>last_name</th>\n      <th>suffix</th>\n      <th>gender</th>\n      <th>party</th>\n      <th>...</th>\n      <th>seniority</th>\n      <th>ocd_id</th>\n      <th>state</th>\n      <th>senate_class</th>\n      <th>state_rank</th>\n      <th>lis_id</th>\n      <th>district</th>\n      <th>image</th>\n      <th>VTO20E</th>\n      <th>VTITAI</th>\n    </tr>\n  </thead>\n  <tbody>\n    <tr>\n      <th>10</th>\n      <td>B001135</td>\n      <td>Senator, 3rd Class</td>\n      <td>Sen.</td>\n      <td>https://api.propublica.org/congress/v1/members...</td>\n      <td>Richard</td>\n      <td>M.</td>\n      <td>Burr</td>\n      <td>None</td>\n      <td>M</td>\n      <td>R</td>\n      <td>...</td>\n      <td>17</td>\n      <td>ocd-division/country:us/state:nc</td>\n      <td>NC</td>\n      <td>3</td>\n      <td>senior</td>\n      <td>S300</td>\n      <td>NaN</td>\n      <td>/img/member/b001135_200.jpg</td>\n      <td>False</td>\n      <td>1.0</td>\n    </tr>\n  </tbody>\n</table>\n<p>1 rows × 29 columns</p>\n</div>"
     },
     "metadata": {},
     "execution_count": 105
    }
   ],
   "source": []
  },
  {
   "cell_type": "code",
   "execution_count": 94,
   "metadata": {},
   "outputs": [
    {
     "output_type": "execute_result",
     "data": {
      "text/plain": [
       "          id           title short_title  \\\n",
       "113  B001298  Representative        Rep.   \n",
       "\n",
       "                                               api_uri first_name middle_name  \\\n",
       "113  https://api.propublica.org/congress/v1/members...        Don        None   \n",
       "\n",
       "    last_name suffix gender party  ... seniority  \\\n",
       "113     Bacon   None      M     R  ...         6   \n",
       "\n",
       "                                    ocd_id state senate_class state_rank  \\\n",
       "113  ocd-division/country:us/state:ne/cd:2    NE          NaN        NaN   \n",
       "\n",
       "    lis_id district                                      image VTO20E VTITAI  \n",
       "113    NaN        2  /img/member/115_rp_ne_2_bacon_don_200.jpg  False    0.0  \n",
       "\n",
       "[1 rows x 29 columns]"
      ],
      "text/html": "<div>\n<style scoped>\n    .dataframe tbody tr th:only-of-type {\n        vertical-align: middle;\n    }\n\n    .dataframe tbody tr th {\n        vertical-align: top;\n    }\n\n    .dataframe thead th {\n        text-align: right;\n    }\n</style>\n<table border=\"1\" class=\"dataframe\">\n  <thead>\n    <tr style=\"text-align: right;\">\n      <th></th>\n      <th>id</th>\n      <th>title</th>\n      <th>short_title</th>\n      <th>api_uri</th>\n      <th>first_name</th>\n      <th>middle_name</th>\n      <th>last_name</th>\n      <th>suffix</th>\n      <th>gender</th>\n      <th>party</th>\n      <th>...</th>\n      <th>seniority</th>\n      <th>ocd_id</th>\n      <th>state</th>\n      <th>senate_class</th>\n      <th>state_rank</th>\n      <th>lis_id</th>\n      <th>district</th>\n      <th>image</th>\n      <th>VTO20E</th>\n      <th>VTITAI</th>\n    </tr>\n  </thead>\n  <tbody>\n    <tr>\n      <th>113</th>\n      <td>B001298</td>\n      <td>Representative</td>\n      <td>Rep.</td>\n      <td>https://api.propublica.org/congress/v1/members...</td>\n      <td>Don</td>\n      <td>None</td>\n      <td>Bacon</td>\n      <td>None</td>\n      <td>M</td>\n      <td>R</td>\n      <td>...</td>\n      <td>6</td>\n      <td>ocd-division/country:us/state:ne/cd:2</td>\n      <td>NE</td>\n      <td>NaN</td>\n      <td>NaN</td>\n      <td>NaN</td>\n      <td>2</td>\n      <td>/img/member/115_rp_ne_2_bacon_don_200.jpg</td>\n      <td>False</td>\n      <td>0.0</td>\n    </tr>\n  </tbody>\n</table>\n<p>1 rows × 29 columns</p>\n</div>"
     },
     "metadata": {},
     "execution_count": 94
    }
   ],
   "source": []
  },
  {
   "cell_type": "code",
   "execution_count": 36,
   "metadata": {},
   "outputs": [
    {
     "output_type": "execute_result",
     "data": {
      "text/plain": [
       "          id           title short_title  \\\n",
       "166  C001109  Representative        Rep.   \n",
       "\n",
       "                                               api_uri first_name middle_name  \\\n",
       "166  https://api.propublica.org/congress/v1/members...        Liz        None   \n",
       "\n",
       "    last_name suffix gender party  ... seniority  \\\n",
       "166    Cheney   None      F     R  ...         6   \n",
       "\n",
       "                                    ocd_id state senate_class state_rank  \\\n",
       "166  ocd-division/country:us/state:wy/cd:1    WY          NaN        NaN   \n",
       "\n",
       "    lis_id  district                        image VTO20E VTITAI  \n",
       "166    NaN  At-Large  /img/member/c001109_200.jpg  False    0.0  \n",
       "\n",
       "[1 rows x 29 columns]"
      ],
      "text/html": "<div>\n<style scoped>\n    .dataframe tbody tr th:only-of-type {\n        vertical-align: middle;\n    }\n\n    .dataframe tbody tr th {\n        vertical-align: top;\n    }\n\n    .dataframe thead th {\n        text-align: right;\n    }\n</style>\n<table border=\"1\" class=\"dataframe\">\n  <thead>\n    <tr style=\"text-align: right;\">\n      <th></th>\n      <th>id</th>\n      <th>title</th>\n      <th>short_title</th>\n      <th>api_uri</th>\n      <th>first_name</th>\n      <th>middle_name</th>\n      <th>last_name</th>\n      <th>suffix</th>\n      <th>gender</th>\n      <th>party</th>\n      <th>...</th>\n      <th>seniority</th>\n      <th>ocd_id</th>\n      <th>state</th>\n      <th>senate_class</th>\n      <th>state_rank</th>\n      <th>lis_id</th>\n      <th>district</th>\n      <th>image</th>\n      <th>VTO20E</th>\n      <th>VTITAI</th>\n    </tr>\n  </thead>\n  <tbody>\n    <tr>\n      <th>166</th>\n      <td>C001109</td>\n      <td>Representative</td>\n      <td>Rep.</td>\n      <td>https://api.propublica.org/congress/v1/members...</td>\n      <td>Liz</td>\n      <td>None</td>\n      <td>Cheney</td>\n      <td>None</td>\n      <td>F</td>\n      <td>R</td>\n      <td>...</td>\n      <td>6</td>\n      <td>ocd-division/country:us/state:wy/cd:1</td>\n      <td>WY</td>\n      <td>NaN</td>\n      <td>NaN</td>\n      <td>NaN</td>\n      <td>At-Large</td>\n      <td>/img/member/c001109_200.jpg</td>\n      <td>False</td>\n      <td>0.0</td>\n    </tr>\n  </tbody>\n</table>\n<p>1 rows × 29 columns</p>\n</div>"
     },
     "metadata": {},
     "execution_count": 36
    }
   ],
   "source": []
  },
  {
   "cell_type": "code",
   "execution_count": 40,
   "metadata": {},
   "outputs": [
    {
     "output_type": "execute_result",
     "data": {
      "text/plain": [
       "          id               title short_title  \\\n",
       "1    B001261  Senator, 1st Class        Sen.   \n",
       "3    B001243  Senator, 1st Class        Sen.   \n",
       "5    B000575  Senator, 3rd Class        Sen.   \n",
       "7    B001236  Senator, 3rd Class        Sen.   \n",
       "8    B001310  Senator, 1st Class        Sen.   \n",
       "..       ...                 ...         ...   \n",
       "536  W000804      Representative        Rep.   \n",
       "537  W000809      Representative        Rep.   \n",
       "538  W000827      Representative        Rep.   \n",
       "540  Y000033      Representative        Rep.   \n",
       "541  Z000017      Representative        Rep.   \n",
       "\n",
       "                                               api_uri first_name middle_name  \\\n",
       "1    https://api.propublica.org/congress/v1/members...       John        None   \n",
       "3    https://api.propublica.org/congress/v1/members...     Marsha        None   \n",
       "5    https://api.propublica.org/congress/v1/members...        Roy        None   \n",
       "7    https://api.propublica.org/congress/v1/members...       John        None   \n",
       "8    https://api.propublica.org/congress/v1/members...       Mike        None   \n",
       "..                                                 ...        ...         ...   \n",
       "536  https://api.propublica.org/congress/v1/members...     Robert          J.   \n",
       "537  https://api.propublica.org/congress/v1/members...      Steve        None   \n",
       "538  https://api.propublica.org/congress/v1/members...        Ron        None   \n",
       "540  https://api.propublica.org/congress/v1/members...        Don        None   \n",
       "541  https://api.propublica.org/congress/v1/members...        Lee        None   \n",
       "\n",
       "     last_name suffix gender party  ... seniority  \\\n",
       "1     Barrasso   None      M     R  ...        15   \n",
       "3    Blackburn   None      F     R  ...         3   \n",
       "5        Blunt   None      M     R  ...        11   \n",
       "7      Boozman   None      M     R  ...        11   \n",
       "8        Braun   None      M     R  ...         1   \n",
       "..         ...    ...    ...   ...  ...       ...   \n",
       "536    Wittman   None      M     R  ...        16   \n",
       "537     Womack   None      M     R  ...        12   \n",
       "538     Wright   None      M     R  ...         4   \n",
       "540      Young   None      M     R  ...        50   \n",
       "541     Zeldin   None      M     R  ...         8   \n",
       "\n",
       "                                    ocd_id state senate_class state_rank  \\\n",
       "1         ocd-division/country:us/state:wy    WY            1     senior   \n",
       "3         ocd-division/country:us/state:tn    TN            1     senior   \n",
       "5         ocd-division/country:us/state:mo    MO            3     senior   \n",
       "7         ocd-division/country:us/state:ar    AR            3     senior   \n",
       "8         ocd-division/country:us/state:in    IN            1     junior   \n",
       "..                                     ...   ...          ...        ...   \n",
       "536  ocd-division/country:us/state:va/cd:1    VA          NaN        NaN   \n",
       "537  ocd-division/country:us/state:ar/cd:3    AR          NaN        NaN   \n",
       "538  ocd-division/country:us/state:tx/cd:6    TX          NaN        NaN   \n",
       "540  ocd-division/country:us/state:ak/cd:1    AK          NaN        NaN   \n",
       "541  ocd-division/country:us/state:ny/cd:1    NY          NaN        NaN   \n",
       "\n",
       "    lis_id  district                        image VTO20E VTITAI  \n",
       "1     S317       NaN  /img/member/b001261_200.jpg  False    1.0  \n",
       "3     S396       NaN  /img/member/b001243_200.jpg  False    1.0  \n",
       "5     S342       NaN                         None  False    1.0  \n",
       "7     S343       NaN                         None  False    1.0  \n",
       "8     S397       NaN                         None  False    1.0  \n",
       "..     ...       ...                          ...    ...    ...  \n",
       "536    NaN         1  /img/member/w000804_200.jpg  False    0.0  \n",
       "537    NaN         3                         None  False    0.0  \n",
       "538    NaN         6  /img/member/w000827_200.jpg  False    0.0  \n",
       "540    NaN  At-Large                         None  False    0.0  \n",
       "541    NaN         1  /img/member/z000017_200.jpg  False    0.0  \n",
       "\n",
       "[265 rows x 29 columns]"
      ],
      "text/html": "<div>\n<style scoped>\n    .dataframe tbody tr th:only-of-type {\n        vertical-align: middle;\n    }\n\n    .dataframe tbody tr th {\n        vertical-align: top;\n    }\n\n    .dataframe thead th {\n        text-align: right;\n    }\n</style>\n<table border=\"1\" class=\"dataframe\">\n  <thead>\n    <tr style=\"text-align: right;\">\n      <th></th>\n      <th>id</th>\n      <th>title</th>\n      <th>short_title</th>\n      <th>api_uri</th>\n      <th>first_name</th>\n      <th>middle_name</th>\n      <th>last_name</th>\n      <th>suffix</th>\n      <th>gender</th>\n      <th>party</th>\n      <th>...</th>\n      <th>seniority</th>\n      <th>ocd_id</th>\n      <th>state</th>\n      <th>senate_class</th>\n      <th>state_rank</th>\n      <th>lis_id</th>\n      <th>district</th>\n      <th>image</th>\n      <th>VTO20E</th>\n      <th>VTITAI</th>\n    </tr>\n  </thead>\n  <tbody>\n    <tr>\n      <th>1</th>\n      <td>B001261</td>\n      <td>Senator, 1st Class</td>\n      <td>Sen.</td>\n      <td>https://api.propublica.org/congress/v1/members...</td>\n      <td>John</td>\n      <td>None</td>\n      <td>Barrasso</td>\n      <td>None</td>\n      <td>M</td>\n      <td>R</td>\n      <td>...</td>\n      <td>15</td>\n      <td>ocd-division/country:us/state:wy</td>\n      <td>WY</td>\n      <td>1</td>\n      <td>senior</td>\n      <td>S317</td>\n      <td>NaN</td>\n      <td>/img/member/b001261_200.jpg</td>\n      <td>False</td>\n      <td>1.0</td>\n    </tr>\n    <tr>\n      <th>3</th>\n      <td>B001243</td>\n      <td>Senator, 1st Class</td>\n      <td>Sen.</td>\n      <td>https://api.propublica.org/congress/v1/members...</td>\n      <td>Marsha</td>\n      <td>None</td>\n      <td>Blackburn</td>\n      <td>None</td>\n      <td>F</td>\n      <td>R</td>\n      <td>...</td>\n      <td>3</td>\n      <td>ocd-division/country:us/state:tn</td>\n      <td>TN</td>\n      <td>1</td>\n      <td>senior</td>\n      <td>S396</td>\n      <td>NaN</td>\n      <td>/img/member/b001243_200.jpg</td>\n      <td>False</td>\n      <td>1.0</td>\n    </tr>\n    <tr>\n      <th>5</th>\n      <td>B000575</td>\n      <td>Senator, 3rd Class</td>\n      <td>Sen.</td>\n      <td>https://api.propublica.org/congress/v1/members...</td>\n      <td>Roy</td>\n      <td>None</td>\n      <td>Blunt</td>\n      <td>None</td>\n      <td>M</td>\n      <td>R</td>\n      <td>...</td>\n      <td>11</td>\n      <td>ocd-division/country:us/state:mo</td>\n      <td>MO</td>\n      <td>3</td>\n      <td>senior</td>\n      <td>S342</td>\n      <td>NaN</td>\n      <td>None</td>\n      <td>False</td>\n      <td>1.0</td>\n    </tr>\n    <tr>\n      <th>7</th>\n      <td>B001236</td>\n      <td>Senator, 3rd Class</td>\n      <td>Sen.</td>\n      <td>https://api.propublica.org/congress/v1/members...</td>\n      <td>John</td>\n      <td>None</td>\n      <td>Boozman</td>\n      <td>None</td>\n      <td>M</td>\n      <td>R</td>\n      <td>...</td>\n      <td>11</td>\n      <td>ocd-division/country:us/state:ar</td>\n      <td>AR</td>\n      <td>3</td>\n      <td>senior</td>\n      <td>S343</td>\n      <td>NaN</td>\n      <td>None</td>\n      <td>False</td>\n      <td>1.0</td>\n    </tr>\n    <tr>\n      <th>8</th>\n      <td>B001310</td>\n      <td>Senator, 1st Class</td>\n      <td>Sen.</td>\n      <td>https://api.propublica.org/congress/v1/members...</td>\n      <td>Mike</td>\n      <td>None</td>\n      <td>Braun</td>\n      <td>None</td>\n      <td>M</td>\n      <td>R</td>\n      <td>...</td>\n      <td>1</td>\n      <td>ocd-division/country:us/state:in</td>\n      <td>IN</td>\n      <td>1</td>\n      <td>junior</td>\n      <td>S397</td>\n      <td>NaN</td>\n      <td>None</td>\n      <td>False</td>\n      <td>1.0</td>\n    </tr>\n    <tr>\n      <th>...</th>\n      <td>...</td>\n      <td>...</td>\n      <td>...</td>\n      <td>...</td>\n      <td>...</td>\n      <td>...</td>\n      <td>...</td>\n      <td>...</td>\n      <td>...</td>\n      <td>...</td>\n      <td>...</td>\n      <td>...</td>\n      <td>...</td>\n      <td>...</td>\n      <td>...</td>\n      <td>...</td>\n      <td>...</td>\n      <td>...</td>\n      <td>...</td>\n      <td>...</td>\n      <td>...</td>\n    </tr>\n    <tr>\n      <th>536</th>\n      <td>W000804</td>\n      <td>Representative</td>\n      <td>Rep.</td>\n      <td>https://api.propublica.org/congress/v1/members...</td>\n      <td>Robert</td>\n      <td>J.</td>\n      <td>Wittman</td>\n      <td>None</td>\n      <td>M</td>\n      <td>R</td>\n      <td>...</td>\n      <td>16</td>\n      <td>ocd-division/country:us/state:va/cd:1</td>\n      <td>VA</td>\n      <td>NaN</td>\n      <td>NaN</td>\n      <td>NaN</td>\n      <td>1</td>\n      <td>/img/member/w000804_200.jpg</td>\n      <td>False</td>\n      <td>0.0</td>\n    </tr>\n    <tr>\n      <th>537</th>\n      <td>W000809</td>\n      <td>Representative</td>\n      <td>Rep.</td>\n      <td>https://api.propublica.org/congress/v1/members...</td>\n      <td>Steve</td>\n      <td>None</td>\n      <td>Womack</td>\n      <td>None</td>\n      <td>M</td>\n      <td>R</td>\n      <td>...</td>\n      <td>12</td>\n      <td>ocd-division/country:us/state:ar/cd:3</td>\n      <td>AR</td>\n      <td>NaN</td>\n      <td>NaN</td>\n      <td>NaN</td>\n      <td>3</td>\n      <td>None</td>\n      <td>False</td>\n      <td>0.0</td>\n    </tr>\n    <tr>\n      <th>538</th>\n      <td>W000827</td>\n      <td>Representative</td>\n      <td>Rep.</td>\n      <td>https://api.propublica.org/congress/v1/members...</td>\n      <td>Ron</td>\n      <td>None</td>\n      <td>Wright</td>\n      <td>None</td>\n      <td>M</td>\n      <td>R</td>\n      <td>...</td>\n      <td>4</td>\n      <td>ocd-division/country:us/state:tx/cd:6</td>\n      <td>TX</td>\n      <td>NaN</td>\n      <td>NaN</td>\n      <td>NaN</td>\n      <td>6</td>\n      <td>/img/member/w000827_200.jpg</td>\n      <td>False</td>\n      <td>0.0</td>\n    </tr>\n    <tr>\n      <th>540</th>\n      <td>Y000033</td>\n      <td>Representative</td>\n      <td>Rep.</td>\n      <td>https://api.propublica.org/congress/v1/members...</td>\n      <td>Don</td>\n      <td>None</td>\n      <td>Young</td>\n      <td>None</td>\n      <td>M</td>\n      <td>R</td>\n      <td>...</td>\n      <td>50</td>\n      <td>ocd-division/country:us/state:ak/cd:1</td>\n      <td>AK</td>\n      <td>NaN</td>\n      <td>NaN</td>\n      <td>NaN</td>\n      <td>At-Large</td>\n      <td>None</td>\n      <td>False</td>\n      <td>0.0</td>\n    </tr>\n    <tr>\n      <th>541</th>\n      <td>Z000017</td>\n      <td>Representative</td>\n      <td>Rep.</td>\n      <td>https://api.propublica.org/congress/v1/members...</td>\n      <td>Lee</td>\n      <td>None</td>\n      <td>Zeldin</td>\n      <td>None</td>\n      <td>M</td>\n      <td>R</td>\n      <td>...</td>\n      <td>8</td>\n      <td>ocd-division/country:us/state:ny/cd:1</td>\n      <td>NY</td>\n      <td>NaN</td>\n      <td>NaN</td>\n      <td>NaN</td>\n      <td>1</td>\n      <td>/img/member/z000017_200.jpg</td>\n      <td>False</td>\n      <td>0.0</td>\n    </tr>\n  </tbody>\n</table>\n<p>265 rows × 29 columns</p>\n</div>"
     },
     "metadata": {},
     "execution_count": 40
    }
   ],
   "source": []
  },
  {
   "cell_type": "code",
   "execution_count": null,
   "metadata": {},
   "outputs": [],
   "source": []
  }
 ]
}