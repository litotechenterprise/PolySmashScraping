{
 "metadata": {
  "language_info": {
   "codemirror_mode": {
    "name": "ipython",
    "version": 3
   },
   "file_extension": ".py",
   "mimetype": "text/x-python",
   "name": "python",
   "nbconvert_exporter": "python",
   "pygments_lexer": "ipython3",
   "version": "3.9.1-final"
  },
  "orig_nbformat": 2,
  "kernelspec": {
   "name": "python3",
   "display_name": "Python 3.9.1 64-bit",
   "metadata": {
    "interpreter": {
     "hash": "7812ea015bdcee6f23a998adcdd2ef97c151c0c241b7b7070987d9313e41299d"
    }
   }
  }
 },
 "nbformat": 4,
 "nbformat_minor": 2,
 "cells": [
  {
   "cell_type": "code",
   "execution_count": 52,
   "metadata": {},
   "outputs": [],
   "source": [
    "# import libraries\n",
    "import requests\n",
    "import json\n",
    "from bs4 import BeautifulSoup\n",
    "import pandas as pd\n",
    "import numpy as np\n",
    "\n",
    "# api requests\n",
    "# Currently we are on congress 117\n",
    "\n",
    "\n",
    "# Senator api request\n",
    "Senator_response = requests.get(\n",
    "    'https://api.propublica.org/congress/v1/117/senate/members.json',\n",
    "    headers={'X-API-Key': 'PTmyeOwqEcHo6ZIRbr76DrAFRG649DHtwaAJAsXS'}\n",
    ")\n",
    "# House api request\n",
    "House_response = requests.get(\n",
    "    'https://api.propublica.org/congress/v1/117/house/members.json',\n",
    "    headers={'X-API-Key': 'PTmyeOwqEcHo6ZIRbr76DrAFRG649DHtwaAJAsXS'}\n",
    ")\n",
    "\n",
    "#convert responses into json\n",
    "senate_json_response = Senator_response.json()\n",
    "house_json_response = House_response.json()"
   ]
  },
  {
   "cell_type": "code",
   "execution_count": 53,
   "metadata": {},
   "outputs": [
    {
     "output_type": "stream",
     "name": "stdout",
     "text": [
      "102\n440\n"
     ]
    }
   ],
   "source": [
    "\n",
    "# Senator array\n",
    "Senate = senate_json_response['results'][0][\"members\"]\n",
    "print(len(Senate))\n",
    "\n",
    "# House array\n",
    "House = house_json_response['results'][0][\"members\"]    \n",
    "print(len(House))"
   ]
  },
  {
   "cell_type": "code",
   "execution_count": 54,
   "metadata": {},
   "outputs": [
    {
     "output_type": "stream",
     "name": "stdout",
     "text": [
      "542\n"
     ]
    }
   ],
   "source": [
    "#Congress Array\n",
    "Congress = Senate + House\n",
    "print(len(Congress))"
   ]
  },
  {
   "cell_type": "code",
   "execution_count": 55,
   "metadata": {},
   "outputs": [],
   "source": [
    "# Convert array in Dataframe\n",
    "df = pd.DataFrame(Congress)"
   ]
  },
  {
   "cell_type": "code",
   "execution_count": 56,
   "metadata": {},
   "outputs": [],
   "source": [
    "#dropping unnessary columns from dataframe\n",
    "df = df.drop(['date_of_birth', 'twitter_account','facebook_account','youtube_account', 'rss_url','contact_form', 'in_office', 'ideal_point', 'contact_form','next_election',\n",
    "'total_votes', 'missed_votes', 'total_present', 'last_updated', 'office', 'phone', 'fax', 'at_large', 'geoid', 'cook_pvi','dw_nominate', 'votes_with_party_pct', 'votes_with_party_pct', 'missed_votes_pct','votes_against_party_pct'], axis=1)"
   ]
  },
  {
   "cell_type": "code",
   "execution_count": 57,
   "metadata": {},
   "outputs": [
    {
     "output_type": "execute_result",
     "data": {
      "text/plain": [
       "Index(['id', 'title', 'short_title', 'api_uri', 'first_name', 'middle_name',\n",
       "       'last_name', 'suffix', 'gender', 'party', 'leadership_role',\n",
       "       'govtrack_id', 'cspan_id', 'votesmart_id', 'icpsr_id', 'crp_id',\n",
       "       'google_entity_id', 'fec_candidate_id', 'url', 'seniority', 'ocd_id',\n",
       "       'state', 'senate_class', 'state_rank', 'lis_id', 'district'],\n",
       "      dtype='object')"
      ]
     },
     "metadata": {},
     "execution_count": 57
    }
   ],
   "source": [
    "df.keys()"
   ]
  },
  {
   "cell_type": "code",
   "execution_count": 58,
   "metadata": {},
   "outputs": [],
   "source": [
    "# Column that we are adding to the dataframe\n",
    "df['image'] = \"None\"\n",
    "# VTO20E = Voted to overturn 2020 election\n",
    "df['VTO20E'] = False\n",
    "# VTITAI = Voted to impeach Trump after inserection\n",
    "df['VTITAI'] = True    "
   ]
  },
  {
   "cell_type": "code",
   "execution_count": 59,
   "metadata": {},
   "outputs": [],
   "source": [
    "# States for scraping\n",
    "states = [\"alabama\", 'alaska',\"arizona\", \"arkansas\", \"california\", \"colorado\",'connecticut','delaware', 'florida','georgia', 'hawaii','idaho', 'illinois', 'indiana', 'iowa', 'kansas', 'kentucky', 'louisiana', 'maine', 'maryland', 'massachusetts', 'michigan', 'minnesota', 'mississippi', 'missouri','montana', 'nebraska','nevada', 'new%20hampshire', 'new%20jersey','new%20mexico', 'new%20york', 'north%20carolina', 'north%20dakota', 'ohio', 'oklahoma', 'oregon', 'pennsylvania','puerto%20rico', 'rhode%20island', 'south%20carolina', 'south%20dakota', 'tennessee', 'texas', 'utah', 'vermont', 'virginia', 'washington', 'west%20virginia', 'wisconsin', 'wyoming' ]\n",
    "\n",
    "Main_url = 'https://www.congress.gov/search?searchResultViewType=expanded&q={%22congress%22:[%22116%22],%22source%22:[%22members%22],%22search%22:%22'\n",
    "back_of_Main_url = \"%22}\"\n",
    "top_images_url = 'https://congress.gov'\n",
    "#reps with no photos on Congress.gov\n",
    "no_photos = []\n",
    "Congress_dic = {}\n",
    "Congress_dic['congress_info'] = []"
   ]
  },
  {
   "cell_type": "code",
   "execution_count": 61,
   "metadata": {},
   "outputs": [],
   "source": [
    "# Checking to see if there is a picture on the website\n",
    "def CheckForImg(str):\n",
    "    try:\n",
    "        rep_Img = rep.find(\"img\")['src']\n",
    "        return True\n",
    "    except:\n",
    "        return False"
   ]
  },
  {
   "cell_type": "code",
   "execution_count": 62,
   "metadata": {},
   "outputs": [],
   "source": [
    "# State Abbrevation Map Key\n",
    "state_abrv = {\"alabama\":'AL', 'alaska':'AL',\"arizona\":'AZ', \"arkansas\":'AK', \"california\":'CA', \"colorado\":'CO','connecticut':'CT','delaware':'DE', 'florida':'FL','georgia':'GA', 'hawaii':'HI','idaho':'ID', 'illinois':'IL', 'indiana':'ID', 'iowa':'IA', 'kansas':'KS', 'kentucky':'KY', 'louisiana':'LA', 'maine':'ME', 'maryland':'MD', 'massachusetts':'MA', 'michigan':\"MI\", 'minnesota':'MN', 'mississippi':'MS', 'missouri':'MS','montana':'MT', 'nebraska':'NE','nevada':'NV', 'new%20hampshire':'NH', 'new%20jersey':'NJ','new%20mexico':'NM', 'new%20york':'NY', 'north%20carolina':'NC', 'north%20dakota':'ND', 'ohio':'OH', 'oklahoma':'OK', 'oregon':'OR', 'pennsylvania':'PA','puerto%20rico':'PR','rhode%20island':'RI', 'south%20carolina':'SC', 'south%20dakota':'SD', 'tennessee':'TN', 'texas':'TX', 'utah':'UT', 'vermont':'VT', 'virginia':'VA', 'washington':'WA', 'west%20virginia':'WV', 'wisconsin':'WI', 'wyoming':'WY'}"
   ]
  },
  {
   "cell_type": "code",
   "execution_count": 63,
   "metadata": {},
   "outputs": [],
   "source": [
    "# # for loop that is going thru every state\n",
    "for state in states: \n",
    "    state_res = requests.get(Main_url+state+back_of_Main_url)\n",
    "    state_soup = BeautifulSoup(state_res.text, 'html.parser')\n",
    "    Rep_results = state_soup.findAll(\"li\", {\"class\":\"expanded\"})\n",
    "\n",
    "    for rep in Rep_results:\n",
    "        photo = CheckForImg(rep)\n",
    "        rep_name = rep.find(\"span\", {\"class\":\"result-heading\"}).text.split(' ')[1:]\n",
    "        rep_index = df.loc[(df['state'] == state_abrv[state]) & (df['last_name'] == rep_name[0][:-1])].index\n",
    "        if photo:\n",
    "            df.at[rep_index, 'image'] = rep_Img = rep.find(\"img\")['src']"
   ]
  },
  {
   "cell_type": "code",
   "execution_count": 64,
   "metadata": {},
   "outputs": [],
   "source": [
    "# Switching all House and Senate Republicans that they didnt want to impeach trump\n",
    "df.loc[(df.party == \"R\"), ['VTITAI']] = False"
   ]
  },
  {
   "cell_type": "code",
   "execution_count": 65,
   "metadata": {},
   "outputs": [],
   "source": [
    "# House Members who didnt appear to vote on impeachmenting charges\n",
    "no_vote = [\"Kay Granger\", \"Andy Harris\", \"Greg Murphy\", \"Daniel Webster\"]\n",
    "for pussy in no_vote:\n",
    "    name = pussy.split(\" \")\n",
    "    rep_index = df.loc[(df['party'] == \"R\") & (df['last_name'] == name[1]) & (df['first_name'] == name[0])].index\n",
    "    df.at[rep_index, 'VTITAI'] = None"
   ]
  },
  {
   "cell_type": "code",
   "execution_count": 66,
   "metadata": {},
   "outputs": [],
   "source": [
    "# Republican House & Senate members who voted to impeach Trump\n",
    "RepHouseHeros = [\"Liz, Cheney\", \"Anthony, Gonzalez\", \"Jaime, Herrera Beutler\", \"John, Katko\", \"Adam, Kininger\", \"Peter, Meijer\", \"Dan, Newhouse\", \"Tom, Rice\", \"Fred, Upton\", \"David, Valadao\", \"Susan, Collins\", \"Lisa, Murkowski\", \"Mitt, Romney\", \"Ben, Sasse\", \" Bill, Cassidy\", \"Patrick, Toomey\", \"Richard, Burr\"]\n",
    "\n",
    "for hero in RepHouseHeros:\n",
    "    name = hero.split(\", \")\n",
    "    rep_index = df.loc[(df['party'] == \"R\") & (df['last_name'] == name[1]) & (df['first_name'] == name[0])].index\n",
    "    df.at[rep_index, 'VTITAI'] = True"
   ]
  },
  {
   "cell_type": "code",
   "execution_count": 67,
   "metadata": {},
   "outputs": [],
   "source": [
    "# idiots who voted to overturn 2020 election\n",
    "idiots = [\"Tommy, Tuberville\", \"Rick, Scott\", \"Roger, Marshall\", \"John, Kennedy\", \"Cindy, Hyde-Smith\", \"Josh, Hawley\", \"Ted, Cruz\", \"Cynthia, Lummis\", \"Robert, Aderholt\", \"Mo, Brooks\", \"Jerry, Carl\", \"Barry, Moore\", \"Gary, Palmer\", \"Mike, Rogers\", \"Andy, Biggs\", \"Paul, Gosar\", \"Debbie, Lesko\", \"David, Schweikert\", \"Rick, Crawford\", \"Ken, Calvert\", \"Mike, Garcia\", \"Darrell, Issa\", \"Doug, LaMalfa\", \"Kevin, McCarthy\", \"Devin, Nunes\", \"Jay, Obernolte\", \"Lauren, Boebert\", \"Doug, Lamborn\", \"Kat, Cammack\", \"Mario, Diaz-Balart\", \"Byron, Donalds\", \"Neal, Dunn\", \"Scott, Franklin\", \"Matt, Gaetz\", \"Carlos, Gimenez\", \"Brian, Mast\", \"Bill, Posey\", \"John, Rutherford\", \"Greg, Steube\", \"Daniel, Webster\", \"Rick, Allen\", \"Buddy, Carter\", \"Andrew, Clyde\",\"Marjorie, Greene\", \"Jody, Hice\", \"Barry, LouderMilk\", \"Russ, Fulcher\", \"Mike, Bost\", \"Mary, Miller\", \"Jim, Barid\", \"Jim, Banks\", \"Greg, Pence\", \"Jackie, Walorski\", \"Ron, Estes\", \"Jacob, LaTurner\", \"Tracey, Mann\", \"Harold, Rogers\", \"Garret, Greaves\", \"Clay, Higgins\", \"Mike, Johnson\", \"Steve, Scalise\", \"Andy, Harris\", \"Jack, Bergman\", \"Lisa, McClain\", \"Tim, Walberg\", \"Michelle, Fischbach\", \"Jim, Hagedorn\", \"Michael, Guest\", \"Trent, Kelly\", \"Steven, Palazzo\", \"Sam, Graves\", \"Vicky, Hartzler\", \"Billy, Long\", \"Blaine, Luetkemeyer\", \"Jason, Smith\", \"Matt, Rosendale\", \"Dan, Bishop\", \"Ted, Budd\", \"Madison, Cawthorn\", \"Virginia, Foxx\", \"Richard, Hudson\", \"Greg, Murphy\", \"David, Rouzer\", \"Jeff, Van Drew\" , \"Yvette, Herrell\", \"Chris, Jacobs\", \"Nicole, Malliotakis\", \"Elise, Stefanik\", \"Lee, Zeldin\", \"Adrian, Smith\", \"Steve, Chabot\", \"Warren Davidson\", \"Bob, Gibbs\", \"Bill, Johnson\", \"Jim, Jordan\", \"Stephaine, Bice\", \"Tom, Cole\", \"Kevin, Hern\", \"Frank Lucas\", \"Markwayne, Mullin\", \"Cliff Bentz\", \"John, Joyce\", \"Fred, Keller\", \"Mike, Kelly\", \"Daniel Meuser\", \"Scott, Perry\", \"Guy, Reschenthaler\", \"Lloyd, Smucker\", \"Glenn, Thompson\", \"Jeff, Duncan\", \"Ralph, Norman\", \"Tom, Rice\", \"William, Timmons\", \"Joe, Wilson\", \"Time Burchett\", \"Scott, DesJarlais\", \"Chuck, Fleischmann\", \"Mark, Green\", \"Diana Harshbarger\", \"David, Kustoff\", \"John, Rose\", \"Jodey, Arrington\", \"Brian, Babin\", \"Michael, Burgess\", \"John, Carter\", \"Michael, Cloud\", \"Pat, Fallon\", \"Louie, Gohmert\", \"Lance, Gooden\", \"Ronny, Jackson\", \"Troy, Nehls\", \"August, Pfluger\", \"Pete, Sessions\", \"Beth, Van Duyne\", \"Randy, Weber\", \"Roger, Williams\", \"Ron, Wright\", \"Burgess, Owens\", \"Chris, Stewart\", \"Ben, Cline\", \"Bob, Good\", \"Morgan, Griffith\", \"Robert, Wittman\", \"Carol Miller\", \"Alex, Mooney\", \"Scott, Fitzgerald\", \"Tom, Tiffany\"]"
   ]
  },
  {
   "cell_type": "code",
   "execution_count": 80,
   "metadata": {},
   "outputs": [
    {
     "output_type": "error",
     "ename": "IndexError",
     "evalue": "list index out of range",
     "traceback": [
      "\u001b[0;31m---------------------------------------------------------------------------\u001b[0m",
      "\u001b[0;31mIndexError\u001b[0m                                Traceback (most recent call last)",
      "\u001b[0;32m<ipython-input-80-f620d8c9b2bb>\u001b[0m in \u001b[0;36m<module>\u001b[0;34m\u001b[0m\n\u001b[1;32m      1\u001b[0m \u001b[0;32mfor\u001b[0m \u001b[0midiot\u001b[0m \u001b[0;32min\u001b[0m \u001b[0midiots\u001b[0m\u001b[0;34m:\u001b[0m\u001b[0;34m\u001b[0m\u001b[0;34m\u001b[0m\u001b[0m\n\u001b[1;32m      2\u001b[0m     \u001b[0mname\u001b[0m \u001b[0;34m=\u001b[0m \u001b[0midiot\u001b[0m\u001b[0;34m.\u001b[0m\u001b[0msplit\u001b[0m\u001b[0;34m(\u001b[0m\u001b[0;34m\", \"\u001b[0m\u001b[0;34m)\u001b[0m\u001b[0;34m\u001b[0m\u001b[0;34m\u001b[0m\u001b[0m\n\u001b[0;32m----> 3\u001b[0;31m     \u001b[0mrep_index\u001b[0m \u001b[0;34m=\u001b[0m \u001b[0mdf\u001b[0m\u001b[0;34m.\u001b[0m\u001b[0mloc\u001b[0m\u001b[0;34m[\u001b[0m\u001b[0;34m(\u001b[0m\u001b[0mdf\u001b[0m\u001b[0;34m[\u001b[0m\u001b[0;34m'party'\u001b[0m\u001b[0;34m]\u001b[0m \u001b[0;34m==\u001b[0m \u001b[0;34m\"R\"\u001b[0m\u001b[0;34m)\u001b[0m \u001b[0;34m&\u001b[0m \u001b[0;34m(\u001b[0m\u001b[0mdf\u001b[0m\u001b[0;34m[\u001b[0m\u001b[0;34m'last_name'\u001b[0m\u001b[0;34m]\u001b[0m \u001b[0;34m==\u001b[0m \u001b[0mname\u001b[0m\u001b[0;34m[\u001b[0m\u001b[0;36m1\u001b[0m\u001b[0;34m]\u001b[0m\u001b[0;34m)\u001b[0m \u001b[0;34m&\u001b[0m \u001b[0;34m(\u001b[0m\u001b[0;34m(\u001b[0m\u001b[0mdf\u001b[0m\u001b[0;34m[\u001b[0m\u001b[0;34m'first_name'\u001b[0m\u001b[0;34m]\u001b[0m \u001b[0;34m==\u001b[0m \u001b[0mname\u001b[0m\u001b[0;34m[\u001b[0m\u001b[0;36m0\u001b[0m\u001b[0;34m]\u001b[0m\u001b[0;34m)\u001b[0m\u001b[0;34m)\u001b[0m\u001b[0;34m]\u001b[0m\u001b[0;34m.\u001b[0m\u001b[0mindex\u001b[0m\u001b[0;34m\u001b[0m\u001b[0;34m\u001b[0m\u001b[0m\n\u001b[0m\u001b[1;32m      4\u001b[0m     \u001b[0mdf\u001b[0m\u001b[0;34m.\u001b[0m\u001b[0mat\u001b[0m\u001b[0;34m[\u001b[0m\u001b[0mrep_index\u001b[0m\u001b[0;34m,\u001b[0m \u001b[0;34m'VTO20E'\u001b[0m\u001b[0;34m]\u001b[0m \u001b[0;34m=\u001b[0m \u001b[0;32mTrue\u001b[0m\u001b[0;34m\u001b[0m\u001b[0;34m\u001b[0m\u001b[0m\n",
      "\u001b[0;31mIndexError\u001b[0m: list index out of range"
     ]
    }
   ],
   "source": [
    "for idiot in idiots:\n",
    "    name = idiot.split(\", \")\n",
    "    rep_index = df.loc[(df['party'] == \"R\") & (df['last_name'] == name[1]) & ((df['first_name'] == name[0]))].index\n",
    "    df.at[rep_index, 'VTO20E'] = True"
   ]
  },
  {
   "cell_type": "code",
   "execution_count": 79,
   "metadata": {},
   "outputs": [
    {
     "output_type": "execute_result",
     "data": {
      "text/plain": [
       "          id               title short_title  \\\n",
       "86   S001203  Senator, 2nd Class        Sen.   \n",
       "472  S001195      Representative        Rep.   \n",
       "473  S001172      Representative        Rep.   \n",
       "474  S000510      Representative        Rep.   \n",
       "475  S000522      Representative        Rep.   \n",
       "\n",
       "                                               api_uri   first_name  \\\n",
       "86   https://api.propublica.org/congress/v1/members...         Tina   \n",
       "472  https://api.propublica.org/congress/v1/members...        Jason   \n",
       "473  https://api.propublica.org/congress/v1/members...       Adrian   \n",
       "474  https://api.propublica.org/congress/v1/members...         Adam   \n",
       "475  https://api.propublica.org/congress/v1/members...  Christopher   \n",
       "\n",
       "    middle_name last_name suffix gender party  ... seniority  \\\n",
       "86         None     Smith   None      F     D  ...         4   \n",
       "472        None     Smith   None      M     R  ...        10   \n",
       "473        None     Smith   None      M     R  ...        16   \n",
       "474        None     Smith   None      M     D  ...        26   \n",
       "475          H.     Smith   None      M     R  ...        42   \n",
       "\n",
       "                                    ocd_id state senate_class state_rank  \\\n",
       "86        ocd-division/country:us/state:mn    MN            2     junior   \n",
       "472  ocd-division/country:us/state:mo/cd:8    MO          NaN        NaN   \n",
       "473  ocd-division/country:us/state:ne/cd:3    NE          NaN        NaN   \n",
       "474  ocd-division/country:us/state:wa/cd:9    WA          NaN        NaN   \n",
       "475  ocd-division/country:us/state:nj/cd:4    NJ          NaN        NaN   \n",
       "\n",
       "    lis_id district                        image VTO20E VTITAI  \n",
       "86    S394      NaN  /img/member/s001203_200.jpg  False    1.0  \n",
       "472    NaN        8                         None   True    0.0  \n",
       "473    NaN        3  /img/member/s001172_200.jpg   True    0.0  \n",
       "474    NaN        9  /img/member/s000510_200.jpg  False    1.0  \n",
       "475    NaN        4  /img/member/s000522_200.jpg   True    0.0  \n",
       "\n",
       "[5 rows x 29 columns]"
      ],
      "text/html": "<div>\n<style scoped>\n    .dataframe tbody tr th:only-of-type {\n        vertical-align: middle;\n    }\n\n    .dataframe tbody tr th {\n        vertical-align: top;\n    }\n\n    .dataframe thead th {\n        text-align: right;\n    }\n</style>\n<table border=\"1\" class=\"dataframe\">\n  <thead>\n    <tr style=\"text-align: right;\">\n      <th></th>\n      <th>id</th>\n      <th>title</th>\n      <th>short_title</th>\n      <th>api_uri</th>\n      <th>first_name</th>\n      <th>middle_name</th>\n      <th>last_name</th>\n      <th>suffix</th>\n      <th>gender</th>\n      <th>party</th>\n      <th>...</th>\n      <th>seniority</th>\n      <th>ocd_id</th>\n      <th>state</th>\n      <th>senate_class</th>\n      <th>state_rank</th>\n      <th>lis_id</th>\n      <th>district</th>\n      <th>image</th>\n      <th>VTO20E</th>\n      <th>VTITAI</th>\n    </tr>\n  </thead>\n  <tbody>\n    <tr>\n      <th>86</th>\n      <td>S001203</td>\n      <td>Senator, 2nd Class</td>\n      <td>Sen.</td>\n      <td>https://api.propublica.org/congress/v1/members...</td>\n      <td>Tina</td>\n      <td>None</td>\n      <td>Smith</td>\n      <td>None</td>\n      <td>F</td>\n      <td>D</td>\n      <td>...</td>\n      <td>4</td>\n      <td>ocd-division/country:us/state:mn</td>\n      <td>MN</td>\n      <td>2</td>\n      <td>junior</td>\n      <td>S394</td>\n      <td>NaN</td>\n      <td>/img/member/s001203_200.jpg</td>\n      <td>False</td>\n      <td>1.0</td>\n    </tr>\n    <tr>\n      <th>472</th>\n      <td>S001195</td>\n      <td>Representative</td>\n      <td>Rep.</td>\n      <td>https://api.propublica.org/congress/v1/members...</td>\n      <td>Jason</td>\n      <td>None</td>\n      <td>Smith</td>\n      <td>None</td>\n      <td>M</td>\n      <td>R</td>\n      <td>...</td>\n      <td>10</td>\n      <td>ocd-division/country:us/state:mo/cd:8</td>\n      <td>MO</td>\n      <td>NaN</td>\n      <td>NaN</td>\n      <td>NaN</td>\n      <td>8</td>\n      <td>None</td>\n      <td>True</td>\n      <td>0.0</td>\n    </tr>\n    <tr>\n      <th>473</th>\n      <td>S001172</td>\n      <td>Representative</td>\n      <td>Rep.</td>\n      <td>https://api.propublica.org/congress/v1/members...</td>\n      <td>Adrian</td>\n      <td>None</td>\n      <td>Smith</td>\n      <td>None</td>\n      <td>M</td>\n      <td>R</td>\n      <td>...</td>\n      <td>16</td>\n      <td>ocd-division/country:us/state:ne/cd:3</td>\n      <td>NE</td>\n      <td>NaN</td>\n      <td>NaN</td>\n      <td>NaN</td>\n      <td>3</td>\n      <td>/img/member/s001172_200.jpg</td>\n      <td>True</td>\n      <td>0.0</td>\n    </tr>\n    <tr>\n      <th>474</th>\n      <td>S000510</td>\n      <td>Representative</td>\n      <td>Rep.</td>\n      <td>https://api.propublica.org/congress/v1/members...</td>\n      <td>Adam</td>\n      <td>None</td>\n      <td>Smith</td>\n      <td>None</td>\n      <td>M</td>\n      <td>D</td>\n      <td>...</td>\n      <td>26</td>\n      <td>ocd-division/country:us/state:wa/cd:9</td>\n      <td>WA</td>\n      <td>NaN</td>\n      <td>NaN</td>\n      <td>NaN</td>\n      <td>9</td>\n      <td>/img/member/s000510_200.jpg</td>\n      <td>False</td>\n      <td>1.0</td>\n    </tr>\n    <tr>\n      <th>475</th>\n      <td>S000522</td>\n      <td>Representative</td>\n      <td>Rep.</td>\n      <td>https://api.propublica.org/congress/v1/members...</td>\n      <td>Christopher</td>\n      <td>H.</td>\n      <td>Smith</td>\n      <td>None</td>\n      <td>M</td>\n      <td>R</td>\n      <td>...</td>\n      <td>42</td>\n      <td>ocd-division/country:us/state:nj/cd:4</td>\n      <td>NJ</td>\n      <td>NaN</td>\n      <td>NaN</td>\n      <td>NaN</td>\n      <td>4</td>\n      <td>/img/member/s000522_200.jpg</td>\n      <td>True</td>\n      <td>0.0</td>\n    </tr>\n  </tbody>\n</table>\n<p>5 rows × 29 columns</p>\n</div>"
     },
     "metadata": {},
     "execution_count": 79
    }
   ],
   "source": [
    "df[df['last_name'] == \"Smith\"]"
   ]
  },
  {
   "cell_type": "code",
   "execution_count": 78,
   "metadata": {},
   "outputs": [
    {
     "output_type": "execute_result",
     "data": {
      "text/plain": [
       "          id               title short_title  \\\n",
       "24   C001098  Senator, 1st Class        Sen.   \n",
       "37   H001089  Senator, 1st Class        Sen.   \n",
       "42   H001079  Senator, 2nd Class        Sen.   \n",
       "44   J000293  Senator, 3rd Class        Sen.   \n",
       "47   K000393  Senator, 3rd Class        Sen.   \n",
       "..       ...                 ...         ...   \n",
       "512  V000133      Representative        Rep.   \n",
       "519  W000798      Representative        Rep.   \n",
       "520  W000813      Representative        Rep.   \n",
       "526  W000806      Representative        Rep.   \n",
       "541  Z000017      Representative        Rep.   \n",
       "\n",
       "                                               api_uri first_name middle_name  \\\n",
       "24   https://api.propublica.org/congress/v1/members...        Ted        None   \n",
       "37   https://api.propublica.org/congress/v1/members...     Joshua        None   \n",
       "42   https://api.propublica.org/congress/v1/members...      Cindy        None   \n",
       "44   https://api.propublica.org/congress/v1/members...        Ron        None   \n",
       "47   https://api.propublica.org/congress/v1/members...       John        None   \n",
       "..                                                 ...        ...         ...   \n",
       "512  https://api.propublica.org/congress/v1/members...  Jefferson        None   \n",
       "519  https://api.propublica.org/congress/v1/members...        Tim        None   \n",
       "520  https://api.propublica.org/congress/v1/members...     Jackie        None   \n",
       "526  https://api.propublica.org/congress/v1/members...     Daniel        None   \n",
       "541  https://api.propublica.org/congress/v1/members...        Lee        None   \n",
       "\n",
       "      last_name suffix gender party  ... seniority  \\\n",
       "24         Cruz   None      M     R  ...         9   \n",
       "37       Hawley   None      M     R  ...         1   \n",
       "42   Hyde-Smith   None      F     R  ...         4   \n",
       "44      Johnson   None      M     R  ...        11   \n",
       "47      Kennedy   None      M     R  ...         1   \n",
       "..          ...    ...    ...   ...  ...       ...   \n",
       "512    Van Drew   None      M     R  ...         4   \n",
       "519     Walberg   None      M     R  ...        12   \n",
       "520    Walorski   None      F     R  ...        10   \n",
       "526     Webster   None      M     R  ...        12   \n",
       "541      Zeldin   None      M     R  ...         8   \n",
       "\n",
       "                                     ocd_id state senate_class state_rank  \\\n",
       "24         ocd-division/country:us/state:tx    TX            1     junior   \n",
       "37         ocd-division/country:us/state:mo    MO            1     junior   \n",
       "42         ocd-division/country:us/state:ms    MS            2     junior   \n",
       "44         ocd-division/country:us/state:wi    WI            3     senior   \n",
       "47         ocd-division/country:us/state:la    LA            3     junior   \n",
       "..                                      ...   ...          ...        ...   \n",
       "512   ocd-division/country:us/state:nj/cd:2    NJ          NaN        NaN   \n",
       "519   ocd-division/country:us/state:mi/cd:7    MI          NaN        NaN   \n",
       "520   ocd-division/country:us/state:in/cd:2    IN          NaN        NaN   \n",
       "526  ocd-division/country:us/state:fl/cd:11    FL          NaN        NaN   \n",
       "541   ocd-division/country:us/state:ny/cd:1    NY          NaN        NaN   \n",
       "\n",
       "    lis_id district                        image VTO20E VTITAI  \n",
       "24    S355      NaN  /img/member/c001098_200.jpg   True    0.0  \n",
       "37    S399      NaN                         None   True    0.0  \n",
       "42    S395      NaN  /img/member/h001079_200.jpg   True    0.0  \n",
       "44    S345      NaN  /img/member/j000293_200.jpg   True    0.0  \n",
       "47    S389      NaN  /img/member/k000393_200.jpg   True    0.0  \n",
       "..     ...      ...                          ...    ...    ...  \n",
       "512    NaN        2                         None   True    0.0  \n",
       "519    NaN        7  /img/member/w000798_200.jpg   True    0.0  \n",
       "520    NaN        2                         None   True    0.0  \n",
       "526    NaN       11  /img/member/w000806_200.jpg   True    NaN  \n",
       "541    NaN        1  /img/member/z000017_200.jpg   True    0.0  \n",
       "\n",
       "[98 rows x 29 columns]"
      ],
      "text/html": "<div>\n<style scoped>\n    .dataframe tbody tr th:only-of-type {\n        vertical-align: middle;\n    }\n\n    .dataframe tbody tr th {\n        vertical-align: top;\n    }\n\n    .dataframe thead th {\n        text-align: right;\n    }\n</style>\n<table border=\"1\" class=\"dataframe\">\n  <thead>\n    <tr style=\"text-align: right;\">\n      <th></th>\n      <th>id</th>\n      <th>title</th>\n      <th>short_title</th>\n      <th>api_uri</th>\n      <th>first_name</th>\n      <th>middle_name</th>\n      <th>last_name</th>\n      <th>suffix</th>\n      <th>gender</th>\n      <th>party</th>\n      <th>...</th>\n      <th>seniority</th>\n      <th>ocd_id</th>\n      <th>state</th>\n      <th>senate_class</th>\n      <th>state_rank</th>\n      <th>lis_id</th>\n      <th>district</th>\n      <th>image</th>\n      <th>VTO20E</th>\n      <th>VTITAI</th>\n    </tr>\n  </thead>\n  <tbody>\n    <tr>\n      <th>24</th>\n      <td>C001098</td>\n      <td>Senator, 1st Class</td>\n      <td>Sen.</td>\n      <td>https://api.propublica.org/congress/v1/members...</td>\n      <td>Ted</td>\n      <td>None</td>\n      <td>Cruz</td>\n      <td>None</td>\n      <td>M</td>\n      <td>R</td>\n      <td>...</td>\n      <td>9</td>\n      <td>ocd-division/country:us/state:tx</td>\n      <td>TX</td>\n      <td>1</td>\n      <td>junior</td>\n      <td>S355</td>\n      <td>NaN</td>\n      <td>/img/member/c001098_200.jpg</td>\n      <td>True</td>\n      <td>0.0</td>\n    </tr>\n    <tr>\n      <th>37</th>\n      <td>H001089</td>\n      <td>Senator, 1st Class</td>\n      <td>Sen.</td>\n      <td>https://api.propublica.org/congress/v1/members...</td>\n      <td>Joshua</td>\n      <td>None</td>\n      <td>Hawley</td>\n      <td>None</td>\n      <td>M</td>\n      <td>R</td>\n      <td>...</td>\n      <td>1</td>\n      <td>ocd-division/country:us/state:mo</td>\n      <td>MO</td>\n      <td>1</td>\n      <td>junior</td>\n      <td>S399</td>\n      <td>NaN</td>\n      <td>None</td>\n      <td>True</td>\n      <td>0.0</td>\n    </tr>\n    <tr>\n      <th>42</th>\n      <td>H001079</td>\n      <td>Senator, 2nd Class</td>\n      <td>Sen.</td>\n      <td>https://api.propublica.org/congress/v1/members...</td>\n      <td>Cindy</td>\n      <td>None</td>\n      <td>Hyde-Smith</td>\n      <td>None</td>\n      <td>F</td>\n      <td>R</td>\n      <td>...</td>\n      <td>4</td>\n      <td>ocd-division/country:us/state:ms</td>\n      <td>MS</td>\n      <td>2</td>\n      <td>junior</td>\n      <td>S395</td>\n      <td>NaN</td>\n      <td>/img/member/h001079_200.jpg</td>\n      <td>True</td>\n      <td>0.0</td>\n    </tr>\n    <tr>\n      <th>44</th>\n      <td>J000293</td>\n      <td>Senator, 3rd Class</td>\n      <td>Sen.</td>\n      <td>https://api.propublica.org/congress/v1/members...</td>\n      <td>Ron</td>\n      <td>None</td>\n      <td>Johnson</td>\n      <td>None</td>\n      <td>M</td>\n      <td>R</td>\n      <td>...</td>\n      <td>11</td>\n      <td>ocd-division/country:us/state:wi</td>\n      <td>WI</td>\n      <td>3</td>\n      <td>senior</td>\n      <td>S345</td>\n      <td>NaN</td>\n      <td>/img/member/j000293_200.jpg</td>\n      <td>True</td>\n      <td>0.0</td>\n    </tr>\n    <tr>\n      <th>47</th>\n      <td>K000393</td>\n      <td>Senator, 3rd Class</td>\n      <td>Sen.</td>\n      <td>https://api.propublica.org/congress/v1/members...</td>\n      <td>John</td>\n      <td>None</td>\n      <td>Kennedy</td>\n      <td>None</td>\n      <td>M</td>\n      <td>R</td>\n      <td>...</td>\n      <td>1</td>\n      <td>ocd-division/country:us/state:la</td>\n      <td>LA</td>\n      <td>3</td>\n      <td>junior</td>\n      <td>S389</td>\n      <td>NaN</td>\n      <td>/img/member/k000393_200.jpg</td>\n      <td>True</td>\n      <td>0.0</td>\n    </tr>\n    <tr>\n      <th>...</th>\n      <td>...</td>\n      <td>...</td>\n      <td>...</td>\n      <td>...</td>\n      <td>...</td>\n      <td>...</td>\n      <td>...</td>\n      <td>...</td>\n      <td>...</td>\n      <td>...</td>\n      <td>...</td>\n      <td>...</td>\n      <td>...</td>\n      <td>...</td>\n      <td>...</td>\n      <td>...</td>\n      <td>...</td>\n      <td>...</td>\n      <td>...</td>\n      <td>...</td>\n      <td>...</td>\n    </tr>\n    <tr>\n      <th>512</th>\n      <td>V000133</td>\n      <td>Representative</td>\n      <td>Rep.</td>\n      <td>https://api.propublica.org/congress/v1/members...</td>\n      <td>Jefferson</td>\n      <td>None</td>\n      <td>Van Drew</td>\n      <td>None</td>\n      <td>M</td>\n      <td>R</td>\n      <td>...</td>\n      <td>4</td>\n      <td>ocd-division/country:us/state:nj/cd:2</td>\n      <td>NJ</td>\n      <td>NaN</td>\n      <td>NaN</td>\n      <td>NaN</td>\n      <td>2</td>\n      <td>None</td>\n      <td>True</td>\n      <td>0.0</td>\n    </tr>\n    <tr>\n      <th>519</th>\n      <td>W000798</td>\n      <td>Representative</td>\n      <td>Rep.</td>\n      <td>https://api.propublica.org/congress/v1/members...</td>\n      <td>Tim</td>\n      <td>None</td>\n      <td>Walberg</td>\n      <td>None</td>\n      <td>M</td>\n      <td>R</td>\n      <td>...</td>\n      <td>12</td>\n      <td>ocd-division/country:us/state:mi/cd:7</td>\n      <td>MI</td>\n      <td>NaN</td>\n      <td>NaN</td>\n      <td>NaN</td>\n      <td>7</td>\n      <td>/img/member/w000798_200.jpg</td>\n      <td>True</td>\n      <td>0.0</td>\n    </tr>\n    <tr>\n      <th>520</th>\n      <td>W000813</td>\n      <td>Representative</td>\n      <td>Rep.</td>\n      <td>https://api.propublica.org/congress/v1/members...</td>\n      <td>Jackie</td>\n      <td>None</td>\n      <td>Walorski</td>\n      <td>None</td>\n      <td>F</td>\n      <td>R</td>\n      <td>...</td>\n      <td>10</td>\n      <td>ocd-division/country:us/state:in/cd:2</td>\n      <td>IN</td>\n      <td>NaN</td>\n      <td>NaN</td>\n      <td>NaN</td>\n      <td>2</td>\n      <td>None</td>\n      <td>True</td>\n      <td>0.0</td>\n    </tr>\n    <tr>\n      <th>526</th>\n      <td>W000806</td>\n      <td>Representative</td>\n      <td>Rep.</td>\n      <td>https://api.propublica.org/congress/v1/members...</td>\n      <td>Daniel</td>\n      <td>None</td>\n      <td>Webster</td>\n      <td>None</td>\n      <td>M</td>\n      <td>R</td>\n      <td>...</td>\n      <td>12</td>\n      <td>ocd-division/country:us/state:fl/cd:11</td>\n      <td>FL</td>\n      <td>NaN</td>\n      <td>NaN</td>\n      <td>NaN</td>\n      <td>11</td>\n      <td>/img/member/w000806_200.jpg</td>\n      <td>True</td>\n      <td>NaN</td>\n    </tr>\n    <tr>\n      <th>541</th>\n      <td>Z000017</td>\n      <td>Representative</td>\n      <td>Rep.</td>\n      <td>https://api.propublica.org/congress/v1/members...</td>\n      <td>Lee</td>\n      <td>None</td>\n      <td>Zeldin</td>\n      <td>None</td>\n      <td>M</td>\n      <td>R</td>\n      <td>...</td>\n      <td>8</td>\n      <td>ocd-division/country:us/state:ny/cd:1</td>\n      <td>NY</td>\n      <td>NaN</td>\n      <td>NaN</td>\n      <td>NaN</td>\n      <td>1</td>\n      <td>/img/member/z000017_200.jpg</td>\n      <td>True</td>\n      <td>0.0</td>\n    </tr>\n  </tbody>\n</table>\n<p>98 rows × 29 columns</p>\n</div>"
     },
     "metadata": {},
     "execution_count": 78
    }
   ],
   "source": [
    "df[df['VTO20E'] == True]"
   ]
  },
  {
   "cell_type": "code",
   "execution_count": null,
   "metadata": {},
   "outputs": [],
   "source": []
  }
 ]
}