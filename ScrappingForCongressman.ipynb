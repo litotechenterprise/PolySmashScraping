{
 "metadata": {
  "language_info": {
   "codemirror_mode": {
    "name": "ipython",
    "version": 3
   },
   "file_extension": ".py",
   "mimetype": "text/x-python",
   "name": "python",
   "nbconvert_exporter": "python",
   "pygments_lexer": "ipython3",
   "version": "3.9.1-final"
  },
  "orig_nbformat": 2,
  "kernelspec": {
   "name": "python3",
   "display_name": "Python 3.9.1 64-bit",
   "metadata": {
    "interpreter": {
     "hash": "7812ea015bdcee6f23a998adcdd2ef97c151c0c241b7b7070987d9313e41299d"
    }
   }
  }
 },
 "nbformat": 4,
 "nbformat_minor": 2,
 "cells": [
  {
   "cell_type": "code",
   "execution_count": 3,
   "metadata": {},
   "outputs": [],
   "source": [
    "# import libraries\n",
    "import requests\n",
    "import json\n",
    "from bs4 import BeautifulSoup\n",
    "import pandas as pd\n",
    "import numpy as np\n",
    "\n",
    "# api requests\n",
    "# Currently we are on congress 117\n",
    "\n",
    "\n",
    "# Senator api request\n",
    "Senator_response = requests.get(\n",
    "    'https://api.propublica.org/congress/v1/117/senate/members.json',\n",
    "    headers={'X-API-Key': 'PTmyeOwqEcHo6ZIRbr76DrAFRG649DHtwaAJAsXS'}\n",
    ")\n",
    "# House api request\n",
    "House_response = requests.get(\n",
    "    'https://api.propublica.org/congress/v1/117/house/members.json',\n",
    "    headers={'X-API-Key': 'PTmyeOwqEcHo6ZIRbr76DrAFRG649DHtwaAJAsXS'}\n",
    ")\n",
    "\n",
    "#convert responses into json\n",
    "senate_json_response = Senator_response.json()\n",
    "house_json_response = House_response.json()"
   ]
  },
  {
   "cell_type": "code",
   "execution_count": 4,
   "metadata": {},
   "outputs": [
    {
     "output_type": "stream",
     "name": "stdout",
     "text": [
      "102\n440\n"
     ]
    }
   ],
   "source": [
    "\n",
    "# Senator array\n",
    "Senate = senate_json_response['results'][0][\"members\"]\n",
    "print(len(Senate))\n",
    "\n",
    "# House array\n",
    "House = house_json_response['results'][0][\"members\"]    \n",
    "print(len(House))"
   ]
  },
  {
   "cell_type": "code",
   "execution_count": 5,
   "metadata": {},
   "outputs": [
    {
     "output_type": "stream",
     "name": "stdout",
     "text": [
      "542\n"
     ]
    }
   ],
   "source": [
    "#Congress Array\n",
    "Congress = Senate + House\n",
    "print(len(Congress))"
   ]
  },
  {
   "cell_type": "code",
   "execution_count": 6,
   "metadata": {},
   "outputs": [],
   "source": [
    "# Convert array in Dataframe\n",
    "df = pd.DataFrame(Congress)"
   ]
  },
  {
   "cell_type": "code",
   "execution_count": 7,
   "metadata": {},
   "outputs": [],
   "source": [
    "#dropping unnessary columns from dataframe\n",
    "df = df.drop(['date_of_birth', 'twitter_account','facebook_account','youtube_account', 'rss_url','contact_form', 'in_office', 'ideal_point', 'contact_form','next_election',\n",
    "'total_votes', 'missed_votes', 'total_present', 'last_updated', 'office', 'phone', 'fax', 'at_large', 'geoid', 'cook_pvi','dw_nominate', 'votes_with_party_pct', 'votes_with_party_pct', 'missed_votes_pct','votes_against_party_pct'], axis=1)"
   ]
  },
  {
   "cell_type": "code",
   "execution_count": 8,
   "metadata": {},
   "outputs": [
    {
     "output_type": "execute_result",
     "data": {
      "text/plain": [
       "Index(['id', 'title', 'short_title', 'api_uri', 'first_name', 'middle_name',\n",
       "       'last_name', 'suffix', 'gender', 'party', 'leadership_role',\n",
       "       'govtrack_id', 'cspan_id', 'votesmart_id', 'icpsr_id', 'crp_id',\n",
       "       'google_entity_id', 'fec_candidate_id', 'url', 'seniority', 'ocd_id',\n",
       "       'state', 'senate_class', 'state_rank', 'lis_id', 'district'],\n",
       "      dtype='object')"
      ]
     },
     "metadata": {},
     "execution_count": 8
    }
   ],
   "source": [
    "df.keys()"
   ]
  },
  {
   "cell_type": "code",
   "execution_count": 42,
   "metadata": {},
   "outputs": [],
   "source": [
    "# Column that we are adding to the dataframe\n",
    "df['image'] = \"None\"\n",
    "# VTO20E = Voted to overturn 2020 election\n",
    "df['VTO20E'] = False\n",
    "# VTITAI = Voted to impeach Trump after inserection\n",
    "df['VTITAI'] = 1.0   "
   ]
  },
  {
   "cell_type": "code",
   "execution_count": 10,
   "metadata": {},
   "outputs": [],
   "source": [
    "# States for scraping\n",
    "states = [\"alabama\", 'alaska',\"arizona\", \"arkansas\", \"california\", \"colorado\",'connecticut','delaware', 'florida','georgia', 'hawaii','idaho', 'illinois', 'indiana', 'iowa', 'kansas', 'kentucky', 'louisiana', 'maine', 'maryland', 'massachusetts', 'michigan', 'minnesota', 'mississippi', 'missouri','montana', 'nebraska','nevada', 'new%20hampshire', 'new%20jersey','new%20mexico', 'new%20york', 'north%20carolina', 'north%20dakota', 'ohio', 'oklahoma', 'oregon', 'pennsylvania','puerto%20rico', 'rhode%20island', 'south%20carolina', 'south%20dakota', 'tennessee', 'texas', 'utah', 'vermont', 'virginia', 'washington', 'west%20virginia', 'wisconsin', 'wyoming' ]\n",
    "\n",
    "Main_url = 'https://www.congress.gov/search?searchResultViewType=expanded&q={%22congress%22:[%22116%22],%22source%22:[%22members%22],%22search%22:%22'\n",
    "back_of_Main_url = \"%22}\"\n",
    "top_images_url = 'https://congress.gov'\n",
    "#reps with no photos on Congress.gov\n",
    "no_photos = []\n",
    "Congress_dic = {}\n",
    "Congress_dic['congress_info'] = []"
   ]
  },
  {
   "cell_type": "code",
   "execution_count": 11,
   "metadata": {},
   "outputs": [],
   "source": [
    "# Checking to see if there is a picture on the website\n",
    "def CheckForImg(str):\n",
    "    try:\n",
    "        rep_Img = rep.find(\"img\")['src']\n",
    "        return True\n",
    "    except:\n",
    "        return False"
   ]
  },
  {
   "cell_type": "code",
   "execution_count": 12,
   "metadata": {},
   "outputs": [],
   "source": [
    "# State Abbrevation Map Key\n",
    "state_abrv = {\"alabama\":'AL', 'alaska':'AL',\"arizona\":'AZ', \"arkansas\":'AK', \"california\":'CA', \"colorado\":'CO','connecticut':'CT','delaware':'DE', 'florida':'FL','georgia':'GA', 'hawaii':'HI','idaho':'ID', 'illinois':'IL', 'indiana':'ID', 'iowa':'IA', 'kansas':'KS', 'kentucky':'KY', 'louisiana':'LA', 'maine':'ME', 'maryland':'MD', 'massachusetts':'MA', 'michigan':\"MI\", 'minnesota':'MN', 'mississippi':'MS', 'missouri':'MS','montana':'MT', 'nebraska':'NE','nevada':'NV', 'new%20hampshire':'NH', 'new%20jersey':'NJ','new%20mexico':'NM', 'new%20york':'NY', 'north%20carolina':'NC', 'north%20dakota':'ND', 'ohio':'OH', 'oklahoma':'OK', 'oregon':'OR', 'pennsylvania':'PA','puerto%20rico':'PR','rhode%20island':'RI', 'south%20carolina':'SC', 'south%20dakota':'SD', 'tennessee':'TN', 'texas':'TX', 'utah':'UT', 'vermont':'VT', 'virginia':'VA', 'washington':'WA', 'west%20virginia':'WV', 'wisconsin':'WI', 'wyoming':'WY'}"
   ]
  },
  {
   "cell_type": "code",
   "execution_count": 50,
   "metadata": {},
   "outputs": [],
   "source": [
    "# # for loop that is going thru every state\n",
    "for state in states: \n",
    "    state_res = requests.get(Main_url+state+back_of_Main_url)\n",
    "    state_soup = BeautifulSoup(state_res.text, 'html.parser')\n",
    "    Rep_results = state_soup.findAll(\"li\", {\"class\":\"expanded\"})\n",
    "\n",
    "    for rep in Rep_results:\n",
    "        photo = CheckForImg(rep)\n",
    "        rep_name = rep.find(\"span\", {\"class\":\"result-heading\"}).text.split(' ')[1:]\n",
    "        rep_index = df.loc[(df['state'] == state_abrv[state]) & (df['last_name'] == rep_name[0][:-1])].index\n",
    "        if photo:\n",
    "            df.at[rep_index, 'image'] = rep_Img = rep.find(\"img\")['src']"
   ]
  },
  {
   "cell_type": "code",
   "execution_count": 43,
   "metadata": {},
   "outputs": [],
   "source": [
    "# Switching all House and Senate Republicans that they didnt want to impeach trump\n",
    "df.loc[(df.party == \"R\"), ['VTITAI']] = 0.0"
   ]
  },
  {
   "cell_type": "code",
   "execution_count": 46,
   "metadata": {},
   "outputs": [],
   "source": [
    "# House Members who didnt appear to vote on impeachmenting charges\n",
    "no_vote = [\"Kay Granger\", \"Andy Harris\", \"Greg Murphy\", \"Daniel Webster\"]\n",
    "for pussy in no_vote:\n",
    "    name = pussy.split(\" \")\n",
    "    rep_index = df.loc[(df['party'] == \"R\") & (df['last_name'] == name[1]) & (df['first_name'] == name[0])].index\n",
    "    df.at[rep_index, 'VTITAI'] = None"
   ]
  },
  {
   "cell_type": "code",
   "execution_count": 44,
   "metadata": {},
   "outputs": [],
   "source": [
    "# Republican House & Senate members who voted to impeach Trump\n",
    "RepHouseHeros = [\"Liz, Cheney\", \"Anthony, Gonzalez\", \"Jaime, Herrera Beutler\", \"John, Katko\", \"Adam, Kininger\", \"Peter, Meijer\", \"Dan, Newhouse\", \"Tom, Rice\", \"Fred, Upton\", \"David, Valadao\", \"Susan, Collins\", \"Lisa, Murkowski\", \"Mitt, Romney\", \"Ben, Sasse\", \" Bill, Cassidy\", \"Patrick, Toomey\", \"Richard, Burr\"]\n",
    "\n",
    "for hero in RepHouseHeros:\n",
    "    name = hero.split(\", \")\n",
    "    rep_index = df.loc[(df['party'] == \"R\") & (df['last_name'] == name[1]) & (df['first_name'] == name[0])].index\n",
    "    df.at[rep_index, 'VTITAI'] = 1.0"
   ]
  },
  {
   "cell_type": "code",
   "execution_count": 69,
   "metadata": {},
   "outputs": [],
   "source": [
    "# idiots who voted to overturn 2020 election\n",
    "idiots = [\"Tommy, Tuberville\", \"Rick, Scott\", \"Roger, Marshall\", \"John, Kennedy\", \"Cindy, Hyde-Smith\", \"Josh, Hawley\", \"Ted, Cruz\", \"Cynthia, Lummis\", \"Robert, Aderholt\", \"Mo, Brooks\", \"Jerry, Carl\", \"Barry, Moore\", \"Gary, Palmer\", \"Mike, Rogers\", \"Andy, Biggs\", \"Paul, Gosar\", \"Debbie, Lesko\", \"David, Schweikert\", \"Rick, Crawford\", \"Ken, Calvert\", \"Mike, Garcia\", \"Darrell, Issa\", \"Doug, LaMalfa\", \"Kevin, McCarthy\", \"Devin, Nunes\", \"Jay, Obernolte\", \"Lauren, Boebert\", \"Doug, Lamborn\", \"Kat, Cammack\", \"Mario, Diaz-Balart\", \"Byron, Donalds\", \"Neal, Dunn\", \"Scott, Franklin\", \"Matt, Gaetz\", \"Carlos, Gimenez\", \"Brian, Mast\", \"Bill, Posey\", \"John, Rutherford\", \"Greg, Steube\", \"Daniel, Webster\", \"Rick, Allen\", \"Buddy, Carter\", \"Andrew, Clyde\",\"Marjorie, Greene\", \"Jody, Hice\", \"Barry, LouderMilk\", \"Russ, Fulcher\", \"Mike, Bost\", \"Mary, Miller\", \"Jim, Barid\", \"Jim, Banks\", \"Greg, Pence\", \"Jackie, Walorski\", \"Ron, Estes\", \"Jacob, LaTurner\", \"Tracey, Mann\", \"Harold, Rogers\", \"Garret, Greaves\", \"Clay, Higgins\", \"Mike, Johnson\", \"Steve, Scalise\", \"Andy, Harris\", \"Jack, Bergman\", \"Lisa, McClain\", \"Tim, Walberg\", \"Michelle, Fischbach\", \"Jim, Hagedorn\", \"Michael, Guest\", \"Trent, Kelly\", \"Steven, Palazzo\", \"Sam, Graves\", \"Vicky, Hartzler\", \"Billy, Long\", \"Blaine, Luetkemeyer\", \"Jason, Smith\", \"Matt, Rosendale\", \"Dan, Bishop\", \"Ted, Budd\", \"Madison, Cawthorn\", \"Virginia, Foxx\", \"Richard, Hudson\", \"Greg, Murphy\", \"David, Rouzer\", \"Jeff, Van Drew\" , \"Yvette, Herrell\", \"Chris, Jacobs\", \"Nicole, Malliotakis\", \"Elise, Stefanik\", \"Lee, Zeldin\", \"Adrian, Smith\", \"Steve, Chabot\", \"Warren, Davidson\", \"Bob, Gibbs\", \"Bill, Johnson\", \"Jim, Jordan\", \"Stephaine, Bice\", \"Tom, Cole\", \"Kevin, Hern\", \"Frank, Lucas\", \"Markwayne, Mullin\", \"Cliff, Bentz\", \"John, Joyce\", \"Fred, Keller\", \"Mike, Kelly\", \"Daniel, Meuser\", \"Scott, Perry\", \"Guy, Reschenthaler\", \"Lloyd, Smucker\", \"Glenn, Thompson\", \"Jeff, Duncan\", \"Ralph, Norman\", \"Tom, Rice\", \"William, Timmons\", \"Joe, Wilson\", \"Tim, Burchett\", \"Scott, DesJarlais\", \"Chuck, Fleischmann\", \"Mark, Green\", \"Diana, Harshbarger\", \"David, Kustoff\", \"John, Rose\", \"Jodey, Arrington\", \"Brian, Babin\", \"Michael, Burgess\", \"John, Carter\", \"Michael, Cloud\", \"Pat, Fallon\", \"Louie, Gohmert\", \"Lance, Gooden\", \"Ronny, Jackson\", \"Troy, Nehls\", \"August, Pfluger\", \"Pete, Sessions\", \"Beth, Van Duyne\", \"Randy, Weber\", \"Roger, Williams\", \"Ron, Wright\", \"Burgess, Owens\", \"Chris, Stewart\", \"Ben, Cline\", \"Bob, Good\", \"Morgan, Griffith\", \"Robert, Wittman\", \"Carol, Miller\", \"Alex, Mooney\", \"Scott, Fitzgerald\", \"Tom, Tiffany\"]"
   ]
  },
  {
   "cell_type": "code",
   "execution_count": 72,
   "metadata": {},
   "outputs": [],
   "source": [
    "for idiot in idiots:\n",
    "    name = idiot.split(\", \")\n",
    "    rep_index = df.loc[(df['party'] == \"R\") & (df['first_name'] == name[0]) & (df['last_name'] == name[1])].index\n",
    "    df.at[rep_index, 'VTO20E'] = True"
   ]
  },
  {
   "cell_type": "code",
   "execution_count": 75,
   "metadata": {},
   "outputs": [],
   "source": [
    "# export Dataframe to CVS\n",
    "df.to_csv('CongressData.csv', index=False)"
   ]
  }
 ]
}